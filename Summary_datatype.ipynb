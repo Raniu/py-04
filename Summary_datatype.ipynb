{
  "nbformat": 4,
  "nbformat_minor": 0,
  "metadata": {
    "colab": {
      "name": "Summary_datatype.ipynb",
      "version": "0.3.2",
      "provenance": [],
      "collapsed_sections": [],
      "include_colab_link": true
    },
    "kernelspec": {
      "name": "python3",
      "display_name": "Python 3"
    }
  },
  "cells": [
    {
      "cell_type": "markdown",
      "metadata": {
        "id": "view-in-github",
        "colab_type": "text"
      },
      "source": [
        "[View in Colaboratory](https://colab.research.google.com/github/Raniu/py-04/blob/master/Summary_datatype.ipynb)"
      ]
    },
    {
      "metadata": {
        "id": "EQqrPcSG5ywS",
        "colab_type": "code",
        "colab": {}
      },
      "cell_type": "code",
      "source": [
        ""
      ],
      "execution_count": 0,
      "outputs": []
    },
    {
      "metadata": {
        "id": "nkXQhTu16BJb",
        "colab_type": "text"
      },
      "cell_type": "markdown",
      "source": [
        "## Summary of datatypes in python\n",
        "\n",
        "- list\n",
        "- dictionary\n",
        "- tuple\n",
        "- set\n",
        "- string\n"
      ]
    },
    {
      "metadata": {
        "id": "7KJ_CNFE6TN0",
        "colab_type": "text"
      },
      "cell_type": "markdown",
      "source": [
        "### 리스트 생성 및 항목 추가"
      ]
    },
    {
      "metadata": {
        "id": "g98nykq96Pzf",
        "colab_type": "code",
        "colab": {}
      },
      "cell_type": "code",
      "source": [
        "a = [10, 20, 30, 40, 50]"
      ],
      "execution_count": 0,
      "outputs": []
    },
    {
      "metadata": {
        "id": "FgEQ3NA67BgP",
        "colab_type": "code",
        "colab": {
          "base_uri": "https://localhost:8080/",
          "height": 53
        },
        "outputId": "9f1221ef-63a7-4b1f-c928-6662ebc525e7"
      },
      "cell_type": "code",
      "source": [
        "# 0,1,2...인덱스는 리스트 처음부터 시작\n",
        "#-1,-2... 인덱스는 리스트 마지막부터 시작\n",
        "\n",
        "print(\"a[0] ==\", a[0], \"a[2] ==\", a[2], \"a[4] ==\", a[4])\n",
        "print(\"a[-1] ==\", a[-1], \"a[-2] ==\", a[-2], \"a[-5] ==\", a[-5])"
      ],
      "execution_count": 2,
      "outputs": [
        {
          "output_type": "stream",
          "text": [
            "a[0] == 10 a[2] == 30 a[4] == 50\n",
            "a[-1] == 50 a[-2] == 40 a[-5] == 10\n"
          ],
          "name": "stdout"
        }
      ]
    },
    {
      "metadata": {
        "id": "QYiPnRrX7zfw",
        "colab_type": "code",
        "colab": {}
      },
      "cell_type": "code",
      "source": [
        "b=[10,20,\"Hello\",[True, 3.14]]"
      ],
      "execution_count": 0,
      "outputs": []
    },
    {
      "metadata": {
        "id": "Fd7QaEKU77h-",
        "colab_type": "code",
        "colab": {
          "base_uri": "https://localhost:8080/",
          "height": 53
        },
        "outputId": "39c51cc5-9382-4f55-bdf4-e270846477d7"
      },
      "cell_type": "code",
      "source": [
        "print(\"b[0] ==\", b[0], \"b[2] ==\", b[2], \"b[3] ==\", b[3])\n",
        "print(\"b[-1] ==\", b[-1], \"b[-2] ==\", b[-2], \"b[-4] ==\", b[-4])"
      ],
      "execution_count": 4,
      "outputs": [
        {
          "output_type": "stream",
          "text": [
            "b[0] == 10 b[2] == Hello b[3] == [True, 3.14]\n",
            "b[-1] == [True, 3.14] b[-2] == Hello b[-4] == 10\n"
          ],
          "name": "stdout"
        }
      ]
    },
    {
      "metadata": {
        "id": "WdMWYq_o8NIf",
        "colab_type": "code",
        "colab": {
          "base_uri": "https://localhost:8080/",
          "height": 53
        },
        "outputId": "fb819279-8c14-4bac-cfd2-0133ba1b971a"
      },
      "cell_type": "code",
      "source": [
        "## 노트 참조\n",
        "print(\"b[3][0] ==\", \"b[3][1] ==\", b[3][1])\n",
        "print(\"b[-1][-1] ==\", \"b[-1][-2] ==\", b[-1][-2])"
      ],
      "execution_count": 7,
      "outputs": [
        {
          "output_type": "stream",
          "text": [
            "b[3][0] == b[3][1] == 3.14\n",
            "b[-1][-1] == b[-1][-2] == True\n"
          ],
          "name": "stdout"
        }
      ]
    },
    {
      "metadata": {
        "id": "d7CF6h8z8sWJ",
        "colab_type": "code",
        "colab": {
          "base_uri": "https://localhost:8080/",
          "height": 35
        },
        "outputId": "e3f316f2-a742-4fa6-f953-058e3da80a2b"
      },
      "cell_type": "code",
      "source": [
        "print(b[-2][-2])"
      ],
      "execution_count": 6,
      "outputs": [
        {
          "output_type": "stream",
          "text": [
            "l\n"
          ],
          "name": "stdout"
        }
      ]
    },
    {
      "metadata": {
        "id": "aoDZ3vol_BLc",
        "colab_type": "code",
        "colab": {
          "base_uri": "https://localhost:8080/",
          "height": 71
        },
        "outputId": "d4a8fc2c-b2dc-454d-f4cc-26aa304bb0bb"
      },
      "cell_type": "code",
      "source": [
        "#a[0:2]\n",
        "#a[:3]\n",
        "#a[:]\n",
        "print(\"a[0:2] ==\", a[0:2], \", a[1:]==\",a[1:])\n",
        "print(\"a[:3] ==\", a[:3], \", a[:-2]==\",a[:-2])\n",
        "print(\"a[:] ==\", a[:])"
      ],
      "execution_count": 10,
      "outputs": [
        {
          "output_type": "stream",
          "text": [
            "a[0:2] == [10, 20] , a[1:]== [20, 30, 40, 50]\n",
            "a[:3] == [10, 20, 30] , a[:-2]== [10, 20, 30]\n",
            "a[:] == [10, 20, 30, 40, 50]\n"
          ],
          "name": "stdout"
        }
      ]
    },
    {
      "metadata": {
        "id": "XqkPe1NTB6a-",
        "colab_type": "text"
      },
      "cell_type": "markdown",
      "source": [
        "###튜플"
      ]
    },
    {
      "metadata": {
        "id": "4NN89Iz3C1Ec",
        "colab_type": "code",
        "colab": {}
      },
      "cell_type": "code",
      "source": [
        "a = (10, 20, 30, 40, 50)"
      ],
      "execution_count": 0,
      "outputs": []
    },
    {
      "metadata": {
        "id": "FQQnEglTCOCV",
        "colab_type": "code",
        "colab": {
          "base_uri": "https://localhost:8080/",
          "height": 53
        },
        "outputId": "37df309e-27ce-4ef1-e1fd-e22373ad1e6d"
      },
      "cell_type": "code",
      "source": [
        "#튜플이 업데이트 불가\n",
        "print(\"a[0] ==\", a[0], \"a[-2] ==\", a[-2], \"a[:] ==\", a[:])\n",
        "print(\"a[0:2] ==\", a[0:2], \", a[1:]==\",a[1:])"
      ],
      "execution_count": 15,
      "outputs": [
        {
          "output_type": "stream",
          "text": [
            "a[0] == 10 a[-2] == 40 a[:] == (10, 20, 30, 40, 50)\n",
            "a[0:2] == (10, 20) , a[1:]== (20, 30, 40, 50)\n"
          ],
          "name": "stdout"
        }
      ]
    },
    {
      "metadata": {
        "id": "KB5OWiFoCoZs",
        "colab_type": "code",
        "colab": {
          "base_uri": "https://localhost:8080/",
          "height": 172
        },
        "outputId": "b794b301-fd01-4632-e5d2-8671a1e45a40"
      },
      "cell_type": "code",
      "source": [
        "a[0]=100 #튜플이 업데이트 불가"
      ],
      "execution_count": 16,
      "outputs": [
        {
          "output_type": "error",
          "ename": "TypeError",
          "evalue": "ignored",
          "traceback": [
            "\u001b[0;31m---------------------------------------------------------------------------\u001b[0m",
            "\u001b[0;31mTypeError\u001b[0m                                 Traceback (most recent call last)",
            "\u001b[0;32m<ipython-input-16-2103c4a1afcc>\u001b[0m in \u001b[0;36m<module>\u001b[0;34m()\u001b[0m\n\u001b[0;32m----> 1\u001b[0;31m \u001b[0ma\u001b[0m\u001b[0;34m[\u001b[0m\u001b[0;36m0\u001b[0m\u001b[0;34m]\u001b[0m\u001b[0;34m=\u001b[0m\u001b[0;36m100\u001b[0m \u001b[0;31m#튜플이 업데이트 불가\u001b[0m\u001b[0;34m\u001b[0m\u001b[0m\n\u001b[0m",
            "\u001b[0;31mTypeError\u001b[0m: 'tuple' object does not support item assignment"
          ]
        }
      ]
    },
    {
      "metadata": {
        "id": "nyI4-NmxC99c",
        "colab_type": "text"
      },
      "cell_type": "markdown",
      "source": [
        "### Dictionary"
      ]
    },
    {
      "metadata": {
        "id": "ccH0OEVtCq3W",
        "colab_type": "code",
        "colab": {}
      },
      "cell_type": "code",
      "source": [
        " score = { \"Kim\":90, \"Lee\":85, \"JUN\":95} #딕셔너리 생성"
      ],
      "execution_count": 0,
      "outputs": []
    },
    {
      "metadata": {
        "id": "zoSZTuMEDa2Y",
        "colab_type": "code",
        "colab": {
          "base_uri": "https://localhost:8080/",
          "height": 35
        },
        "outputId": "72d8af33-b0d5-44a6-e3d7-68bb30ad3d93"
      },
      "cell_type": "code",
      "source": [
        "print(\"score ['Kim'] ==\",  score ['Kim'])"
      ],
      "execution_count": 18,
      "outputs": [
        {
          "output_type": "stream",
          "text": [
            "score ['Kim'] == 90\n"
          ],
          "name": "stdout"
        }
      ]
    },
    {
      "metadata": {
        "id": "6jfyjGCzDxQ5",
        "colab_type": "code",
        "colab": {}
      },
      "cell_type": "code",
      "source": [
        "score['HAN']=100 #새 원소 추가"
      ],
      "execution_count": 0,
      "outputs": []
    },
    {
      "metadata": {
        "id": "opqbo38ID8RE",
        "colab_type": "code",
        "colab": {
          "base_uri": "https://localhost:8080/",
          "height": 136
        },
        "outputId": "a93777d6-de56-4a9f-cba4-38871cb7d53f"
      },
      "cell_type": "code",
      "source": [
        "print(\"score key ==\",score key())\n",
        "print(\"score values ==\",score.values())\n",
        "print(\"score Items ==\",score.Items())"
      ],
      "execution_count": 20,
      "outputs": [
        {
          "output_type": "error",
          "ename": "SyntaxError",
          "evalue": "ignored",
          "traceback": [
            "\u001b[0;36m  File \u001b[0;32m\"<ipython-input-20-f944cf05c796>\"\u001b[0;36m, line \u001b[0;32m1\u001b[0m\n\u001b[0;31m    print(\"score key ==\",score key())\u001b[0m\n\u001b[0m                                 ^\u001b[0m\n\u001b[0;31mSyntaxError\u001b[0m\u001b[0;31m:\u001b[0m invalid syntax\n"
          ]
        }
      ]
    },
    {
      "metadata": {
        "id": "Z1oUMsbXEdVt",
        "colab_type": "text"
      },
      "cell_type": "markdown",
      "source": [
        "### String"
      ]
    },
    {
      "metadata": {
        "id": "Fyuv_whhEcGw",
        "colab_type": "code",
        "colab": {}
      },
      "cell_type": "code",
      "source": [
        "a='A73,CD'"
      ],
      "execution_count": 0,
      "outputs": []
    },
    {
      "metadata": {
        "id": "_YHhB0tJEkQV",
        "colab_type": "code",
        "colab": {
          "base_uri": "https://localhost:8080/",
          "height": 35
        },
        "outputId": "88b99fba-04b4-4bce-beac-4a401de19860"
      },
      "cell_type": "code",
      "source": [
        "a[1]"
      ],
      "execution_count": 26,
      "outputs": [
        {
          "output_type": "execute_result",
          "data": {
            "text/plain": [
              "'7'"
            ]
          },
          "metadata": {
            "tags": []
          },
          "execution_count": 26
        }
      ]
    },
    {
      "metadata": {
        "id": "pkkD46XkErIl",
        "colab_type": "code",
        "colab": {
          "base_uri": "https://localhost:8080/",
          "height": 35
        },
        "outputId": "b590a8ba-010c-4b74-e144-8380d55856cf"
      },
      "cell_type": "code",
      "source": [
        "a = a +', EFG'\n",
        "a"
      ],
      "execution_count": 27,
      "outputs": [
        {
          "output_type": "execute_result",
          "data": {
            "text/plain": [
              "'A73,CD, EFG'"
            ]
          },
          "metadata": {
            "tags": []
          },
          "execution_count": 27
        }
      ]
    },
    {
      "metadata": {
        "id": "uOSWvps1GWAV",
        "colab_type": "text"
      },
      "cell_type": "markdown",
      "source": [
        "###useful function - type(),len(),size()"
      ]
    },
    {
      "metadata": {
        "id": "F83DcFVIEwtg",
        "colab_type": "code",
        "colab": {
          "base_uri": "https://localhost:8080/",
          "height": 244
        },
        "outputId": "76feb3c1-73d2-45d8-f318-cd18e14ca81a"
      },
      "cell_type": "code",
      "source": [
        "a = [10, 20, 30, 40, 50]\n",
        "b = (10, 20, 30, 40, 50)\n",
        "c = { \"Kim\":90, \"Lee\":80}\n",
        "d = 'Seoul, Korea'\n",
        "e = [[100,200], [300,400], [500,600]]\n",
        "\n",
        "print(type(a), type(b), type(c), type(d), type(e))\n",
        "print(len(a), len(b), len(c), len(d), len(e))\n",
        "print(size(e))"
      ],
      "execution_count": 34,
      "outputs": [
        {
          "output_type": "stream",
          "text": [
            "<class 'list'> <class 'tuple'> <class 'dict'> <class 'str'> <class 'list'>\n",
            "5 5 2 12 3\n"
          ],
          "name": "stdout"
        },
        {
          "output_type": "error",
          "ename": "NameError",
          "evalue": "ignored",
          "traceback": [
            "\u001b[0;31m---------------------------------------------------------------------------\u001b[0m",
            "\u001b[0;31mNameError\u001b[0m                                 Traceback (most recent call last)",
            "\u001b[0;32m<ipython-input-34-f4951895d261>\u001b[0m in \u001b[0;36m<module>\u001b[0;34m()\u001b[0m\n\u001b[1;32m      7\u001b[0m \u001b[0mprint\u001b[0m\u001b[0;34m(\u001b[0m\u001b[0mtype\u001b[0m\u001b[0;34m(\u001b[0m\u001b[0ma\u001b[0m\u001b[0;34m)\u001b[0m\u001b[0;34m,\u001b[0m \u001b[0mtype\u001b[0m\u001b[0;34m(\u001b[0m\u001b[0mb\u001b[0m\u001b[0;34m)\u001b[0m\u001b[0;34m,\u001b[0m \u001b[0mtype\u001b[0m\u001b[0;34m(\u001b[0m\u001b[0mc\u001b[0m\u001b[0;34m)\u001b[0m\u001b[0;34m,\u001b[0m \u001b[0mtype\u001b[0m\u001b[0;34m(\u001b[0m\u001b[0md\u001b[0m\u001b[0;34m)\u001b[0m\u001b[0;34m,\u001b[0m \u001b[0mtype\u001b[0m\u001b[0;34m(\u001b[0m\u001b[0me\u001b[0m\u001b[0;34m)\u001b[0m\u001b[0;34m)\u001b[0m\u001b[0;34m\u001b[0m\u001b[0m\n\u001b[1;32m      8\u001b[0m \u001b[0mprint\u001b[0m\u001b[0;34m(\u001b[0m\u001b[0mlen\u001b[0m\u001b[0;34m(\u001b[0m\u001b[0ma\u001b[0m\u001b[0;34m)\u001b[0m\u001b[0;34m,\u001b[0m \u001b[0mlen\u001b[0m\u001b[0;34m(\u001b[0m\u001b[0mb\u001b[0m\u001b[0;34m)\u001b[0m\u001b[0;34m,\u001b[0m \u001b[0mlen\u001b[0m\u001b[0;34m(\u001b[0m\u001b[0mc\u001b[0m\u001b[0;34m)\u001b[0m\u001b[0;34m,\u001b[0m \u001b[0mlen\u001b[0m\u001b[0;34m(\u001b[0m\u001b[0md\u001b[0m\u001b[0;34m)\u001b[0m\u001b[0;34m,\u001b[0m \u001b[0mlen\u001b[0m\u001b[0;34m(\u001b[0m\u001b[0me\u001b[0m\u001b[0;34m)\u001b[0m\u001b[0;34m)\u001b[0m\u001b[0;34m\u001b[0m\u001b[0m\n\u001b[0;32m----> 9\u001b[0;31m \u001b[0mprint\u001b[0m\u001b[0;34m(\u001b[0m\u001b[0msize\u001b[0m\u001b[0;34m(\u001b[0m\u001b[0me\u001b[0m\u001b[0;34m)\u001b[0m\u001b[0;34m)\u001b[0m\u001b[0;34m\u001b[0m\u001b[0m\n\u001b[0m",
            "\u001b[0;31mNameError\u001b[0m: name 'size' is not defined"
          ]
        }
      ]
    },
    {
      "metadata": {
        "id": "aOyJcmAuF2cm",
        "colab_type": "code",
        "colab": {
          "base_uri": "https://localhost:8080/",
          "height": 35
        },
        "outputId": "f24912f4-b8ba-4f85-82c2-7f7c661cb63e"
      },
      "cell_type": "code",
      "source": [
        "a = 'Hello'\n",
        "b = { \"Kim\":90, \"Lee\":80}\n",
        "print(list(a), list(b.keys()), list(b.values()), list(b.items()))\n"
      ],
      "execution_count": 35,
      "outputs": [
        {
          "output_type": "stream",
          "text": [
            "['H', 'e', 'l', 'l', 'o'] ['Kim', 'Lee'] [90, 80] [('Kim', 90), ('Lee', 80)]\n"
          ],
          "name": "stdout"
        }
      ]
    },
    {
      "metadata": {
        "id": "sF-pUbqMH_Iz",
        "colab_type": "code",
        "colab": {}
      },
      "cell_type": "code",
      "source": [
        ""
      ],
      "execution_count": 0,
      "outputs": []
    }
  ]
}