{
  "nbformat": 4,
  "nbformat_minor": 0,
  "metadata": {
    "colab": {
      "name": "wk07_class_oop",
      "version": "0.3.2",
      "provenance": [],
      "collapsed_sections": [
        "CuoG5MXH8uDg"
      ],
      "include_colab_link": true
    },
    "kernelspec": {
      "display_name": "Python 3",
      "language": "python",
      "name": "python3"
    }
  },
  "cells": [
    {
      "cell_type": "markdown",
      "metadata": {
        "id": "view-in-github",
        "colab_type": "text"
      },
      "source": [
        "<a href=\"https://colab.research.google.com/github/Raniu/py-04/blob/master/wk07_class_oop.ipynb\" target=\"_parent\"><img src=\"https://colab.research.google.com/assets/colab-badge.svg\" alt=\"Open In Colab\"/></a>"
      ]
    },
    {
      "metadata": {
        "id": "J3G0De8tDNve",
        "colab_type": "toc"
      },
      "cell_type": "markdown",
      "source": [
        ">[Chapter 06-01](#scrollTo=XwW_pX8j8uBu)\n",
        "\n",
        ">>[클래스와 객체 지향 개발](#scrollTo=XwW_pX8j8uBu)\n",
        "\n",
        ">>[파이썬에서 클래스 사용하기](#scrollTo=ozNUGWZG8uBw)\n",
        "\n",
        ">>>[클래스로 객체(인스턴스) 만들기](#scrollTo=h-kGSogZ8uBx)\n",
        "\n",
        ">>>[인스턴스 이용하기](#scrollTo=ZN5MyrI38uB2)\n",
        "\n",
        ">[Chapter06-02](#scrollTo=U_Vs2H6Q8uCK)\n",
        "\n",
        ">>[클래스 만들기](#scrollTo=U_Vs2H6Q8uCK)\n",
        "\n",
        ">>>[클래스 정의하기](#scrollTo=lWDT6YVL8uCK)\n",
        "\n",
        ">>>[인스턴스의 속성](#scrollTo=p_tD2uUT8uCP)\n",
        "\n",
        ">>>[메쏘드의 정의와 초기화 메쏘드 ‘init( )’](#scrollTo=Z0RYW-b-8uCf)\n",
        "\n",
        ">>>[메쏘드와 제1인수 ‘self’](#scrollTo=0rL7vlBx8uCn)\n",
        "\n",
        ">>>[속성의 은폐](#scrollTo=L5-YMoVm8uCz)\n",
        "\n",
        ">>>[다음 변수들의 차이점을 이해!](#scrollTo=SnhdSJY28uDK)\n",
        "\n",
        ">[Chapter07-01](#scrollTo=VcM1gwr08uDL)\n",
        "\n",
        ">>[클래스 상속과 고급 객체 지향 기능](#scrollTo=VcM1gwr08uDL)\n",
        "\n",
        ">>[클래스를 상속한다](#scrollTo=XNcJ8lO18uDM)\n",
        "\n",
        ">>>[초기화 메쏘드의 오버라이드](#scrollTo=AyuC1J6E8uDQ)\n",
        "\n",
        ">>>[Solution to the above error](#scrollTo=CuoG5MXH8uDg)\n",
        "\n",
        ">>>[super( )를 사용한 슈퍼클래스의 취득](#scrollTo=qeigQ-aa8uDh)\n",
        "\n",
        ">>>[슬롯(Slot)](#scrollTo=gicOMSI-8uDm)\n",
        "\n",
        ">>>[프로퍼티(property)](#scrollTo=lw45IdXa8uDr)\n",
        "\n",
        ">>>[더미 데코레이터를 사용하면 보다 간편하게 속성을 정의 할 수 있다](#scrollTo=6Mk434AH8uD1)\n",
        "\n",
        ">[Chapter 07-03](#scrollTo=gzCZ54Tn8uD7)\n",
        "\n",
        ">>[내장형을 상속하다](#scrollTo=gzCZ54Tn8uD7)\n",
        "\n",
        ">>[딕셔너리형을 상속한다](#scrollTo=BPEGaKcx8uD8)\n",
        "\n",
        ">[Chapter08-01](#scrollTo=jn9ZMcWV8uEG)\n",
        "\n",
        ">>[모듈 파일 만들기](#scrollTo=jn9ZMcWV8uEG)\n",
        "\n",
        ">>>[모듈을 import하는 과정](#scrollTo=b6FpR8qy8uEH)\n",
        "\n",
        ">>>[파일을 실행할 때만 실행하는 블록](#scrollTo=M_5ngQDA8uEN)\n",
        "\n",
        ">>>[클래스와 모듈](#scrollTo=caokXSrN8uEP)\n",
        "\n",
        ">>[[wk09] homework](#scrollTo=u4_rFTiC8uEW)\n",
        "\n",
        ">>>>[제출 파일명: Summary_class.ipynb](#scrollTo=u4_rFTiC8uEW)\n",
        "\n"
      ]
    },
    {
      "metadata": {
        "id": "XwW_pX8j8uBu",
        "colab_type": "text"
      },
      "cell_type": "markdown",
      "source": [
        "# Chapter 06-01\n",
        "## 클래스와 객체 지향 개발"
      ]
    },
    {
      "metadata": {
        "id": "ozNUGWZG8uBw",
        "colab_type": "text"
      },
      "cell_type": "markdown",
      "source": [
        "## 파이썬에서 클래스 사용하기"
      ]
    },
    {
      "metadata": {
        "id": "h-kGSogZ8uBx",
        "colab_type": "text"
      },
      "cell_type": "markdown",
      "source": [
        "### 클래스로 객체(인스턴스) 만들기"
      ]
    },
    {
      "metadata": {
        "id": "jdF00SwU8uBx",
        "colab_type": "code",
        "colab": {}
      },
      "cell_type": "code",
      "source": [
        "# Decimal 클래스를 사용할 준비\n",
        "from decimal import Decimal #decimal 모듈에서  Decimal 클래스를 가져옴"
      ],
      "execution_count": 0,
      "outputs": []
    },
    {
      "metadata": {
        "id": "TacZIZ6T8uB0",
        "colab_type": "code",
        "colab": {
          "base_uri": "https://localhost:8080/",
          "height": 35
        },
        "outputId": "02657c16-243a-40a3-9f9e-b45800251233"
      },
      "cell_type": "code",
      "source": [
        "# Deciaml 클래스 사용하기\n",
        "d = Decimal(10)    # Deciaml 클래스에 정수 10인 객체 인스턴스 만들기\n",
        "print(d)"
      ],
      "execution_count": 3,
      "outputs": [
        {
          "output_type": "stream",
          "text": [
            "10\n"
          ],
          "name": "stdout"
        }
      ]
    },
    {
      "metadata": {
        "id": "ZN5MyrI38uB2",
        "colab_type": "text"
      },
      "cell_type": "markdown",
      "source": [
        "### 인스턴스 이용하기"
      ]
    },
    {
      "metadata": {
        "id": "23RlkgSA8uB2",
        "colab_type": "code",
        "colab": {
          "base_uri": "https://localhost:8080/",
          "height": 35
        },
        "outputId": "e032338a-7202-4d94-c047-e9d49f398689"
      },
      "cell_type": "code",
      "source": [
        "# 인스턴스를 사용한 연산\n",
        "print(d+20)        # Decimal 클래스 인스턴스에 수치 20 더하기"
      ],
      "execution_count": 4,
      "outputs": [
        {
          "output_type": "stream",
          "text": [
            "30\n"
          ],
          "name": "stdout"
        }
      ]
    },
    {
      "metadata": {
        "id": "vylUaNo58uB5",
        "colab_type": "code",
        "colab": {
          "base_uri": "https://localhost:8080/",
          "height": 35
        },
        "outputId": "36b02aec-63fb-4e81-c4bc-b855cd590866"
      },
      "cell_type": "code",
      "source": [
        "# Decimal형을 사용한 비교\n",
        "0.1*3 == 0.3    # 0.1에 3을 곱해서 0.3과 비교 (실수 연산이 파이썬의 기본 연산 방법) -언더플로우 오류 발생"
      ],
      "execution_count": 5,
      "outputs": [
        {
          "output_type": "execute_result",
          "data": {
            "text/plain": [
              "False"
            ]
          },
          "metadata": {
            "tags": []
          },
          "execution_count": 5
        }
      ]
    },
    {
      "metadata": {
        "id": "z7BshuFK8uB9",
        "colab_type": "code",
        "colab": {
          "base_uri": "https://localhost:8080/",
          "height": 35
        },
        "outputId": "a07c83ea-6865-44a7-ff9c-8fbf9a3d157a"
      },
      "cell_type": "code",
      "source": [
        "0.1*3 ,Decimal(\"0.1\")*3 # 피드백으로 계속 반복해서 실행하면 값이 달라질 수 있음"
      ],
      "execution_count": 9,
      "outputs": [
        {
          "output_type": "execute_result",
          "data": {
            "text/plain": [
              "(0.30000000000000004, Decimal('0.3'))"
            ]
          },
          "metadata": {
            "tags": []
          },
          "execution_count": 9
        }
      ]
    },
    {
      "metadata": {
        "id": "3sLauzI38uCB",
        "colab_type": "code",
        "colab": {
          "base_uri": "https://localhost:8080/",
          "height": 35
        },
        "outputId": "d4c72361-c3e0-46ef-e4fa-665766b302db"
      },
      "cell_type": "code",
      "source": [
        "# Decimal형을 사용해야 예상대로 비교\n",
        "Decimal(\"0.1\")*3 == Decimal(\"0.3\") #, Decimal(\"0.1\")*3 == 0.3"
      ],
      "execution_count": 10,
      "outputs": [
        {
          "output_type": "execute_result",
          "data": {
            "text/plain": [
              "True"
            ]
          },
          "metadata": {
            "tags": []
          },
          "execution_count": 10
        }
      ]
    },
    {
      "metadata": {
        "id": "XEfZBKMK8uCF",
        "colab_type": "code",
        "colab": {
          "base_uri": "https://localhost:8080/",
          "height": 35
        },
        "outputId": "3d4cda7c-b832-4cae-c678-93f58eab83a7"
      },
      "cell_type": "code",
      "source": [
        "# 제곱근 계산하기 d(10)\n",
        "print(d.sqrt())    # 인스턴스 d에 sqrt() 메쏘드를 사용함 (Decimal class에 내장된 sqrt() 사용)"
      ],
      "execution_count": 11,
      "outputs": [
        {
          "output_type": "stream",
          "text": [
            "3.162277660168379331998893544\n"
          ],
          "name": "stdout"
        }
      ]
    },
    {
      "metadata": {
        "id": "GR_KOW1H8uCI",
        "colab_type": "code",
        "colab": {
          "base_uri": "https://localhost:8080/",
          "height": 172
        },
        "outputId": "0dd985d9-c56b-4bb8-e099-200d6bb67b29"
      },
      "cell_type": "code",
      "source": [
        "sqrt(10) #sqrt함수를 decimal에서 import 사용해야 함?!?!?"
      ],
      "execution_count": 13,
      "outputs": [
        {
          "output_type": "error",
          "ename": "NameError",
          "evalue": "ignored",
          "traceback": [
            "\u001b[0;31m---------------------------------------------------------------------------\u001b[0m",
            "\u001b[0;31mNameError\u001b[0m                                 Traceback (most recent call last)",
            "\u001b[0;32m<ipython-input-13-ab4ac85a1962>\u001b[0m in \u001b[0;36m<module>\u001b[0;34m()\u001b[0m\n\u001b[0;32m----> 1\u001b[0;31m \u001b[0msqrt\u001b[0m\u001b[0;34m(\u001b[0m\u001b[0;36m10\u001b[0m\u001b[0;34m)\u001b[0m \u001b[0;31m#sqrt함수를 사용하기 위해서는 decimal에서 사용해야 함?!?!?\u001b[0m\u001b[0;34m\u001b[0m\u001b[0m\n\u001b[0m",
            "\u001b[0;31mNameError\u001b[0m: name 'sqrt' is not defined"
          ]
        }
      ]
    },
    {
      "metadata": {
        "id": "U_Vs2H6Q8uCK",
        "colab_type": "text"
      },
      "cell_type": "markdown",
      "source": [
        "# Chapter06-02\n",
        "## 클래스 만들기"
      ]
    },
    {
      "metadata": {
        "id": "lWDT6YVL8uCK",
        "colab_type": "text"
      },
      "cell_type": "markdown",
      "source": [
        "### 클래스 정의하기"
      ]
    },
    {
      "metadata": {
        "id": "mzCAhUsS8uCN",
        "colab_type": "code",
        "colab": {}
      },
      "cell_type": "code",
      "source": [
        "# MyClass 클래스를 정의한다\n",
        "class MyClass:     # 클래스 정의\n",
        "    pass           # 처리 내용을 기술함"
      ],
      "execution_count": 0,
      "outputs": []
    },
    {
      "metadata": {
        "id": "deZmOmdS8uCP",
        "colab_type": "text"
      },
      "cell_type": "markdown",
      "source": [
        "> pass 문은 아무것도 하지 않습니다. 최소한의 클래스를 만들 때 흔히 사용된다:"
      ]
    },
    {
      "metadata": {
        "id": "p_tD2uUT8uCP",
        "colab_type": "text"
      },
      "cell_type": "markdown",
      "source": [
        "### 인스턴스의 속성"
      ]
    },
    {
      "metadata": {
        "id": "D_MXsuqC8uCQ",
        "colab_type": "code",
        "colab": {}
      },
      "cell_type": "code",
      "source": [
        "# MyClass 인스턴스(유사:객체) 만들기\n",
        "i = MyClass()   # 변수에 인스턴스를 대입함\n",
        "# 클래스: 설계도 "
      ],
      "execution_count": 0,
      "outputs": []
    },
    {
      "metadata": {
        "id": "yQQlMeha8uCS",
        "colab_type": "code",
        "colab": {
          "base_uri": "https://localhost:8080/",
          "height": 35
        },
        "outputId": "50533184-52e6-40f9-f486-91e1fc40daf0"
      },
      "cell_type": "code",
      "source": [
        "# 속성을 이용한다\n",
        "i.value = 5     # value라는 이름의(자동변수?!?!?) 속성에 수치를 대입\n",
        "i.value         # 속성 값을 표시"
      ],
      "execution_count": 16,
      "outputs": [
        {
          "output_type": "execute_result",
          "data": {
            "text/plain": [
              "5"
            ]
          },
          "metadata": {
            "tags": []
          },
          "execution_count": 16
        }
      ]
    },
    {
      "metadata": {
        "id": "HVWPDWbd8uCU",
        "colab_type": "code",
        "colab": {
          "base_uri": "https://localhost:8080/",
          "height": 172
        },
        "outputId": "727e0273-8176-4271-8d53-f108204a1f0b"
      },
      "cell_type": "code",
      "source": [
        "# 미정의(정의되지 않은) 속성 참조\n",
        "i.py.i.undefined # py, undefined => 정의 되어있지 않아 오류"
      ],
      "execution_count": 18,
      "outputs": [
        {
          "output_type": "error",
          "ename": "AttributeError",
          "evalue": "ignored",
          "traceback": [
            "\u001b[0;31m---------------------------------------------------------------------------\u001b[0m",
            "\u001b[0;31mAttributeError\u001b[0m                            Traceback (most recent call last)",
            "\u001b[0;32m<ipython-input-18-1b2b4b4dc544>\u001b[0m in \u001b[0;36m<module>\u001b[0;34m()\u001b[0m\n\u001b[0;32m----> 1\u001b[0;31m \u001b[0mi\u001b[0m\u001b[0;34m.\u001b[0m\u001b[0mpy\u001b[0m\u001b[0;34m.\u001b[0m\u001b[0mi\u001b[0m\u001b[0;34m.\u001b[0m\u001b[0mundefined\u001b[0m\u001b[0;34m\u001b[0m\u001b[0m\n\u001b[0m",
            "\u001b[0;31mAttributeError\u001b[0m: 'MyClass' object has no attribute 'py'"
          ]
        }
      ]
    },
    {
      "metadata": {
        "id": "WGwc21EV8uCW",
        "colab_type": "code",
        "colab": {
          "base_uri": "https://localhost:8080/",
          "height": 136
        },
        "outputId": "406eb690-1bda-4676-e431-dadc516e3370"
      },
      "cell_type": "code",
      "source": [
        "# 속성은 인스턴스마다 존재한다\n",
        "i2 = MyClass()   # MyClass의 인스턴스를 별도로 정의\n",
        "i2.value         # value 속성을 참조하려고 하면\n",
        "　　　　　　　　　    # 정의되지 않았으므로 오류가 발생"
      ],
      "execution_count": 19,
      "outputs": [
        {
          "output_type": "error",
          "ename": "SyntaxError",
          "evalue": "ignored",
          "traceback": [
            "\u001b[0;36m  File \u001b[0;32m\"<ipython-input-19-aa4a34ddac93>\"\u001b[0;36m, line \u001b[0;32m3\u001b[0m\n\u001b[0;31m    # 정의되지 않았으므로 오류가 발생\u001b[0m\n\u001b[0m    ^\u001b[0m\n\u001b[0;31mSyntaxError\u001b[0m\u001b[0;31m:\u001b[0m invalid character in identifier\n"
          ]
        }
      ]
    },
    {
      "metadata": {
        "id": "LNxLURo-8uCX",
        "colab_type": "code",
        "colab": {
          "base_uri": "https://localhost:8080/",
          "height": 35
        },
        "outputId": "6f7aa997-82f7-4025-b62b-ff08924eba92"
      },
      "cell_type": "code",
      "source": [
        "i.value #아까 넣었던 i.value값"
      ],
      "execution_count": 21,
      "outputs": [
        {
          "output_type": "execute_result",
          "data": {
            "text/plain": [
              "5"
            ]
          },
          "metadata": {
            "tags": []
          },
          "execution_count": 21
        }
      ]
    },
    {
      "metadata": {
        "id": "MLcpgPUD8uCa",
        "colab_type": "code",
        "colab": {
          "base_uri": "https://localhost:8080/",
          "height": 35
        },
        "outputId": "0c05033c-e3e0-45f8-b29c-fcf7a4d122f8"
      },
      "cell_type": "code",
      "source": [
        "type(i)"
      ],
      "execution_count": 22,
      "outputs": [
        {
          "output_type": "execute_result",
          "data": {
            "text/plain": [
              "__main__.MyClass"
            ]
          },
          "metadata": {
            "tags": []
          },
          "execution_count": 22
        }
      ]
    },
    {
      "metadata": {
        "id": "8HWSwCCp8uCb",
        "colab_type": "code",
        "colab": {
          "base_uri": "https://localhost:8080/",
          "height": 971
        },
        "outputId": "54854951-884f-45e2-f75c-c29b5160368d"
      },
      "cell_type": "code",
      "source": [
        "dir(MyClass),dir(i) # dir(MyClass) : 멤버함수들 리스트로 출력, \n",
        "# 매우 중요*******dir(MyClass),dir(i) : 새로 추가한 변수정보까지 들어감********"
      ],
      "execution_count": 20,
      "outputs": [
        {
          "output_type": "execute_result",
          "data": {
            "text/plain": [
              "(['__class__',\n",
              "  '__delattr__',\n",
              "  '__dict__',\n",
              "  '__dir__',\n",
              "  '__doc__',\n",
              "  '__eq__',\n",
              "  '__format__',\n",
              "  '__ge__',\n",
              "  '__getattribute__',\n",
              "  '__gt__',\n",
              "  '__hash__',\n",
              "  '__init__',\n",
              "  '__init_subclass__',\n",
              "  '__le__',\n",
              "  '__lt__',\n",
              "  '__module__',\n",
              "  '__ne__',\n",
              "  '__new__',\n",
              "  '__reduce__',\n",
              "  '__reduce_ex__',\n",
              "  '__repr__',\n",
              "  '__setattr__',\n",
              "  '__sizeof__',\n",
              "  '__str__',\n",
              "  '__subclasshook__',\n",
              "  '__weakref__'],\n",
              " ['__class__',\n",
              "  '__delattr__',\n",
              "  '__dict__',\n",
              "  '__dir__',\n",
              "  '__doc__',\n",
              "  '__eq__',\n",
              "  '__format__',\n",
              "  '__ge__',\n",
              "  '__getattribute__',\n",
              "  '__gt__',\n",
              "  '__hash__',\n",
              "  '__init__',\n",
              "  '__init_subclass__',\n",
              "  '__le__',\n",
              "  '__lt__',\n",
              "  '__module__',\n",
              "  '__ne__',\n",
              "  '__new__',\n",
              "  '__reduce__',\n",
              "  '__reduce_ex__',\n",
              "  '__repr__',\n",
              "  '__setattr__',\n",
              "  '__sizeof__',\n",
              "  '__str__',\n",
              "  '__subclasshook__',\n",
              "  '__weakref__',\n",
              "  'value'])"
            ]
          },
          "metadata": {
            "tags": []
          },
          "execution_count": 20
        }
      ]
    },
    {
      "metadata": {
        "id": "Z0RYW-b-8uCf",
        "colab_type": "text"
      },
      "cell_type": "markdown",
      "source": [
        "### 메쏘드의 정의와 초기화 메쏘드 ‘__init__( )’"
      ]
    },
    {
      "metadata": {
        "id": "6YGrctaS8uCf",
        "colab_type": "code",
        "colab": {}
      },
      "cell_type": "code",
      "source": [
        "# 초기화 메쏘드를 가진 클래스 정의\n",
        "class MyClass2:\n",
        "    def __init__(self):   # 초기화 메쏘드를 정의\n",
        "        self.value = 0    # 인스턴스에 속성을 추가 #클래스 자체가 self안에 들어감\n",
        "        print(\"This is __init__() method !\")"
      ],
      "execution_count": 0,
      "outputs": []
    },
    {
      "metadata": {
        "id": "nltcSpMM8uCh",
        "colab_type": "code",
        "colab": {
          "base_uri": "https://localhost:8080/",
          "height": 35
        },
        "outputId": "2bcb6a6a-1e81-4aac-9509-f900a929a2ff"
      },
      "cell_type": "code",
      "source": [
        "# MyClass2 클래스 사용하기\n",
        "i3 = MyClass2()           # 인스턴스를 만듦"
      ],
      "execution_count": 24,
      "outputs": [
        {
          "output_type": "stream",
          "text": [
            "This is __init__() method !\n"
          ],
          "name": "stdout"
        }
      ]
    },
    {
      "metadata": {
        "id": "BhjyOLaB8uCj",
        "colab_type": "code",
        "colab": {
          "base_uri": "https://localhost:8080/",
          "height": 35
        },
        "outputId": "2ee272f6-a0b0-4c3e-b791-653a0a23361e"
      },
      "cell_type": "code",
      "source": [
        "i3.value                  # 인스턴스의 속성을 표시함"
      ],
      "execution_count": 25,
      "outputs": [
        {
          "output_type": "execute_result",
          "data": {
            "text/plain": [
              "0"
            ]
          },
          "metadata": {
            "tags": []
          },
          "execution_count": 25
        }
      ]
    },
    {
      "metadata": {
        "id": "OyUzMZvm8uCl",
        "colab_type": "code",
        "colab": {
          "base_uri": "https://localhost:8080/",
          "height": 503
        },
        "outputId": "c1f03bd7-54e3-4374-c5ea-35e0b2704eb9"
      },
      "cell_type": "code",
      "source": [
        "dir(i3) #정의된 variance 함수가 포함되어 있음"
      ],
      "execution_count": 28,
      "outputs": [
        {
          "output_type": "execute_result",
          "data": {
            "text/plain": [
              "['__class__',\n",
              " '__delattr__',\n",
              " '__dict__',\n",
              " '__dir__',\n",
              " '__doc__',\n",
              " '__eq__',\n",
              " '__format__',\n",
              " '__ge__',\n",
              " '__getattribute__',\n",
              " '__gt__',\n",
              " '__hash__',\n",
              " '__init__',\n",
              " '__init_subclass__',\n",
              " '__le__',\n",
              " '__lt__',\n",
              " '__module__',\n",
              " '__ne__',\n",
              " '__new__',\n",
              " '__reduce__',\n",
              " '__reduce_ex__',\n",
              " '__repr__',\n",
              " '__setattr__',\n",
              " '__sizeof__',\n",
              " '__str__',\n",
              " '__subclasshook__',\n",
              " '__weakref__',\n",
              " 'value']"
            ]
          },
          "metadata": {
            "tags": []
          },
          "execution_count": 28
        }
      ]
    },
    {
      "metadata": {
        "id": "0rL7vlBx8uCn",
        "colab_type": "text"
      },
      "cell_type": "markdown",
      "source": [
        "### 메쏘드와 제1인수 ‘self’"
      ]
    },
    {
      "metadata": {
        "id": "R0cWMct48uCo",
        "colab_type": "code",
        "colab": {}
      },
      "cell_type": "code",
      "source": [
        "# Prism클래스의 정의 # 클래스를 점검\n",
        "class Prism:\n",
        "    def __init__(self, width, height, depth):\n",
        "        # 초기화 메쏘드를 정의\n",
        "        self.width = width    # 인수를 속성에 할당\n",
        "        self.height = height\n",
        "        self.depth = depth\n",
        "\n",
        "    def content(self):\n",
        "        # 부피를 계산함\n",
        "        return self.width*self.height*self.depth"
      ],
      "execution_count": 0,
      "outputs": []
    },
    {
      "metadata": {
        "id": "SkmnMUEm8uCq",
        "colab_type": "code",
        "colab": {
          "base_uri": "https://localhost:8080/",
          "height": 35
        },
        "outputId": "77dce2f4-786d-4adb-b47f-3fdf0c3b474a"
      },
      "cell_type": "code",
      "source": [
        "# Prism 클래스 사용하기\n",
        "p1 = Prism(10, 20, 30) #셀프는 매게변수에 안넣어도 됨\n",
        "print(p1.content())"
      ],
      "execution_count": 30,
      "outputs": [
        {
          "output_type": "stream",
          "text": [
            "6000\n"
          ],
          "name": "stdout"
        }
      ]
    },
    {
      "metadata": {
        "id": "3tGhgQH_8uCr",
        "colab_type": "code",
        "colab": {
          "base_uri": "https://localhost:8080/",
          "height": 35
        },
        "outputId": "de651610-6944-4de5-dc28-4d2443a1092a"
      },
      "cell_type": "code",
      "source": [
        "# 다른 수치를 지정해서 인스턴스 만들기\n",
        "p2 = Prism(50, 60, 70)   # 인수를 바꿈\n",
        "print(p2.content())      # 변경한 인수로 부피를 계산함"
      ],
      "execution_count": 31,
      "outputs": [
        {
          "output_type": "stream",
          "text": [
            "210000\n"
          ],
          "name": "stdout"
        }
      ]
    },
    {
      "metadata": {
        "id": "X_7g5b5a8uCt",
        "colab_type": "code",
        "colab": {
          "base_uri": "https://localhost:8080/",
          "height": 35
        },
        "outputId": "c15d0356-1625-44a9-e58d-baf0a68784e8"
      },
      "cell_type": "code",
      "source": [
        "# 인스턴스로부터 속성을 읽어 내기\n",
        "p1.height #10,20,30에서 height는 20"
      ],
      "execution_count": 32,
      "outputs": [
        {
          "output_type": "execute_result",
          "data": {
            "text/plain": [
              "20"
            ]
          },
          "metadata": {
            "tags": []
          },
          "execution_count": 32
        }
      ]
    },
    {
      "metadata": {
        "id": "Aho0z1Tm8uCu",
        "colab_type": "code",
        "colab": {
          "base_uri": "https://localhost:8080/",
          "height": 35
        },
        "outputId": "82916704-126b-497d-b574-0bf694f75925"
      },
      "cell_type": "code",
      "source": [
        "# 다른 인스턴스의 속성에는 다른 값이 들어있음\n",
        "p2.height # 50,60,70에서 height는 60"
      ],
      "execution_count": 35,
      "outputs": [
        {
          "output_type": "execute_result",
          "data": {
            "text/plain": [
              "60"
            ]
          },
          "metadata": {
            "tags": []
          },
          "execution_count": 35
        }
      ]
    },
    {
      "metadata": {
        "id": "gjjwPpt58uCw",
        "colab_type": "code",
        "colab": {
          "base_uri": "https://localhost:8080/",
          "height": 35
        },
        "outputId": "dcd51ecd-a596-4948-fa21-bdc38c385d24"
      },
      "cell_type": "code",
      "source": [
        "# 속성 바꾸기\n",
        "p1.height = 50 #p1의 height(20)를 50으로 바꿔줌\n",
        "print(p1.content())    # 부피를 계산함"
      ],
      "execution_count": 37,
      "outputs": [
        {
          "output_type": "stream",
          "text": [
            "15000\n"
          ],
          "name": "stdout"
        }
      ]
    },
    {
      "metadata": {
        "id": "X5YYLtBG8uCx",
        "colab_type": "code",
        "colab": {
          "base_uri": "https://localhost:8080/",
          "height": 557
        },
        "outputId": "083c1714-8812-43be-9543-d3dd3c45e5ec"
      },
      "cell_type": "code",
      "source": [
        "dir(p1) #클래스 안에서 정의된 함수 출력"
      ],
      "execution_count": 38,
      "outputs": [
        {
          "output_type": "execute_result",
          "data": {
            "text/plain": [
              "['__class__',\n",
              " '__delattr__',\n",
              " '__dict__',\n",
              " '__dir__',\n",
              " '__doc__',\n",
              " '__eq__',\n",
              " '__format__',\n",
              " '__ge__',\n",
              " '__getattribute__',\n",
              " '__gt__',\n",
              " '__hash__',\n",
              " '__init__',\n",
              " '__init_subclass__',\n",
              " '__le__',\n",
              " '__lt__',\n",
              " '__module__',\n",
              " '__ne__',\n",
              " '__new__',\n",
              " '__reduce__',\n",
              " '__reduce_ex__',\n",
              " '__repr__',\n",
              " '__setattr__',\n",
              " '__sizeof__',\n",
              " '__str__',\n",
              " '__subclasshook__',\n",
              " '__weakref__',\n",
              " 'content',\n",
              " 'depth',\n",
              " 'height',\n",
              " 'width']"
            ]
          },
          "metadata": {
            "tags": []
          },
          "execution_count": 38
        }
      ]
    },
    {
      "metadata": {
        "id": "L5-YMoVm8uCz",
        "colab_type": "text"
      },
      "cell_type": "markdown",
      "source": [
        "### 속성의 은폐"
      ]
    },
    {
      "metadata": {
        "id": "IaFG6mH-8uCz",
        "colab_type": "code",
        "colab": {
          "base_uri": "https://localhost:8080/",
          "height": 35
        },
        "outputId": "386cb8da-363c-434e-85db-19a387bbc88a"
      },
      "cell_type": "code",
      "source": [
        "# 다른 자료형을 대입해 본다\n",
        "p = Prism(10, 20, 30)\n",
        "p.width               # 가로폭을 표시"
      ],
      "execution_count": 39,
      "outputs": [
        {
          "output_type": "execute_result",
          "data": {
            "text/plain": [
              "10"
            ]
          },
          "metadata": {
            "tags": []
          },
          "execution_count": 39
        }
      ]
    },
    {
      "metadata": {
        "id": "kbm1JhuV8uC1",
        "colab_type": "code",
        "colab": {
          "base_uri": "https://localhost:8080/",
          "height": 55
        },
        "outputId": "b3a2e417-675c-4b53-95ee-545c039fef5a"
      },
      "cell_type": "code",
      "source": [
        "p.depth = \"30\"        # 속성으로 수치가 아니라 *\"문자열\"*을 대입\n",
        "#30이라는 문자열이 200개가 찍힘\n",
        "p.content()           # 부피를 계산함"
      ],
      "execution_count": 40,
      "outputs": [
        {
          "output_type": "execute_result",
          "data": {
            "text/plain": [
              "'3030303030303030303030303030303030303030303030303030303030303030303030303030303030303030303030303030303030303030303030303030303030303030303030303030303030303030303030303030303030303030303030303030303030303030303030303030303030303030303030303030303030303030303030303030303030303030303030303030303030303030303030303030303030303030303030303030303030303030303030303030303030303030303030303030303030303030'"
            ]
          },
          "metadata": {
            "tags": []
          },
          "execution_count": 40
        }
      ]
    },
    {
      "metadata": {
        "id": "FWYwsATP8uC2",
        "colab_type": "code",
        "colab": {
          "base_uri": "https://localhost:8080/",
          "height": 190
        },
        "outputId": "1d732ef7-ebe0-4411-f457-65b8730b2bda"
      },
      "cell_type": "code",
      "source": [
        "print(5*'A'),print(5*A) #뒤에것이 오류가 뜨는이유 : A라는 대문자가 정의되지 않았음"
      ],
      "execution_count": 42,
      "outputs": [
        {
          "output_type": "stream",
          "text": [
            "AAAAA\n"
          ],
          "name": "stdout"
        },
        {
          "output_type": "error",
          "ename": "NameError",
          "evalue": "ignored",
          "traceback": [
            "\u001b[0;31m---------------------------------------------------------------------------\u001b[0m",
            "\u001b[0;31mNameError\u001b[0m                                 Traceback (most recent call last)",
            "\u001b[0;32m<ipython-input-42-269a189a52de>\u001b[0m in \u001b[0;36m<module>\u001b[0;34m()\u001b[0m\n\u001b[0;32m----> 1\u001b[0;31m \u001b[0mprint\u001b[0m\u001b[0;34m(\u001b[0m\u001b[0;36m5\u001b[0m\u001b[0;34m*\u001b[0m\u001b[0;34m'A'\u001b[0m\u001b[0;34m)\u001b[0m\u001b[0;34m,\u001b[0m\u001b[0mprint\u001b[0m\u001b[0;34m(\u001b[0m\u001b[0;36m5\u001b[0m\u001b[0;34m*\u001b[0m\u001b[0mA\u001b[0m\u001b[0;34m)\u001b[0m\u001b[0;34m\u001b[0m\u001b[0m\n\u001b[0m",
            "\u001b[0;31mNameError\u001b[0m: name 'A' is not defined"
          ]
        }
      ]
    },
    {
      "metadata": {
        "id": "zKODqFYf8uC4",
        "colab_type": "code",
        "colab": {
          "base_uri": "https://localhost:8080/",
          "height": 55
        },
        "outputId": "c87992a2-2642-4d1c-cb5c-e2f25a92274e"
      },
      "cell_type": "code",
      "source": [
        "p.depth = \"A\"        # 속성으로 수치가 아니라 문자열을 대입\n",
        "p.content()  # A라는 문자열이 200개 찍힘"
      ],
      "execution_count": 43,
      "outputs": [
        {
          "output_type": "execute_result",
          "data": {
            "text/plain": [
              "'AAAAAAAAAAAAAAAAAAAAAAAAAAAAAAAAAAAAAAAAAAAAAAAAAAAAAAAAAAAAAAAAAAAAAAAAAAAAAAAAAAAAAAAAAAAAAAAAAAAAAAAAAAAAAAAAAAAAAAAAAAAAAAAAAAAAAAAAAAAAAAAAAAAAAAAAAAAAAAAAAAAAAAAAAAAAAAAAAAAAAAAAAAAAAAAAAAAAAAAA'"
            ]
          },
          "metadata": {
            "tags": []
          },
          "execution_count": 43
        }
      ]
    },
    {
      "metadata": {
        "id": "2JTO1hz38uC5",
        "colab_type": "code",
        "colab": {}
      },
      "cell_type": "code",
      "source": [
        "# \"__\"으로 속성을 은폐한 Prism 클래스를 정의 (width -> _width, or __width --> 특별한 보수들?)\n",
        "class PrismC:\n",
        "    def __init__(self, width, height, depth):\n",
        "        # 초기화 메쏘드를 정의\n",
        "        self.__width = width    # 인수를 속성에 할당 # 클래스안에 은닉된(숨겨진) 변수 __\n",
        "        self.__height = height\n",
        "        self.__depth = depth\n",
        "\n",
        "    def content(self):\n",
        "        # 부피를 계산함\n",
        "        return self.__width*self.__height*self.__depth"
      ],
      "execution_count": 0,
      "outputs": []
    },
    {
      "metadata": {
        "id": "3cNSg-rR8uC7",
        "colab_type": "code",
        "colab": {
          "base_uri": "https://localhost:8080/",
          "height": 35
        },
        "outputId": "06618842-26a3-423e-8c28-d32b3bf5ca03"
      },
      "cell_type": "code",
      "source": [
        "p4 = PrismC(10, 20, 30) #cabsulaization? 캡슐안에 잘 정의되어 있다.\n",
        "print(p4.content()) "
      ],
      "execution_count": 45,
      "outputs": [
        {
          "output_type": "stream",
          "text": [
            "6000\n"
          ],
          "name": "stdout"
        }
      ]
    },
    {
      "metadata": {
        "id": "ENT4U0GI8uC8",
        "colab_type": "code",
        "colab": {
          "base_uri": "https://localhost:8080/",
          "height": 35
        },
        "outputId": "b6be4c0b-924e-43ad-f51d-2baf4e2346be"
      },
      "cell_type": "code",
      "source": [
        "p4.__width = 200    # 속성을 외부에서 다시 대입\n",
        "p4.content()        # 결과는 변하지 않는다 --> 무엇을 의미하는가?"
      ],
      "execution_count": 46,
      "outputs": [
        {
          "output_type": "execute_result",
          "data": {
            "text/plain": [
              "6000"
            ]
          },
          "metadata": {
            "tags": []
          },
          "execution_count": 46
        }
      ]
    },
    {
      "metadata": {
        "id": "ZXfPLQS_8uC9",
        "colab_type": "code",
        "colab": {
          "base_uri": "https://localhost:8080/",
          "height": 35
        },
        "outputId": "926949b5-415c-489b-b944-cd997fc2555a"
      },
      "cell_type": "code",
      "source": [
        "# 그러나 이름을 바꾸는 규칙을 알고 있다면 변경된다\n",
        "p4._PrismC__width = 300 # 숨겨진 변수를 불러들임\n",
        "# p4._PrismC__depth = 500\n",
        "p4.content()"
      ],
      "execution_count": 47,
      "outputs": [
        {
          "output_type": "execute_result",
          "data": {
            "text/plain": [
              "180000"
            ]
          },
          "metadata": {
            "tags": []
          },
          "execution_count": 47
        }
      ]
    },
    {
      "metadata": {
        "id": "cUGseHyv8uDA",
        "colab_type": "code",
        "colab": {
          "base_uri": "https://localhost:8080/",
          "height": 35
        },
        "outputId": "9a2512ef-4856-485a-8f8c-53567c6ef960"
      },
      "cell_type": "code",
      "source": [
        "p4.__width#, p4.__height, p4.__depth # ?????"
      ],
      "execution_count": 48,
      "outputs": [
        {
          "output_type": "execute_result",
          "data": {
            "text/plain": [
              "200"
            ]
          },
          "metadata": {
            "tags": []
          },
          "execution_count": 48
        }
      ]
    },
    {
      "metadata": {
        "id": "KDoi3BBV8uDC",
        "colab_type": "code",
        "colab": {
          "base_uri": "https://localhost:8080/",
          "height": 172
        },
        "outputId": "edc9af25-dbff-406c-fa18-9c28a201b70e"
      },
      "cell_type": "code",
      "source": [
        "p4.__height"
      ],
      "execution_count": 49,
      "outputs": [
        {
          "output_type": "error",
          "ename": "AttributeError",
          "evalue": "ignored",
          "traceback": [
            "\u001b[0;31m---------------------------------------------------------------------------\u001b[0m",
            "\u001b[0;31mAttributeError\u001b[0m                            Traceback (most recent call last)",
            "\u001b[0;32m<ipython-input-49-da5e51a9dd6b>\u001b[0m in \u001b[0;36m<module>\u001b[0;34m()\u001b[0m\n\u001b[0;32m----> 1\u001b[0;31m \u001b[0mp4\u001b[0m\u001b[0;34m.\u001b[0m\u001b[0m__height\u001b[0m\u001b[0;34m\u001b[0m\u001b[0m\n\u001b[0m",
            "\u001b[0;31mAttributeError\u001b[0m: 'PrismC' object has no attribute '__height'"
          ]
        }
      ]
    },
    {
      "metadata": {
        "id": "Lghqc_aC8uDE",
        "colab_type": "code",
        "colab": {}
      },
      "cell_type": "code",
      "source": [
        "p4._height=1 # 1이 정의 됨"
      ],
      "execution_count": 0,
      "outputs": []
    },
    {
      "metadata": {
        "id": "RIIXkrHq8uDG",
        "colab_type": "code",
        "colab": {
          "base_uri": "https://localhost:8080/",
          "height": 35
        },
        "outputId": "71a9b909-fda8-4afe-ca0d-65b3117979a9"
      },
      "cell_type": "code",
      "source": [
        "p4._height # 1출력"
      ],
      "execution_count": 51,
      "outputs": [
        {
          "output_type": "execute_result",
          "data": {
            "text/plain": [
              "1"
            ]
          },
          "metadata": {
            "tags": []
          },
          "execution_count": 51
        }
      ]
    },
    {
      "metadata": {
        "id": "Ij0R71PY8uDI",
        "colab_type": "code",
        "colab": {
          "base_uri": "https://localhost:8080/",
          "height": 593
        },
        "outputId": "2e7a5067-0edb-4ed3-a6d0-a44a1d79feb2"
      },
      "cell_type": "code",
      "source": [
        "dir(p4) #외부에서는 접근 못함, 내부에서만 접근 가능 , 객체에 추가한 변수들이 나타남."
      ],
      "execution_count": 52,
      "outputs": [
        {
          "output_type": "execute_result",
          "data": {
            "text/plain": [
              "['_PrismC__depth',\n",
              " '_PrismC__height',\n",
              " '_PrismC__width',\n",
              " '__class__',\n",
              " '__delattr__',\n",
              " '__dict__',\n",
              " '__dir__',\n",
              " '__doc__',\n",
              " '__eq__',\n",
              " '__format__',\n",
              " '__ge__',\n",
              " '__getattribute__',\n",
              " '__gt__',\n",
              " '__hash__',\n",
              " '__init__',\n",
              " '__init_subclass__',\n",
              " '__le__',\n",
              " '__lt__',\n",
              " '__module__',\n",
              " '__ne__',\n",
              " '__new__',\n",
              " '__reduce__',\n",
              " '__reduce_ex__',\n",
              " '__repr__',\n",
              " '__setattr__',\n",
              " '__sizeof__',\n",
              " '__str__',\n",
              " '__subclasshook__',\n",
              " '__weakref__',\n",
              " '__width',\n",
              " '_height',\n",
              " 'content']"
            ]
          },
          "metadata": {
            "tags": []
          },
          "execution_count": 52
        }
      ]
    },
    {
      "metadata": {
        "id": "SnhdSJY28uDK",
        "colab_type": "text"
      },
      "cell_type": "markdown",
      "source": [
        "### 다음 변수들의 차이점을 이해!\n",
        "\n",
        "<pre> _PrismC__depth,  _PrismC__height, _PrismC__width   vs.   __width, _height </pre>\n",
        "\n",
        "> <pre> _PrismC__depth,  _PrismC__height, _PrismC__width 는 class 에 은닉된 변수,\n",
        "         __width, _height 는 클래스의 인스턴스에 추가된 변수</pre>"
      ]
    },
    {
      "metadata": {
        "id": "1EpM05nz8uDL",
        "colab_type": "text"
      },
      "cell_type": "markdown",
      "source": [
        "***"
      ]
    },
    {
      "metadata": {
        "id": "VcM1gwr08uDL",
        "colab_type": "text"
      },
      "cell_type": "markdown",
      "source": [
        "# Chapter07-01\n",
        "## 클래스 상속과 고급 객체 지향 기능"
      ]
    },
    {
      "metadata": {
        "id": "XNcJ8lO18uDM",
        "colab_type": "text"
      },
      "cell_type": "markdown",
      "source": [
        "## 클래스를 상속한다"
      ]
    },
    {
      "metadata": {
        "id": "zicpyLle8uDM",
        "colab_type": "code",
        "colab": {}
      },
      "cell_type": "code",
      "source": [
        "# Prism 클래스를 다시 정의\n",
        "class Prism:\n",
        "    def __init__(self, width, height, depth):\n",
        "        # 초기화 메쏘드를 정의\n",
        "        self.width = width    # 인수를 속성에 할당\n",
        "        self.height = height\n",
        "        self.depth = depth\n",
        "\n",
        "    def content(self):\n",
        "        # 부피를 계산\n",
        "        return self.width*self.height*self.depth"
      ],
      "execution_count": 0,
      "outputs": []
    },
    {
      "metadata": {
        "id": "HKtsoRJj8uDN",
        "colab_type": "code",
        "colab": {}
      },
      "cell_type": "code",
      "source": [
        "# Cube 클래스의 정의\n",
        "# 슈퍼클래스 Prism을 상속한 Cube 클래스를 정의\n",
        "class Cube(Prism):    # Prism 클래스를 상속함\n",
        "    def __init__(self, length):    # __init__() 메쏘드를 오버라이드\n",
        "        # 초기화 메쏘드를 오버라이드(override)\n",
        "        self.width = self.height = self.depth = length    # 속성을 length로 초기화"
      ],
      "execution_count": 0,
      "outputs": []
    },
    {
      "metadata": {
        "id": "5HoVakFd8uDO",
        "colab_type": "code",
        "colab": {}
      },
      "cell_type": "code",
      "source": [
        "# Cube 클래스를 사용한다\n",
        "c = Cube(20)     # length로 ‘20’을 넘김\n",
        "c.content()      # Prism 클래스의 메쏘드를 호출함"
      ],
      "execution_count": 0,
      "outputs": []
    },
    {
      "metadata": {
        "id": "AyuC1J6E8uDQ",
        "colab_type": "text"
      },
      "cell_type": "markdown",
      "source": [
        "### 초기화 메쏘드의 오버라이드"
      ]
    },
    {
      "metadata": {
        "id": "JP5K38FG8uDR",
        "colab_type": "code",
        "colab": {}
      },
      "cell_type": "code",
      "source": [
        "# Prism 클래스의 새로운 정의\n",
        "# 초기화 메소드에 인수(단위)를 추가하여 Prism 클래스를 재정의\n",
        "class Prism:\n",
        "    def __init__(self, width, height, depth, unit=\"cm\"):    # 인수를 추가\n",
        "        self.width = width\n",
        "        self.height = height\n",
        "        self.depth = depth\n",
        "        self.unit = unit             # 속성을 추가\n",
        "        print(\"Unit: \", unit)\n",
        "\n",
        "    def content(self):\n",
        "        # 부피 계산\n",
        "        return self.width*self.height*self.depth        \n",
        "\n",
        "    def unit_content(self):         # 메쏘드를 추가\n",
        "        # 체적을 구하고, 단위를 연결하여 문자열을 반환\n",
        "        return str(self.content())+ \" \" +3*self.unit  # 계산 결과에 단위를 더함          "
      ],
      "execution_count": 0,
      "outputs": []
    },
    {
      "metadata": {
        "id": "Hxd7H9dM8uDT",
        "colab_type": "code",
        "colab": {}
      },
      "cell_type": "code",
      "source": [
        "Prism(10,20,30)"
      ],
      "execution_count": 0,
      "outputs": []
    },
    {
      "metadata": {
        "id": "U12Hqk868uDU",
        "colab_type": "code",
        "colab": {}
      },
      "cell_type": "code",
      "source": [
        "Prism(10,20,30).content()"
      ],
      "execution_count": 0,
      "outputs": []
    },
    {
      "metadata": {
        "id": "5Mn8sxPC8uDV",
        "colab_type": "code",
        "colab": {}
      },
      "cell_type": "code",
      "source": [
        "Prism(10,20,30).unit_content()"
      ],
      "execution_count": 0,
      "outputs": []
    },
    {
      "metadata": {
        "id": "hefRg88c8uDX",
        "colab_type": "code",
        "colab": {}
      },
      "cell_type": "code",
      "source": [
        "# Prism을 상속한 Cube 클래스를 정의하고 초기화 메소드 __init__() 를 재정의\n",
        "class Cube(Prism):\n",
        "    def __init__(self, length):\n",
        "        # 초기화 메쏘드를 오버라이드(override)\n",
        "        self.width = self.height = self.depth = length"
      ],
      "execution_count": 0,
      "outputs": []
    },
    {
      "metadata": {
        "id": "_DmWd3YX8uDa",
        "colab_type": "code",
        "colab": {}
      },
      "cell_type": "code",
      "source": [
        "Cube(10) # 객체 출력"
      ],
      "execution_count": 0,
      "outputs": []
    },
    {
      "metadata": {
        "scrolled": true,
        "id": "mlUOW_5b8uDb",
        "colab_type": "code",
        "colab": {}
      },
      "cell_type": "code",
      "source": [
        "# 추가한 속성을 호출한다\n",
        "# Prism 클래스를 상속한 Cube 클래스에 추가한 메쏘드를 호출\n",
        "c = Cube(10)\n",
        "c"
      ],
      "execution_count": 0,
      "outputs": []
    },
    {
      "metadata": {
        "id": "KzToWFE68uDc",
        "colab_type": "code",
        "colab": {}
      },
      "cell_type": "code",
      "source": [
        "c.content() # Cubee(10)의 content 출력"
      ],
      "execution_count": 0,
      "outputs": []
    },
    {
      "metadata": {
        "scrolled": true,
        "id": "XVVqnEg08uDd",
        "colab_type": "code",
        "colab": {}
      },
      "cell_type": "code",
      "source": [
        "c.unit_content() # unit 정의x"
      ],
      "execution_count": 0,
      "outputs": []
    },
    {
      "metadata": {
        "id": "CuoG5MXH8uDg",
        "colab_type": "text"
      },
      "cell_type": "markdown",
      "source": [
        "### Solution to the above error"
      ]
    },
    {
      "metadata": {
        "id": "qeigQ-aa8uDh",
        "colab_type": "text"
      },
      "cell_type": "markdown",
      "source": [
        "### super( )를 사용한 슈퍼클래스의 취득"
      ]
    },
    {
      "metadata": {
        "id": "vJcKpAvz8uDi",
        "colab_type": "code",
        "colab": {}
      },
      "cell_type": "code",
      "source": [
        "# Cube 클래스에서 super()함수를 사용한다.\n",
        "# super()를 사용하여 Cube 클래스를 재정의\n",
        "class Cube(Prism):\n",
        "    def __init__(self, length):\n",
        "        super().__init__(length, length, length) # Cube는 세 모서리 길이가 동일. unit는 default로 지정됨.\n"
      ],
      "execution_count": 0,
      "outputs": []
    },
    {
      "metadata": {
        "id": "ECsxP-0-8uDj",
        "colab_type": "code",
        "colab": {}
      },
      "cell_type": "code",
      "source": [
        "# 추가한 속성을 호출한다\n",
        "c2 = Cube(20)\n",
        "c2.unit_content()"
      ],
      "execution_count": 0,
      "outputs": []
    },
    {
      "metadata": {
        "id": "sTE6_vMH8uDl",
        "colab_type": "text"
      },
      "cell_type": "markdown",
      "source": [
        "***"
      ]
    },
    {
      "metadata": {
        "id": "gicOMSI-8uDm",
        "colab_type": "text"
      },
      "cell_type": "markdown",
      "source": [
        "### 슬롯(Slot)"
      ]
    },
    {
      "metadata": {
        "id": "DHmdmGI68uDm",
        "colab_type": "code",
        "colab": {
          "base_uri": "https://localhost:8080/",
          "height": 34
        },
        "outputId": "1a91a891-21d2-40ff-d444-75f0fc63483c"
      },
      "cell_type": "code",
      "source": [
        "# 슬롯에 의한 속성 제한\n",
        "# 슬롯을 가지는 클래스를 정의한다\n",
        "class Klass:                # 클래스를 정의\n",
        "    __slots__ = ['a', 'b']  # 속성을 제한\n",
        "    def __init__(self):\n",
        "        self.a = 1          # a라는 속성을 작성\n",
        "\n",
        "i = Klass()      # 인스턴스를 만듦\n",
        "i.a              # a라는 속성을 확인"
      ],
      "execution_count": 5,
      "outputs": [
        {
          "output_type": "execute_result",
          "data": {
            "text/plain": [
              "1"
            ]
          },
          "metadata": {
            "tags": []
          },
          "execution_count": 5
        }
      ]
    },
    {
      "metadata": {
        "id": "IQotk6AWz-ie",
        "colab_type": "code",
        "colab": {
          "base_uri": "https://localhost:8080/",
          "height": 169
        },
        "outputId": "60622556-ba30-4763-b482-77663b3384af"
      },
      "cell_type": "code",
      "source": [
        "i.b # error"
      ],
      "execution_count": 6,
      "outputs": [
        {
          "output_type": "error",
          "ename": "AttributeError",
          "evalue": "ignored",
          "traceback": [
            "\u001b[0;31m---------------------------------------------------------------------------\u001b[0m",
            "\u001b[0;31mAttributeError\u001b[0m                            Traceback (most recent call last)",
            "\u001b[0;32m<ipython-input-6-1fbc99b3f1c8>\u001b[0m in \u001b[0;36m<module>\u001b[0;34m()\u001b[0m\n\u001b[0;32m----> 1\u001b[0;31m \u001b[0mi\u001b[0m\u001b[0;34m.\u001b[0m\u001b[0mb\u001b[0m\u001b[0;34m\u001b[0m\u001b[0m\n\u001b[0m",
            "\u001b[0;31mAttributeError\u001b[0m: b"
          ]
        }
      ]
    },
    {
      "metadata": {
        "id": "pRPQs_O58uDn",
        "colab_type": "code",
        "colab": {
          "base_uri": "https://localhost:8080/",
          "height": 34
        },
        "outputId": "2b591bf7-c809-4c69-be00-95363be1fb45"
      },
      "cell_type": "code",
      "source": [
        "i.b = 2          # b라는 속성을 추가\n",
        "i.b              # b라는 속성을 확인"
      ],
      "execution_count": 2,
      "outputs": [
        {
          "output_type": "execute_result",
          "data": {
            "text/plain": [
              "2"
            ]
          },
          "metadata": {
            "tags": []
          },
          "execution_count": 2
        }
      ]
    },
    {
      "metadata": {
        "id": "xZsAEQRp8uDp",
        "colab_type": "code",
        "colab": {
          "base_uri": "https://localhost:8080/",
          "height": 169
        },
        "outputId": "960a344b-4783-45f1-f8f0-e012b19ea3cd"
      },
      "cell_type": "code",
      "source": [
        "i.c = 3          # c라는 속성은 추가할 수 없음 -> a,b로만 속성을 제한했기 때문"
      ],
      "execution_count": 3,
      "outputs": [
        {
          "output_type": "error",
          "ename": "AttributeError",
          "evalue": "ignored",
          "traceback": [
            "\u001b[0;31m---------------------------------------------------------------------------\u001b[0m",
            "\u001b[0;31mAttributeError\u001b[0m                            Traceback (most recent call last)",
            "\u001b[0;32m<ipython-input-3-c11014e15c8d>\u001b[0m in \u001b[0;36m<module>\u001b[0;34m()\u001b[0m\n\u001b[0;32m----> 1\u001b[0;31m \u001b[0mi\u001b[0m\u001b[0;34m.\u001b[0m\u001b[0mc\u001b[0m \u001b[0;34m=\u001b[0m \u001b[0;36m3\u001b[0m          \u001b[0;31m# c라는 속성은 추가할 수 없음\u001b[0m\u001b[0;34m\u001b[0m\u001b[0m\n\u001b[0m",
            "\u001b[0;31mAttributeError\u001b[0m: 'Klass' object has no attribute 'c'"
          ]
        }
      ]
    },
    {
      "metadata": {
        "id": "qGZQYz_X8uDq",
        "colab_type": "code",
        "colab": {}
      },
      "cell_type": "code",
      "source": [
        "dir(i) # a,b 속성이 추가 된 것을 확인"
      ],
      "execution_count": 0,
      "outputs": []
    },
    {
      "metadata": {
        "id": "lw45IdXa8uDr",
        "colab_type": "text"
      },
      "cell_type": "markdown",
      "source": [
        "### 프로퍼티(property)"
      ]
    },
    {
      "metadata": {
        "id": "cGoiQ9Ce8uDs",
        "colab_type": "code",
        "colab": {}
      },
      "cell_type": "code",
      "source": [
        "# 프로퍼티의 정의\n",
        "# 프로퍼티를 정의하는 클래스를 정의한다\n",
        "class Prop:\n",
        "    def __init__(self):\n",
        "        self.__x = 0    # 속성을 만듦\n",
        "\n",
        "    def getx(self):     # 게터\n",
        "        return self.__x # 속성을 돌려줌\n",
        "\n",
        "    def setx(self, x):  # 세터\n",
        "        self.__x = x    # 속성으로 값을 넣음\n",
        "    \n",
        "    x = property(getx, setx) # 프로퍼티를 설정함\n",
        "    "
      ],
      "execution_count": 0,
      "outputs": []
    },
    {
      "metadata": {
        "id": "GVub1KGi8uDt",
        "colab_type": "code",
        "colab": {
          "base_uri": "https://localhost:8080/",
          "height": 34
        },
        "outputId": "48015021-c9d7-460a-d343-e8467a886859"
      },
      "cell_type": "code",
      "source": [
        "# 프로퍼티를 사용한다\n",
        "i = Prop()     # 인스턴스를 만듦\n",
        "i.x            # 속성을 참조"
      ],
      "execution_count": 8,
      "outputs": [
        {
          "output_type": "execute_result",
          "data": {
            "text/plain": [
              "0"
            ]
          },
          "metadata": {
            "tags": []
          },
          "execution_count": 8
        }
      ]
    },
    {
      "metadata": {
        "id": "QTYaxgSH8uDu",
        "colab_type": "code",
        "colab": {
          "base_uri": "https://localhost:8080/",
          "height": 34
        },
        "outputId": "3d392bce-8abb-4d86-d40e-abe246c4c7f6"
      },
      "cell_type": "code",
      "source": [
        "i.x = 10       # x에 대입\n",
        "i.x            # 속성 x를 참조"
      ],
      "execution_count": 9,
      "outputs": [
        {
          "output_type": "execute_result",
          "data": {
            "text/plain": [
              "10"
            ]
          },
          "metadata": {
            "tags": []
          },
          "execution_count": 9
        }
      ]
    },
    {
      "metadata": {
        "id": "nRyWtDEb8uDw",
        "colab_type": "code",
        "colab": {
          "base_uri": "https://localhost:8080/",
          "height": 34
        },
        "outputId": "28a9f6d9-c713-452a-a092-88c9a086b424"
      },
      "cell_type": "code",
      "source": [
        "i._Prop__x     # __x에 억지로 접근"
      ],
      "execution_count": 10,
      "outputs": [
        {
          "output_type": "execute_result",
          "data": {
            "text/plain": [
              "10"
            ]
          },
          "metadata": {
            "tags": []
          },
          "execution_count": 10
        }
      ]
    },
    {
      "metadata": {
        "id": "kicGXvrQ8uDw",
        "colab_type": "code",
        "colab": {
          "base_uri": "https://localhost:8080/",
          "height": 545
        },
        "outputId": "8026f09c-4205-4c59-9be2-62f2b2f16078"
      },
      "cell_type": "code",
      "source": [
        "dir(i)"
      ],
      "execution_count": 11,
      "outputs": [
        {
          "output_type": "execute_result",
          "data": {
            "text/plain": [
              "['_Prop__x',\n",
              " '__class__',\n",
              " '__delattr__',\n",
              " '__dict__',\n",
              " '__dir__',\n",
              " '__doc__',\n",
              " '__eq__',\n",
              " '__format__',\n",
              " '__ge__',\n",
              " '__getattribute__',\n",
              " '__gt__',\n",
              " '__hash__',\n",
              " '__init__',\n",
              " '__init_subclass__',\n",
              " '__le__',\n",
              " '__lt__',\n",
              " '__module__',\n",
              " '__ne__',\n",
              " '__new__',\n",
              " '__reduce__',\n",
              " '__reduce_ex__',\n",
              " '__repr__',\n",
              " '__setattr__',\n",
              " '__sizeof__',\n",
              " '__str__',\n",
              " '__subclasshook__',\n",
              " '__weakref__',\n",
              " 'getx',\n",
              " 'setx',\n",
              " 'x']"
            ]
          },
          "metadata": {
            "tags": []
          },
          "execution_count": 11
        }
      ]
    },
    {
      "metadata": {
        "id": "0uHC1Bgk8uDy",
        "colab_type": "code",
        "colab": {
          "base_uri": "https://localhost:8080/",
          "height": 34
        },
        "outputId": "cb70c27f-d366-45b2-8345-c382aa6b982d"
      },
      "cell_type": "code",
      "source": [
        "i.getx()"
      ],
      "execution_count": 12,
      "outputs": [
        {
          "output_type": "execute_result",
          "data": {
            "text/plain": [
              "10"
            ]
          },
          "metadata": {
            "tags": []
          },
          "execution_count": 12
        }
      ]
    },
    {
      "metadata": {
        "id": "wAYpURQ58uDz",
        "colab_type": "code",
        "colab": {
          "base_uri": "https://localhost:8080/",
          "height": 34
        },
        "outputId": "1243b82c-f472-4080-d73a-7fc1bc98c0be"
      },
      "cell_type": "code",
      "source": [
        "i.setx(100)\n",
        "i.x"
      ],
      "execution_count": 13,
      "outputs": [
        {
          "output_type": "execute_result",
          "data": {
            "text/plain": [
              "100"
            ]
          },
          "metadata": {
            "tags": []
          },
          "execution_count": 13
        }
      ]
    },
    {
      "metadata": {
        "id": "6Mk434AH8uD1",
        "colab_type": "text"
      },
      "cell_type": "markdown",
      "source": [
        "### 더미 데코레이터를 사용하면 보다 간편하게 속성을 정의 할 수 있다"
      ]
    },
    {
      "metadata": {
        "id": "68p4mMRM8uD1",
        "colab_type": "code",
        "colab": {}
      },
      "cell_type": "code",
      "source": [
        "# 데코레이터를 사용하여 프로퍼티를 정의하는 클래스를 정의\n",
        "# 프로퍼티를 우아하게 정리\n",
        "class DecoProp:\n",
        "    def __init__(self):\n",
        "        self.__x = 0\n",
        "\n",
        "    @property\n",
        "    def x(self):\n",
        "        # x = property(x.getter(x), x.setter(x)) \n",
        "        return None\n",
        "    \n",
        "    # getter 정의\n",
        "    @x.getter\n",
        "    def x(self):\n",
        "        print('this is getter, value is', self.__x)\n",
        "        return(self.__x)\n",
        "\n",
        "    # setter 정의\n",
        "    @x.setter\n",
        "    def x(self, value):\n",
        "        print('this is setter, value is', value)\n",
        "        self.__x = value\n"
      ],
      "execution_count": 0,
      "outputs": []
    },
    {
      "metadata": {
        "id": "NJfVhNW38uD2",
        "colab_type": "code",
        "colab": {}
      },
      "cell_type": "code",
      "source": [
        "dp = DecoProp()   # 데코레이터를 사용한 속성을 가진 인스턴스를 생성\n",
        "dp.x             # __init __ ()에 정의된 초기값을 표시, getter가 호출됨"
      ],
      "execution_count": 0,
      "outputs": []
    },
    {
      "metadata": {
        "id": "bjgy-0vC8uD4",
        "colab_type": "code",
        "colab": {}
      },
      "cell_type": "code",
      "source": [
        "dp.x = 1          # setter를 호출하여 값을 변경"
      ],
      "execution_count": 0,
      "outputs": []
    },
    {
      "metadata": {
        "id": "QVWtP9Oh8uD6",
        "colab_type": "code",
        "colab": {}
      },
      "cell_type": "code",
      "source": [
        "dp.x              # 값이 변경되어 있는지 확인\n",
        "# x값 getter에서 가져옴"
      ],
      "execution_count": 0,
      "outputs": []
    },
    {
      "metadata": {
        "id": "a7SCvTXl8uD7",
        "colab_type": "code",
        "colab": {}
      },
      "cell_type": "code",
      "source": [
        ""
      ],
      "execution_count": 0,
      "outputs": []
    },
    {
      "metadata": {
        "id": "gzCZ54Tn8uD7",
        "colab_type": "text"
      },
      "cell_type": "markdown",
      "source": [
        "# Chapter 07-03\n",
        "## 내장형을 상속하다"
      ]
    },
    {
      "metadata": {
        "id": "BPEGaKcx8uD8",
        "colab_type": "text"
      },
      "cell_type": "markdown",
      "source": [
        "## 딕셔너리형을 상속한다"
      ]
    },
    {
      "metadata": {
        "id": "SWYlKa1w8uD8",
        "colab_type": "code",
        "colab": {}
      },
      "cell_type": "code",
      "source": [
        "class StrDict(dict):# 딕셔너리를 받기 때문에 dict를 대문자로 씀\n",
        "    \"\"\" 딕셔너리형을 상속해서 클래스를 만든다\n",
        "    \"\"\"\n",
        "    def __init__(self):\n",
        "        pass\n",
        "\n",
        "    def __setitem__(self, key, value):\n",
        "        \"\"\" 특수 메쏘드를 재정의(오버라이드)\n",
        "            key가 문자열이 아니면 예외를 발생\n",
        "        \"\"\"\n",
        "        if not isinstance(key, str):\n",
        "            # 키가 문자열이 아닌 경우에는 예외를 발생\n",
        "            raise ValueError(\"Key must be string.\")\n",
        "            # 슈퍼클래스의 특수 메쏘드를 호출해서 키와 값을 설정\n",
        "        dict.__setitem__(self, key, value)"
      ],
      "execution_count": 0,
      "outputs": []
    },
    {
      "metadata": {
        "id": "GKYfZ9fr8uD9",
        "colab_type": "text"
      },
      "cell_type": "markdown",
      "source": [
        "> 딕셔너리형(dict)을 상속했으므로 딕셔너리의 모든 속성과 메소드가 사용 가능하다."
      ]
    },
    {
      "metadata": {
        "id": "x2d7ydQ88uD-",
        "colab_type": "code",
        "colab": {
          "base_uri": "https://localhost:8080/",
          "height": 35
        },
        "outputId": "ff606cc3-f9fd-4973-f63e-075da5a4100a"
      },
      "cell_type": "code",
      "source": [
        "# 딕셔너리형을 상속한 클래스를 사용한다\n",
        "d = StrDict()   # 인스턴스를 작성\n",
        "d[\"spam\"] = 1   # 딕셔너리와 같이 키를 사용해서 요소를 추가\n",
        "d[\"spam\"]       # 추가된 요소 확인"
      ],
      "execution_count": 54,
      "outputs": [
        {
          "output_type": "execute_result",
          "data": {
            "text/plain": [
              "1"
            ]
          },
          "metadata": {
            "tags": []
          },
          "execution_count": 54
        }
      ]
    },
    {
      "metadata": {
        "id": "iNN7pQmn8uD_",
        "colab_type": "code",
        "colab": {
          "base_uri": "https://localhost:8080/",
          "height": 316
        },
        "outputId": "f1957a4f-b79e-4b6b-d8c8-b6a4df85fed7"
      },
      "cell_type": "code",
      "source": [
        "d[1] = 1        # 수치 키(정수)로 요소를 추가하면 오류\n",
        "#키는 반드시 문자열이 되야 한다"
      ],
      "execution_count": 55,
      "outputs": [
        {
          "output_type": "error",
          "ename": "ValueError",
          "evalue": "ignored",
          "traceback": [
            "\u001b[0;31m---------------------------------------------------------------------------\u001b[0m",
            "\u001b[0;31mValueError\u001b[0m                                Traceback (most recent call last)",
            "\u001b[0;32m<ipython-input-55-25ae3534566d>\u001b[0m in \u001b[0;36m<module>\u001b[0;34m()\u001b[0m\n\u001b[0;32m----> 1\u001b[0;31m \u001b[0md\u001b[0m\u001b[0;34m[\u001b[0m\u001b[0;36m1\u001b[0m\u001b[0;34m]\u001b[0m \u001b[0;34m=\u001b[0m \u001b[0;36m1\u001b[0m        \u001b[0;31m# 수치 키(정수)로 요소를 추가하면 오류\u001b[0m\u001b[0;34m\u001b[0m\u001b[0m\n\u001b[0m\u001b[1;32m      2\u001b[0m \u001b[0;31m#키는 반드시 문자열이 되야 한다\u001b[0m\u001b[0;34m\u001b[0m\u001b[0;34m\u001b[0m\u001b[0m\n",
            "\u001b[0;32m<ipython-input-53-9ffa7b5ef1b9>\u001b[0m in \u001b[0;36m__setitem__\u001b[0;34m(self, key, value)\u001b[0m\n\u001b[1;32m     11\u001b[0m         \u001b[0;32mif\u001b[0m \u001b[0;32mnot\u001b[0m \u001b[0misinstance\u001b[0m\u001b[0;34m(\u001b[0m\u001b[0mkey\u001b[0m\u001b[0;34m,\u001b[0m \u001b[0mstr\u001b[0m\u001b[0;34m)\u001b[0m\u001b[0;34m:\u001b[0m\u001b[0;34m\u001b[0m\u001b[0m\n\u001b[1;32m     12\u001b[0m             \u001b[0;31m# 키가 문자열이 아닌 경우에는 예외를 발생\u001b[0m\u001b[0;34m\u001b[0m\u001b[0;34m\u001b[0m\u001b[0m\n\u001b[0;32m---> 13\u001b[0;31m             \u001b[0;32mraise\u001b[0m \u001b[0mValueError\u001b[0m\u001b[0;34m(\u001b[0m\u001b[0;34m\"Key must be string.\"\u001b[0m\u001b[0;34m)\u001b[0m\u001b[0;34m\u001b[0m\u001b[0m\n\u001b[0m\u001b[1;32m     14\u001b[0m             \u001b[0;31m# 슈퍼클래스의 특수 메쏘드를 호출해서 키와 값을 설정\u001b[0m\u001b[0;34m\u001b[0m\u001b[0;34m\u001b[0m\u001b[0m\n\u001b[1;32m     15\u001b[0m         \u001b[0mdict\u001b[0m\u001b[0;34m.\u001b[0m\u001b[0m__setitem__\u001b[0m\u001b[0;34m(\u001b[0m\u001b[0mself\u001b[0m\u001b[0;34m,\u001b[0m \u001b[0mkey\u001b[0m\u001b[0;34m,\u001b[0m \u001b[0mvalue\u001b[0m\u001b[0;34m)\u001b[0m\u001b[0;34m\u001b[0m\u001b[0m\n",
            "\u001b[0;31mValueError\u001b[0m: Key must be string."
          ]
        }
      ]
    },
    {
      "metadata": {
        "id": "mAEA2v958uD_",
        "colab_type": "code",
        "colab": {
          "base_uri": "https://localhost:8080/",
          "height": 35
        },
        "outputId": "d567534b-f3c1-4f10-894d-7222ddde6f15"
      },
      "cell_type": "code",
      "source": [
        "d.keys()       # 딕셔너리 메쏘드도 이용할 수 있음"
      ],
      "execution_count": 56,
      "outputs": [
        {
          "output_type": "execute_result",
          "data": {
            "text/plain": [
              "dict_keys(['spam'])"
            ]
          },
          "metadata": {
            "tags": []
          },
          "execution_count": 56
        }
      ]
    },
    {
      "metadata": {
        "id": "3vBFs1RM8uEB",
        "colab_type": "code",
        "colab": {
          "base_uri": "https://localhost:8080/",
          "height": 35
        },
        "outputId": "363b0d2a-8d10-4e17-9635-61eeb7d919e7"
      },
      "cell_type": "code",
      "source": [
        "d[\"normal\"]=30 #normal이라는 두번째 인덱스에 30이 들어가있음\n",
        "d[\"normal\"]"
      ],
      "execution_count": 58,
      "outputs": [
        {
          "output_type": "execute_result",
          "data": {
            "text/plain": [
              "30"
            ]
          },
          "metadata": {
            "tags": []
          },
          "execution_count": 58
        }
      ]
    },
    {
      "metadata": {
        "id": "JnLB7Cpz8uED",
        "colab_type": "code",
        "colab": {
          "base_uri": "https://localhost:8080/",
          "height": 35
        },
        "outputId": "f1fb4ceb-653e-45d8-b862-249701d5450a"
      },
      "cell_type": "code",
      "source": [
        "d.keys()"
      ],
      "execution_count": 59,
      "outputs": [
        {
          "output_type": "execute_result",
          "data": {
            "text/plain": [
              "dict_keys(['spam', 'normal'])"
            ]
          },
          "metadata": {
            "tags": []
          },
          "execution_count": 59
        }
      ]
    },
    {
      "metadata": {
        "id": "II5vrh6E8uEF",
        "colab_type": "code",
        "colab": {
          "base_uri": "https://localhost:8080/",
          "height": 35
        },
        "outputId": "a6449102-71d6-452a-81fc-90243b39e5eb"
      },
      "cell_type": "code",
      "source": [
        "d.items()"
      ],
      "execution_count": 60,
      "outputs": [
        {
          "output_type": "execute_result",
          "data": {
            "text/plain": [
              "dict_items([('spam', 1), ('normal', 30)])"
            ]
          },
          "metadata": {
            "tags": []
          },
          "execution_count": 60
        }
      ]
    },
    {
      "metadata": {
        "id": "jn9ZMcWV8uEG",
        "colab_type": "text"
      },
      "cell_type": "markdown",
      "source": [
        "# Chapter08-01\n",
        "## 모듈 파일 만들기"
      ]
    },
    {
      "metadata": {
        "id": "b6FpR8qy8uEH",
        "colab_type": "text"
      },
      "cell_type": "markdown",
      "source": [
        "### 모듈을 import하는 과정"
      ]
    },
    {
      "metadata": {
        "id": "avQ_tEYn8uEH",
        "colab_type": "code",
        "colab": {}
      },
      "cell_type": "code",
      "source": [
        "# 모듈을 import해서 사용한다\n",
        "import testmodule    # testmodule 모듈을 임포트"
      ],
      "execution_count": 0,
      "outputs": []
    },
    {
      "metadata": {
        "id": "cHOXz4D98uEI",
        "colab_type": "text"
      },
      "cell_type": "markdown",
      "source": [
        "<pre>\n",
        "# testmodule.py\n",
        "    \n",
        "import sys                # 표준 라이브러리를 임포트\n",
        "\n",
        "a = 1                     # 변수를 정의함\n",
        "b = \"some string\"\n",
        "\n",
        "def foo():                # 함수를 정의함\n",
        "    print(\"This is the function 'foo'\")\n",
        "\n",
        "print(\"this is the top level\") # 문자열을 표시함\n",
        "\n",
        "if __name__ == '__main__':\n",
        "    print(\"this is the code block\")\n",
        "\n",
        "</pre>"
      ]
    },
    {
      "metadata": {
        "id": "KFdNOnbH8uEJ",
        "colab_type": "code",
        "colab": {}
      },
      "cell_type": "code",
      "source": [
        "testmodule.a         # 변수를 표시함"
      ],
      "execution_count": 0,
      "outputs": []
    },
    {
      "metadata": {
        "id": "baHYHLfT8uEK",
        "colab_type": "code",
        "colab": {}
      },
      "cell_type": "code",
      "source": [
        "testmodule.b"
      ],
      "execution_count": 0,
      "outputs": []
    },
    {
      "metadata": {
        "id": "OoVjUZ658uEL",
        "colab_type": "code",
        "colab": {}
      },
      "cell_type": "code",
      "source": [
        "testmodule.foo()     # 함수를 호출함"
      ],
      "execution_count": 0,
      "outputs": []
    },
    {
      "metadata": {
        "id": "Pv4gTUdm8uEM",
        "colab_type": "code",
        "colab": {}
      },
      "cell_type": "code",
      "source": [
        "testmodule.sys.argv  # 모듈 속에서 import한 모듈을 사용함"
      ],
      "execution_count": 0,
      "outputs": []
    },
    {
      "metadata": {
        "id": "M_5ngQDA8uEN",
        "colab_type": "text"
      },
      "cell_type": "markdown",
      "source": [
        "### 파일을 실행할 때만 실행하는 블록"
      ]
    },
    {
      "metadata": {
        "id": "OtQqhYfC8uEN",
        "colab_type": "code",
        "colab": {}
      },
      "cell_type": "code",
      "source": [
        "%run testmodule.py  # %run을 사용하여 모듈을 실행"
      ],
      "execution_count": 0,
      "outputs": []
    },
    {
      "metadata": {
        "id": "caokXSrN8uEP",
        "colab_type": "text"
      },
      "cell_type": "markdown",
      "source": [
        "### 클래스와 모듈"
      ]
    },
    {
      "metadata": {
        "id": "K4V-LNo28uEP",
        "colab_type": "code",
        "colab": {}
      },
      "cell_type": "code",
      "source": [
        "# bookmark 모듈을 임포트 함\n",
        "import bookmark     # bookmark 모듈을 임포트 함\n",
        "# Bookmark 클래스에서 인스턴스를 만듦\n",
        "b = bookmark.Bookmark(\"타이틀\", \"http://path.to/site\")"
      ],
      "execution_count": 0,
      "outputs": []
    },
    {
      "metadata": {
        "id": "18hchBbV8uEQ",
        "colab_type": "code",
        "colab": {}
      },
      "cell_type": "code",
      "source": [
        "b"
      ],
      "execution_count": 0,
      "outputs": []
    },
    {
      "metadata": {
        "id": "pUkXiFFw8uER",
        "colab_type": "code",
        "colab": {}
      },
      "cell_type": "code",
      "source": [
        "# from문을 사용하여 Bookmark 클래스를 임포트 함\n",
        "from bookmark import Bookmark # bookmark 모듈을 임포트 함\n",
        "b2 = Bookmark(\"타이틀\", \"http://path.to/site\")"
      ],
      "execution_count": 0,
      "outputs": []
    },
    {
      "metadata": {
        "id": "soZ0rSQj8uER",
        "colab_type": "code",
        "colab": {}
      },
      "cell_type": "code",
      "source": [
        "b2"
      ],
      "execution_count": 0,
      "outputs": []
    },
    {
      "metadata": {
        "id": "2c3E9pLx8uET",
        "colab_type": "code",
        "colab": {}
      },
      "cell_type": "code",
      "source": [
        "dir(b2)"
      ],
      "execution_count": 0,
      "outputs": []
    },
    {
      "metadata": {
        "id": "hRP1fZcb8uEU",
        "colab_type": "code",
        "colab": {}
      },
      "cell_type": "code",
      "source": [
        "b2.title, b2.url"
      ],
      "execution_count": 0,
      "outputs": []
    },
    {
      "metadata": {
        "id": "Y4c4f2Zi8uEU",
        "colab_type": "code",
        "colab": {}
      },
      "cell_type": "code",
      "source": [
        "# bookmark.Bookmark 클래스의 상속\n",
        "import bookmark # bookmark 모듈을 임포트 함\n",
        "\n",
        "class Blogmark(bookmark.Bookmark):\n",
        "    pass"
      ],
      "execution_count": 0,
      "outputs": []
    },
    {
      "metadata": {
        "id": "juu3cGRn8uEV",
        "colab_type": "code",
        "colab": {}
      },
      "cell_type": "code",
      "source": [
        "# from 문장을 사용하여 Bookmark 클래스를 임포트해서 상속함\n",
        "from bookmark import Bookmark # bookmark 모듈을 임포트 함\n",
        "class Blogmark(Bookmark):\n",
        "    pass"
      ],
      "execution_count": 0,
      "outputs": []
    },
    {
      "metadata": {
        "id": "q_lYHPlB8uEW",
        "colab_type": "text"
      },
      "cell_type": "markdown",
      "source": [
        "***"
      ]
    },
    {
      "metadata": {
        "id": "u4_rFTiC8uEW",
        "colab_type": "text"
      },
      "cell_type": "markdown",
      "source": [
        "## [wk09] homework\n",
        "\n",
        "> 다음 Youtube 강의를 들으면서 파이썬 노트북을 만들어서 각자의 github에 올리시오.(마감: 2018.10.28. 24:00)\n",
        "\n",
        "#### 제출 파일명: Summary_class.ipynb\n"
      ]
    },
    {
      "metadata": {
        "id": "bxlcWEhiUph3",
        "colab_type": "code",
        "colab": {}
      },
      "cell_type": "code",
      "source": [
        ""
      ],
      "execution_count": 0,
      "outputs": []
    },
    {
      "metadata": {
        "id": "EmFhdJ2D8uEW",
        "colab_type": "code",
        "colab": {}
      },
      "cell_type": "code",
      "source": [
        "from IPython.lib.display import YouTubeVideo\n",
        "YouTubeVideo('5Xy5Ju7hYo4')  # 파이썬 클래스, 예외처리, with"
      ],
      "execution_count": 0,
      "outputs": []
    },
    {
      "metadata": {
        "id": "0u-Psd_08uEa",
        "colab_type": "text"
      },
      "cell_type": "markdown",
      "source": [
        "***"
      ]
    },
    {
      "metadata": {
        "id": "lbJMcA0w8uEa",
        "colab_type": "code",
        "colab": {}
      },
      "cell_type": "code",
      "source": [
        ""
      ],
      "execution_count": 0,
      "outputs": []
    }
  ]
}