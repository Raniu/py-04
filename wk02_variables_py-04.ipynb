{
  "nbformat": 4,
  "nbformat_minor": 0,
  "metadata": {
    "colab": {
      "name": "wk02_variables_py04.ipynb의 사본",
      "version": "0.3.2",
      "provenance": [],
      "collapsed_sections": [
        "KqhGRyZgy6kK",
        "_T74cO2v0GSO",
        "4h4iUYUJyu37",
        "M9H4cMAF1WLL"
      ],
      "include_colab_link": true
    },
    "kernelspec": {
      "name": "python3",
      "display_name": "Python 3"
    }
  },
  "cells": [
    {
      "cell_type": "markdown",
      "metadata": {
        "id": "view-in-github",
        "colab_type": "text"
      },
      "source": [
        "[View in Colaboratory](https://colab.research.google.com/github/Raniu/py-04/blob/master/wk02_variables_py-04.ipynb)"
      ]
    },
    {
      "metadata": {
        "id": "EDZ9kKA47z37",
        "colab_type": "text"
      },
      "cell_type": "markdown",
      "source": [
        "#기본연산\n"
      ]
    },
    {
      "metadata": {
        "id": "IgO8nQsL73GS",
        "colab_type": "toc"
      },
      "cell_type": "markdown",
      "source": [
        ">[기본연산](#scrollTo=EDZ9kKA47z37)\n",
        "\n",
        ">>[변수(variables)](#scrollTo=tm7xIMlVqdq8)\n",
        "\n",
        ">>>[문자열](#scrollTo=JuybzFACy3Qa)\n",
        "\n",
        ">>>[여러행 문자열 \"\"\"](#scrollTo=KqhGRyZgy6kK)\n",
        "\n",
        ">>>[여러 행 수식](#scrollTo=_T74cO2v0GSO)\n",
        "\n",
        ">>>[숫자와 문자열 처리](#scrollTo=NM3uYHq80NgM)\n",
        "\n",
        ">>>>[변수 type](#scrollTo=E6Y3E1ALyEjz)\n",
        "\n",
        ">>>[문자열을 숫자로 변환 : int(),flaot()](#scrollTo=4h4iUYUJyu37)\n",
        "\n",
        ">>[예약어(keywords)](#scrollTo=0ITLMyyryNcz)\n",
        "\n",
        ">>>[예약어는 변수 이름으로 사용할 수 없다(오류가 발생함) --_를 붙여준다](#scrollTo=M9H4cMAF1WLL)\n",
        "\n",
        ">>[User input](#scrollTo=da1OQrHm1hma)\n",
        "\n",
        ">>[Code block & Indentation(들여쓰기)](#scrollTo=rSZj0_4O1lYa)\n",
        "\n",
        ">>>[Indentation error](#scrollTo=NaiIGBJP3CPj)\n",
        "\n",
        ">>[도전 코딩1.BMI = M/H**2, [M(kg),H(m)]](#scrollTo=ZY9syhtY3bgi)\n",
        "\n",
        ">>[도전 코딩2. Burning fat by jogging](#scrollTo=PjH-OpVx5kIj)\n",
        "\n"
      ]
    },
    {
      "metadata": {
        "id": "tm7xIMlVqdq8",
        "colab_type": "text"
      },
      "cell_type": "markdown",
      "source": [
        "##변수(variables)"
      ]
    },
    {
      "metadata": {
        "id": "QvT-0ashqBsu",
        "colab_type": "code",
        "colab": {
          "base_uri": "https://localhost:8080/",
          "height": 35
        },
        "outputId": "5aef9d9a-8e13-4a53-9536-c43fff21add5"
      },
      "cell_type": "code",
      "source": [
        "5-5+1+9"
      ],
      "execution_count": 0,
      "outputs": [
        {
          "output_type": "execute_result",
          "data": {
            "text/plain": [
              "10"
            ]
          },
          "metadata": {
            "tags": []
          },
          "execution_count": 1
        }
      ]
    },
    {
      "metadata": {
        "id": "SWuMItbYqxcI",
        "colab_type": "code",
        "colab": {
          "base_uri": "https://localhost:8080/",
          "height": 35
        },
        "outputId": "4346cb90-6733-43eb-a61b-acb3036b7766"
      },
      "cell_type": "code",
      "source": [
        "5/5/3+9"
      ],
      "execution_count": 0,
      "outputs": [
        {
          "output_type": "execute_result",
          "data": {
            "text/plain": [
              "9.333333333333334"
            ]
          },
          "metadata": {
            "tags": []
          },
          "execution_count": 2
        }
      ]
    },
    {
      "metadata": {
        "id": "SwcDbHAvrCCD",
        "colab_type": "code",
        "colab": {
          "base_uri": "https://localhost:8080/",
          "height": 35
        },
        "outputId": "5236e9c0-31a1-49e7-8e22-886816a1ea08"
      },
      "cell_type": "code",
      "source": [
        "5/(5/3)+9"
      ],
      "execution_count": 0,
      "outputs": [
        {
          "output_type": "execute_result",
          "data": {
            "text/plain": [
              "12.0"
            ]
          },
          "metadata": {
            "tags": []
          },
          "execution_count": 3
        }
      ]
    },
    {
      "metadata": {
        "id": "7J4h_Pk7rOto",
        "colab_type": "code",
        "colab": {
          "base_uri": "https://localhost:8080/",
          "height": 35
        },
        "outputId": "ef244d0f-090e-407b-b775-1baf56dae103"
      },
      "cell_type": "code",
      "source": [
        "5/5*1+9"
      ],
      "execution_count": 0,
      "outputs": [
        {
          "output_type": "execute_result",
          "data": {
            "text/plain": [
              "10.0"
            ]
          },
          "metadata": {
            "tags": []
          },
          "execution_count": 4
        }
      ]
    },
    {
      "metadata": {
        "id": "hUHhRbb5rcnK",
        "colab_type": "code",
        "colab": {
          "base_uri": "https://localhost:8080/",
          "height": 35
        },
        "outputId": "c6a89e01-29a9-4a64-d087-bc38c65b56a6"
      },
      "cell_type": "code",
      "source": [
        "5/5*(1+9)"
      ],
      "execution_count": 0,
      "outputs": [
        {
          "output_type": "execute_result",
          "data": {
            "text/plain": [
              "10.0"
            ]
          },
          "metadata": {
            "tags": []
          },
          "execution_count": 5
        }
      ]
    },
    {
      "metadata": {
        "id": "JuybzFACy3Qa",
        "colab_type": "text"
      },
      "cell_type": "markdown",
      "source": [
        "###문자열"
      ]
    },
    {
      "metadata": {
        "id": "kDsljqyRrh9M",
        "colab_type": "code",
        "colab": {}
      },
      "cell_type": "code",
      "source": [
        " some_var = 100"
      ],
      "execution_count": 0,
      "outputs": []
    },
    {
      "metadata": {
        "id": "XuGyKPSjsVn3",
        "colab_type": "code",
        "colab": {}
      },
      "cell_type": "code",
      "source": [
        "some_var=\"강남스타일\""
      ],
      "execution_count": 0,
      "outputs": []
    },
    {
      "metadata": {
        "id": "0OyJuJJRsZmX",
        "colab_type": "code",
        "colab": {
          "base_uri": "https://localhost:8080/",
          "height": 35
        },
        "outputId": "2e677d6b-b5e6-4adf-d4bf-48bad8ec46cd"
      },
      "cell_type": "code",
      "source": [
        "some_var"
      ],
      "execution_count": 0,
      "outputs": [
        {
          "output_type": "execute_result",
          "data": {
            "text/plain": [
              "'강남스타일'"
            ]
          },
          "metadata": {
            "tags": []
          },
          "execution_count": 8
        }
      ]
    },
    {
      "metadata": {
        "id": "AeCuXLzFshmI",
        "colab_type": "code",
        "colab": {}
      },
      "cell_type": "code",
      "source": [
        "psy=\"오빤 강남스타일 \""
      ],
      "execution_count": 0,
      "outputs": []
    },
    {
      "metadata": {
        "id": "SfC7YHCfs5XR",
        "colab_type": "code",
        "colab": {}
      },
      "cell_type": "code",
      "source": [
        "psy=psy+\"오, 강남스타일\""
      ],
      "execution_count": 0,
      "outputs": []
    },
    {
      "metadata": {
        "id": "Na-OiyUdtBSI",
        "colab_type": "code",
        "colab": {
          "base_uri": "https://localhost:8080/",
          "height": 35
        },
        "outputId": "213c5958-eb20-46c8-c0d1-1ee55fbb2c0d"
      },
      "cell_type": "code",
      "source": [
        "psy"
      ],
      "execution_count": 0,
      "outputs": [
        {
          "output_type": "execute_result",
          "data": {
            "text/plain": [
              "'오빤 강남스타일 오, 강남스타일'"
            ]
          },
          "metadata": {
            "tags": []
          },
          "execution_count": 11
        }
      ]
    },
    {
      "metadata": {
        "id": "cyeISATGtCct",
        "colab_type": "code",
        "colab": {}
      },
      "cell_type": "code",
      "source": [
        "psy2 = \"아름다워 사랑스러워 \""
      ],
      "execution_count": 0,
      "outputs": []
    },
    {
      "metadata": {
        "id": "MvpNE7vDtiCG",
        "colab_type": "code",
        "colab": {}
      },
      "cell_type": "code",
      "source": [
        "psy2 += \"그래 너, 그래 바로 너\""
      ],
      "execution_count": 0,
      "outputs": []
    },
    {
      "metadata": {
        "id": "7RCoKCjTtnz_",
        "colab_type": "code",
        "colab": {
          "base_uri": "https://localhost:8080/",
          "height": 35
        },
        "outputId": "b4b41916-e371-4081-f02a-f0da65a9c110"
      },
      "cell_type": "code",
      "source": [
        "psy2"
      ],
      "execution_count": 0,
      "outputs": [
        {
          "output_type": "execute_result",
          "data": {
            "text/plain": [
              "'아름다워 사랑스러워 그래 너, 그래 바로 너'"
            ]
          },
          "metadata": {
            "tags": []
          },
          "execution_count": 14
        }
      ]
    },
    {
      "metadata": {
        "id": "KqhGRyZgy6kK",
        "colab_type": "text"
      },
      "cell_type": "markdown",
      "source": [
        "###여러행 문자열 \"\"\""
      ]
    },
    {
      "metadata": {
        "id": "ae9nyGcBtr22",
        "colab_type": "code",
        "colab": {}
      },
      "cell_type": "code",
      "source": [
        "psy = \"\"\"낮에는 따사로운 인간적인 여자\n",
        "커피 한잔의 여유를 아는 품격있는 여자\n",
        "밤이 오면 심장이 뜨거워지는 여자 그런 반전 있는 여자\"\"\""
      ],
      "execution_count": 0,
      "outputs": []
    },
    {
      "metadata": {
        "id": "pWr4iIxOt9nU",
        "colab_type": "code",
        "colab": {
          "base_uri": "https://localhost:8080/",
          "height": 55
        },
        "outputId": "e655f4fe-5895-405c-ed1f-74c2299f56ab"
      },
      "cell_type": "code",
      "source": [
        "psy"
      ],
      "execution_count": 0,
      "outputs": [
        {
          "output_type": "execute_result",
          "data": {
            "text/plain": [
              "'낮에는 따사로운 인간적인 여자\\n커피 한잔의 여유를 아는 품격있는 여자\\n밤이 오면 심장이 뜨거워지는 여자 그런 반전 있는 여자'"
            ]
          },
          "metadata": {
            "tags": []
          },
          "execution_count": 16
        }
      ]
    },
    {
      "metadata": {
        "id": "oM8z8vwIuDwR",
        "colab_type": "code",
        "colab": {
          "base_uri": "https://localhost:8080/",
          "height": 71
        },
        "outputId": "29396bb5-0a68-4926-c946-9964fc79c5ff"
      },
      "cell_type": "code",
      "source": [
        "print(psy)"
      ],
      "execution_count": 0,
      "outputs": [
        {
          "output_type": "stream",
          "text": [
            "낮에는 따사로운 인간적인 여자\n",
            "커피 한잔의 여유를 아는 품격있는 여자\n",
            "밤이 오면 심장이 뜨거워지는 여자 그런 반전 있는 여자\n"
          ],
          "name": "stdout"
        }
      ]
    },
    {
      "metadata": {
        "id": "_T74cO2v0GSO",
        "colab_type": "text"
      },
      "cell_type": "markdown",
      "source": [
        "###여러 행 수식"
      ]
    },
    {
      "metadata": {
        "id": "mmaSmrqwuHNj",
        "colab_type": "code",
        "colab": {}
      },
      "cell_type": "code",
      "source": [
        "sum = 10 + 20 +\\\n",
        "30+40"
      ],
      "execution_count": 0,
      "outputs": []
    },
    {
      "metadata": {
        "id": "sMHtqtJhuLBX",
        "colab_type": "code",
        "colab": {
          "base_uri": "https://localhost:8080/",
          "height": 35
        },
        "outputId": "9405e5f2-b7d2-4456-ea5c-159bfa931c46"
      },
      "cell_type": "code",
      "source": [
        "sum"
      ],
      "execution_count": 0,
      "outputs": [
        {
          "output_type": "execute_result",
          "data": {
            "text/plain": [
              "100"
            ]
          },
          "metadata": {
            "tags": []
          },
          "execution_count": 19
        }
      ]
    },
    {
      "metadata": {
        "id": "hJGFxr0NuaQb",
        "colab_type": "code",
        "colab": {
          "base_uri": "https://localhost:8080/",
          "height": 208
        },
        "outputId": "c52939cb-0cb6-4f5c-c5f3-01bb4b723f03"
      },
      "cell_type": "code",
      "source": [
        "day =3\n",
        "date = day + \" 일\"\n",
        "print(date)"
      ],
      "execution_count": 0,
      "outputs": [
        {
          "output_type": "error",
          "ename": "TypeError",
          "evalue": "ignored",
          "traceback": [
            "\u001b[0;31m---------------------------------------------------------------------------\u001b[0m",
            "\u001b[0;31mTypeError\u001b[0m                                 Traceback (most recent call last)",
            "\u001b[0;32m<ipython-input-20-93be14d983fb>\u001b[0m in \u001b[0;36m<module>\u001b[0;34m()\u001b[0m\n\u001b[1;32m      1\u001b[0m \u001b[0mday\u001b[0m \u001b[0;34m=\u001b[0m\u001b[0;36m3\u001b[0m\u001b[0;34m\u001b[0m\u001b[0m\n\u001b[0;32m----> 2\u001b[0;31m \u001b[0mdate\u001b[0m \u001b[0;34m=\u001b[0m \u001b[0mday\u001b[0m \u001b[0;34m+\u001b[0m \u001b[0;34m\" 일\"\u001b[0m\u001b[0;34m\u001b[0m\u001b[0m\n\u001b[0m\u001b[1;32m      3\u001b[0m \u001b[0mprint\u001b[0m\u001b[0;34m(\u001b[0m\u001b[0mdate\u001b[0m\u001b[0;34m)\u001b[0m\u001b[0;34m\u001b[0m\u001b[0m\n",
            "\u001b[0;31mTypeError\u001b[0m: unsupported operand type(s) for +: 'int' and 'str'"
          ]
        }
      ]
    },
    {
      "metadata": {
        "id": "NM3uYHq80NgM",
        "colab_type": "text"
      },
      "cell_type": "markdown",
      "source": [
        "### 숫자와 문자열 처리"
      ]
    },
    {
      "metadata": {
        "id": "XehSLLvhupJO",
        "colab_type": "code",
        "colab": {
          "base_uri": "https://localhost:8080/",
          "height": 35
        },
        "outputId": "343b4c04-661a-4192-e99c-c20d74c3951f"
      },
      "cell_type": "code",
      "source": [
        "date = str(day) + \" 일\"\n",
        "print(date)"
      ],
      "execution_count": 0,
      "outputs": [
        {
          "output_type": "stream",
          "text": [
            "3 일\n"
          ],
          "name": "stdout"
        }
      ]
    },
    {
      "metadata": {
        "id": "H46TLi2vu15_",
        "colab_type": "code",
        "colab": {
          "base_uri": "https://localhost:8080/",
          "height": 35
        },
        "outputId": "6aab5580-8f7f-467a-d614-c79b0625c0ae"
      },
      "cell_type": "code",
      "source": [
        "day=3\n",
        "str_day=str(day)\n",
        "date = str_day + \" 일\"\n",
        "print(date)"
      ],
      "execution_count": 0,
      "outputs": [
        {
          "output_type": "stream",
          "text": [
            "3 일\n"
          ],
          "name": "stdout"
        }
      ]
    },
    {
      "metadata": {
        "id": "E6Y3E1ALyEjz",
        "colab_type": "text"
      },
      "cell_type": "markdown",
      "source": [
        "#### 변수 type\n"
      ]
    },
    {
      "metadata": {
        "id": "91Ll-6nivGrR",
        "colab_type": "code",
        "colab": {
          "base_uri": "https://localhost:8080/",
          "height": 35
        },
        "outputId": "fd6e1634-3263-4e34-951a-3b4eecd4f226"
      },
      "cell_type": "code",
      "source": [
        "#변수\n",
        "type(day)"
      ],
      "execution_count": 0,
      "outputs": [
        {
          "output_type": "execute_result",
          "data": {
            "text/plain": [
              "int"
            ]
          },
          "metadata": {
            "tags": []
          },
          "execution_count": 23
        }
      ]
    },
    {
      "metadata": {
        "id": "A48efXO0vZyU",
        "colab_type": "code",
        "colab": {
          "base_uri": "https://localhost:8080/",
          "height": 35
        },
        "outputId": "7d7ea36b-d800-4e88-f646-e25588d7b060"
      },
      "cell_type": "code",
      "source": [
        "type(day), type(str_day), type(date)"
      ],
      "execution_count": 0,
      "outputs": [
        {
          "output_type": "execute_result",
          "data": {
            "text/plain": [
              "(int, str, str)"
            ]
          },
          "metadata": {
            "tags": []
          },
          "execution_count": 24
        }
      ]
    },
    {
      "metadata": {
        "id": "a2HhNT_xvhWD",
        "colab_type": "code",
        "colab": {
          "base_uri": "https://localhost:8080/",
          "height": 1331
        },
        "outputId": "e8e3d952-0e67-463b-d6b2-05a8a515a217"
      },
      "cell_type": "code",
      "source": [
        "dir()"
      ],
      "execution_count": 0,
      "outputs": [
        {
          "output_type": "execute_result",
          "data": {
            "text/plain": [
              "['In',\n",
              " 'Out',\n",
              " '_',\n",
              " '_1',\n",
              " '_11',\n",
              " '_14',\n",
              " '_16',\n",
              " '_19',\n",
              " '_2',\n",
              " '_23',\n",
              " '_24',\n",
              " '_3',\n",
              " '_4',\n",
              " '_5',\n",
              " '_8',\n",
              " '_TensorFlowImportHook',\n",
              " '__',\n",
              " '___',\n",
              " '__builtin__',\n",
              " '__builtins__',\n",
              " '__doc__',\n",
              " '__loader__',\n",
              " '__name__',\n",
              " '__package__',\n",
              " '__spec__',\n",
              " '_dh',\n",
              " '_i',\n",
              " '_i1',\n",
              " '_i10',\n",
              " '_i11',\n",
              " '_i12',\n",
              " '_i13',\n",
              " '_i14',\n",
              " '_i15',\n",
              " '_i16',\n",
              " '_i17',\n",
              " '_i18',\n",
              " '_i19',\n",
              " '_i2',\n",
              " '_i20',\n",
              " '_i21',\n",
              " '_i22',\n",
              " '_i23',\n",
              " '_i24',\n",
              " '_i25',\n",
              " '_i3',\n",
              " '_i4',\n",
              " '_i5',\n",
              " '_i6',\n",
              " '_i7',\n",
              " '_i8',\n",
              " '_i9',\n",
              " '_ih',\n",
              " '_ii',\n",
              " '_iii',\n",
              " '_oh',\n",
              " '_sh',\n",
              " 'date',\n",
              " 'datetime',\n",
              " 'day',\n",
              " 'exit',\n",
              " 'get_ipython',\n",
              " 'imp',\n",
              " 'logging',\n",
              " 'os',\n",
              " 'psy',\n",
              " 'psy2',\n",
              " 'quit',\n",
              " 'register_hook',\n",
              " 'some_var',\n",
              " 'str_day',\n",
              " 'sum',\n",
              " 'sys']"
            ]
          },
          "metadata": {
            "tags": []
          },
          "execution_count": 25
        }
      ]
    },
    {
      "metadata": {
        "id": "4h4iUYUJyu37",
        "colab_type": "text"
      },
      "cell_type": "markdown",
      "source": [
        "###문자열을 숫자로 변환 : int(),flaot()"
      ]
    },
    {
      "metadata": {
        "id": "U6t6hQxevuMH",
        "colab_type": "code",
        "colab": {}
      },
      "cell_type": "code",
      "source": [
        "num= int(\"31\")\n",
        "pi=float('3.141592')"
      ],
      "execution_count": 0,
      "outputs": []
    },
    {
      "metadata": {
        "id": "8fE0ZELHw3FX",
        "colab_type": "code",
        "colab": {
          "base_uri": "https://localhost:8080/",
          "height": 35
        },
        "outputId": "cba91ebf-fe17-4fed-d0c2-b4c475a3c9a0"
      },
      "cell_type": "code",
      "source": [
        "# num.pi\n",
        "num"
      ],
      "execution_count": 0,
      "outputs": [
        {
          "output_type": "execute_result",
          "data": {
            "text/plain": [
              "31"
            ]
          },
          "metadata": {
            "tags": []
          },
          "execution_count": 27
        }
      ]
    },
    {
      "metadata": {
        "id": "3ouvtrHKw7Oe",
        "colab_type": "code",
        "colab": {
          "base_uri": "https://localhost:8080/",
          "height": 35
        },
        "outputId": "3fda0e45-5d19-4dd2-b637-d3879c53d4ee"
      },
      "cell_type": "code",
      "source": [
        "pi,type(pi)"
      ],
      "execution_count": 0,
      "outputs": [
        {
          "output_type": "execute_result",
          "data": {
            "text/plain": [
              "(3.141592, float)"
            ]
          },
          "metadata": {
            "tags": []
          },
          "execution_count": 29
        }
      ]
    },
    {
      "metadata": {
        "id": "3lu_NFKYxNoU",
        "colab_type": "code",
        "colab": {
          "base_uri": "https://localhost:8080/",
          "height": 35
        },
        "outputId": "aeedc3a2-2247-449f-df95-47890614bbf0"
      },
      "cell_type": "code",
      "source": [
        "print(\"num = {}, pi={}\".format(num,pi))"
      ],
      "execution_count": 0,
      "outputs": [
        {
          "output_type": "stream",
          "text": [
            "num = 31, pi=3.141592\n"
          ],
          "name": "stdout"
        }
      ]
    },
    {
      "metadata": {
        "id": "0ITLMyyryNcz",
        "colab_type": "text"
      },
      "cell_type": "markdown",
      "source": [
        "## 예약어(keywords)"
      ]
    },
    {
      "metadata": {
        "id": "YiVXPRfG0UFE",
        "colab_type": "code",
        "colab": {
          "base_uri": "https://localhost:8080/",
          "height": 35
        },
        "outputId": "5f52cb88-8b95-4f31-82a6-096b62807e4f"
      },
      "cell_type": "code",
      "source": [
        "import keyword\n",
        "\n",
        "#파이썬의 예약어 수\n",
        "\n",
        "len(keyword.kwlist)"
      ],
      "execution_count": 0,
      "outputs": [
        {
          "output_type": "execute_result",
          "data": {
            "text/plain": [
              "33"
            ]
          },
          "metadata": {
            "tags": []
          },
          "execution_count": 31
        }
      ]
    },
    {
      "metadata": {
        "id": "f-2Xu4i30vfG",
        "colab_type": "code",
        "colab": {
          "base_uri": "https://localhost:8080/",
          "height": 35
        },
        "outputId": "70a69463-3199-4fb7-ad09-9c769d8570bb"
      },
      "cell_type": "code",
      "source": [
        "keyword"
      ],
      "execution_count": 0,
      "outputs": [
        {
          "output_type": "execute_result",
          "data": {
            "text/plain": [
              "<module 'keyword' from '/usr/lib/python3.6/keyword.py'>"
            ]
          },
          "metadata": {
            "tags": []
          },
          "execution_count": 32
        }
      ]
    },
    {
      "metadata": {
        "id": "fbT2HhXK0ycC",
        "colab_type": "code",
        "colab": {
          "base_uri": "https://localhost:8080/",
          "height": 611
        },
        "outputId": "491e2095-604d-4add-8db6-af3dcea7abfc"
      },
      "cell_type": "code",
      "source": [
        "#예약어 목록\n",
        "keyword.kwlist"
      ],
      "execution_count": 0,
      "outputs": [
        {
          "output_type": "execute_result",
          "data": {
            "text/plain": [
              "['False',\n",
              " 'None',\n",
              " 'True',\n",
              " 'and',\n",
              " 'as',\n",
              " 'assert',\n",
              " 'break',\n",
              " 'class',\n",
              " 'continue',\n",
              " 'def',\n",
              " 'del',\n",
              " 'elif',\n",
              " 'else',\n",
              " 'except',\n",
              " 'finally',\n",
              " 'for',\n",
              " 'from',\n",
              " 'global',\n",
              " 'if',\n",
              " 'import',\n",
              " 'in',\n",
              " 'is',\n",
              " 'lambda',\n",
              " 'nonlocal',\n",
              " 'not',\n",
              " 'or',\n",
              " 'pass',\n",
              " 'raise',\n",
              " 'return',\n",
              " 'try',\n",
              " 'while',\n",
              " 'with',\n",
              " 'yield']"
            ]
          },
          "metadata": {
            "tags": []
          },
          "execution_count": 33
        }
      ]
    },
    {
      "metadata": {
        "id": "yRDVWV_R07ut",
        "colab_type": "code",
        "colab": {
          "base_uri": "https://localhost:8080/",
          "height": 136
        },
        "outputId": "50b98bac-d6b0-4185-bd47-6adca9868714"
      },
      "cell_type": "code",
      "source": [
        "as = \"inje\""
      ],
      "execution_count": 0,
      "outputs": [
        {
          "output_type": "error",
          "ename": "SyntaxError",
          "evalue": "ignored",
          "traceback": [
            "\u001b[0;36m  File \u001b[0;32m\"<ipython-input-35-e77f5820d78a>\"\u001b[0;36m, line \u001b[0;32m1\u001b[0m\n\u001b[0;31m    as = \"inje\"\u001b[0m\n\u001b[0m     ^\u001b[0m\n\u001b[0;31mSyntaxError\u001b[0m\u001b[0;31m:\u001b[0m invalid syntax\n"
          ]
        }
      ]
    },
    {
      "metadata": {
        "id": "4Y7oZLWq1DbW",
        "colab_type": "code",
        "colab": {
          "base_uri": "https://localhost:8080/",
          "height": 35
        },
        "outputId": "8f2c6564-9ae0-432a-c709-71f34c4d0996"
      },
      "cell_type": "code",
      "source": [
        "_as = \"inje\"\n",
        "_as"
      ],
      "execution_count": 0,
      "outputs": [
        {
          "output_type": "execute_result",
          "data": {
            "text/plain": [
              "'inje'"
            ]
          },
          "metadata": {
            "tags": []
          },
          "execution_count": 36
        }
      ]
    },
    {
      "metadata": {
        "id": "M9H4cMAF1WLL",
        "colab_type": "text"
      },
      "cell_type": "markdown",
      "source": [
        "###예약어는 변수 이름으로 사용할 수 없다(오류가 발생함) --_를 붙여준다\n"
      ]
    },
    {
      "metadata": {
        "id": "da1OQrHm1hma",
        "colab_type": "text"
      },
      "cell_type": "markdown",
      "source": [
        "##User input"
      ]
    },
    {
      "metadata": {
        "id": "QVNS6yy21Usn",
        "colab_type": "code",
        "colab": {
          "base_uri": "https://localhost:8080/",
          "height": 35
        },
        "outputId": "4ee61726-46de-40cf-93c4-3ac747c7df97"
      },
      "cell_type": "code",
      "source": [
        "name = input(\"Please write down your name here! \")"
      ],
      "execution_count": 0,
      "outputs": [
        {
          "output_type": "stream",
          "text": [
            "Please write down your name here! 김주란\n"
          ],
          "name": "stdout"
        }
      ]
    },
    {
      "metadata": {
        "id": "AlXOe0O82BN9",
        "colab_type": "code",
        "colab": {
          "base_uri": "https://localhost:8080/",
          "height": 35
        },
        "outputId": "868f1a1d-863a-45f9-d963-79662b99dd4c"
      },
      "cell_type": "code",
      "source": [
        "name"
      ],
      "execution_count": 0,
      "outputs": [
        {
          "output_type": "execute_result",
          "data": {
            "text/plain": [
              "'김주란'"
            ]
          },
          "metadata": {
            "tags": []
          },
          "execution_count": 38
        }
      ]
    },
    {
      "metadata": {
        "id": "rSZj0_4O1lYa",
        "colab_type": "text"
      },
      "cell_type": "markdown",
      "source": [
        "##Code block & Indentation(들여쓰기)"
      ]
    },
    {
      "metadata": {
        "id": "bZltgn4N1qx5",
        "colab_type": "code",
        "colab": {
          "base_uri": "https://localhost:8080/",
          "height": 71
        },
        "outputId": "b8848da4-7842-451f-ab57-3f3d5801e49d"
      },
      "cell_type": "code",
      "source": [
        "if(10>3) :\n",
        "  print('inside if block')\n",
        "  print('still inside if block')\n",
        "\n",
        "print('outside if block!')"
      ],
      "execution_count": 0,
      "outputs": [
        {
          "output_type": "stream",
          "text": [
            "inside if block\n",
            "still inside if block\n",
            "outside if block!\n"
          ],
          "name": "stdout"
        }
      ]
    },
    {
      "metadata": {
        "id": "NaiIGBJP3CPj",
        "colab_type": "text"
      },
      "cell_type": "markdown",
      "source": [
        "### Indentation error"
      ]
    },
    {
      "metadata": {
        "id": "B_q3aDrW2yW1",
        "colab_type": "code",
        "colab": {
          "base_uri": "https://localhost:8080/",
          "height": 136
        },
        "outputId": "141d5857-6f8b-431d-8a95-43e58767253c"
      },
      "cell_type": "code",
      "source": [
        "if(10>3) :\n",
        "  print('inside if block')\n",
        "    print('still inside if block')\n",
        "print('outside if block!')"
      ],
      "execution_count": 0,
      "outputs": [
        {
          "output_type": "error",
          "ename": "IndentationError",
          "evalue": "ignored",
          "traceback": [
            "\u001b[0;36m  File \u001b[0;32m\"<ipython-input-44-2241692e5de4>\"\u001b[0;36m, line \u001b[0;32m3\u001b[0m\n\u001b[0;31m    print('still inside if block')\u001b[0m\n\u001b[0m    ^\u001b[0m\n\u001b[0;31mIndentationError\u001b[0m\u001b[0;31m:\u001b[0m unexpected indent\n"
          ]
        }
      ]
    },
    {
      "metadata": {
        "id": "ZY9syhtY3bgi",
        "colab_type": "text"
      },
      "cell_type": "markdown",
      "source": [
        "##도전 코딩1.BMI = M/H**2, [M(kg),H(m)]"
      ]
    },
    {
      "metadata": {
        "id": "VnKa6ISB3awj",
        "colab_type": "code",
        "colab": {
          "base_uri": "https://localhost:8080/",
          "height": 71
        },
        "outputId": "dfbc076b-d16e-4a69-c572-19f33e3dfb3a"
      },
      "cell_type": "code",
      "source": [
        "h= float(input(\"Your height in meters:\"))\n",
        "m=int(input(\"Your weight in kilograms\"))\n",
        "bmi = round(m/(h*h), 1)\n",
        "bmi"
      ],
      "execution_count": 0,
      "outputs": [
        {
          "output_type": "stream",
          "text": [
            "Your height in meters:1.67\n",
            "Your weight in kilograms48\n"
          ],
          "name": "stdout"
        },
        {
          "output_type": "execute_result",
          "data": {
            "text/plain": [
              "17.2"
            ]
          },
          "metadata": {
            "tags": []
          },
          "execution_count": 48
        }
      ]
    },
    {
      "metadata": {
        "id": "sPAw7P675COi",
        "colab_type": "text"
      },
      "cell_type": "markdown",
      "source": [
        "BMI\n",
        "[BMI](http://bmi.calculate.kr/)\n"
      ]
    },
    {
      "metadata": {
        "id": "PjH-OpVx5kIj",
        "colab_type": "text"
      },
      "cell_type": "markdown",
      "source": [
        "##도전 코딩2. Burning fat by jogging\n",
        "1.조깅에서 1kg 지방을 태우는 데 몇 시간 걸리는지를 계산\n",
        "\n",
        "2.조깅에서 1kg 체중 감소하는데 몇 분이 필요할까?"
      ]
    },
    {
      "metadata": {
        "id": "lsHjTxA85dhq",
        "colab_type": "code",
        "colab": {}
      },
      "cell_type": "code",
      "source": [
        "# 1. 조깅에서 1kg 지방을 태우는 데 몇 시간 걸리는지를 계산\n",
        "cal_per_1kg_fat = 7200 # 지방 1kg 연소에 필요한 열량\n",
        "\n",
        "cal_per_1min_jog = 7.76 # 조깅 1 분에 의한 소비 칼로리"
      ],
      "execution_count": 0,
      "outputs": []
    },
    {
      "metadata": {
        "id": "dyQrEKUl593x",
        "colab_type": "code",
        "colab": {
          "base_uri": "https://localhost:8080/",
          "height": 53
        },
        "outputId": "0758a32a-cf13-4139-d73f-04b01abbaad3"
      },
      "cell_type": "code",
      "source": [
        "# 2. 조깅에서 1kg 체중 감소하는데 몇 분이 필요할까?\n",
        "min_to_lose1kg = cal_per_1kg_fat/cal_per_1min_jog\n",
        "\n",
        "hours_to_lose1kg = min_to_lose1kg/60 # 분을 시간으로 환산\n",
        "\n",
        "print(round(hours_to_lose1kg, 1)) # 변수의 내용을 표시\n",
        "\n",
        "print(str(round(hours_to_lose1kg, 1)) + \"시간\") "
      ],
      "execution_count": 0,
      "outputs": [
        {
          "output_type": "stream",
          "text": [
            "15.5\n",
            "15.5시간\n"
          ],
          "name": "stdout"
        }
      ]
    },
    {
      "metadata": {
        "id": "rEmdkMsb6CXI",
        "colab_type": "code",
        "colab": {
          "base_uri": "https://localhost:8080/",
          "height": 35
        },
        "outputId": "ea3c2ef3-1b98-46cd-c1f5-1a74f642fabd"
      },
      "cell_type": "code",
      "source": [
        "print(\"{} 시간\".format(round(hours_to_lose1kg, 1)))"
      ],
      "execution_count": 0,
      "outputs": [
        {
          "output_type": "stream",
          "text": [
            "15.5 시간\n"
          ],
          "name": "stdout"
        }
      ]
    }
  ]
}