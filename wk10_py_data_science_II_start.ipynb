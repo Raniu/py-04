{
  "nbformat": 4,
  "nbformat_minor": 0,
  "metadata": {
    "colab": {
      "name": "wk10_py_data_science_II_start.ipynb",
      "version": "0.3.2",
      "provenance": [],
      "collapsed_sections": [
        "KNqDRYg6DvIL",
        "G5fdostkDvIV",
        "pfQRvwC_DvIe",
        "VGpe5KMlDvIh",
        "8MVhzJC2DvIq",
        "66TtnlT4DvIy",
        "ncFaKwsVDvI-",
        "PcifYKjfDvJH",
        "V_qAs6uZDvJQ",
        "EliCFVNpDvJX",
        "19G5CLRrDvJa",
        "vF32nbqwDvJj",
        "UzBxlCklDvJq",
        "LHQCrMnzDvJy"
      ],
      "include_colab_link": true
    },
    "kernelspec": {
      "display_name": "Python 3",
      "language": "python",
      "name": "python3"
    }
  },
  "cells": [
    {
      "cell_type": "markdown",
      "metadata": {
        "id": "view-in-github",
        "colab_type": "text"
      },
      "source": [
        "<a href=\"https://colab.research.google.com/github/Raniu/py-04/blob/master/wk10_py_data_science_II_start.ipynb\" target=\"_parent\"><img src=\"https://colab.research.google.com/assets/colab-badge.svg\" alt=\"Open In Colab\"/></a>"
      ]
    },
    {
      "metadata": {
        "id": "N2eOeZVnDvHT",
        "colab_type": "text"
      },
      "cell_type": "markdown",
      "source": [
        "### Python data science: pandas & graphics wokout"
      ]
    },
    {
      "metadata": {
        "id": "kNHqQcTaDvHV",
        "colab_type": "text"
      },
      "cell_type": "markdown",
      "source": [
        "## Using pandas"
      ]
    },
    {
      "metadata": {
        "id": "ZBTOZEuaDvHW",
        "colab_type": "text"
      },
      "cell_type": "markdown",
      "source": [
        "* [10 Minutes to pandas](https://pandas.pydata.org/pandas-docs/stable/10min.html)\n",
        "* [Pandas tutorial with interactive exercises](https://www.kaggle.com/pistak/pandas-tutorial-with-interactive-exercises)"
      ]
    },
    {
      "metadata": {
        "id": "gMXBtVbXDvHX",
        "colab_type": "code",
        "colab": {}
      },
      "cell_type": "code",
      "source": [
        "import pandas as pd #pd로 줄인 객체로 사용할 것\n",
        "import numpy as np\n",
        "import matplotlib.pyplot as plt\n",
        "%matplotlib inline"
      ],
      "execution_count": 0,
      "outputs": []
    },
    {
      "metadata": {
        "id": "lz9WLCsdDvHa",
        "colab_type": "text"
      },
      "cell_type": "markdown",
      "source": [
        "### [1] Make data, Series, and DataFrame"
      ]
    },
    {
      "metadata": {
        "id": "M2oR24R0DvHb",
        "colab_type": "text"
      },
      "cell_type": "markdown",
      "source": [
        "### Series"
      ]
    },
    {
      "metadata": {
        "id": "xoP3mDoiDvHb",
        "colab_type": "code",
        "outputId": "944a2d00-6435-4c56-a7a5-d894f3ebd4fb",
        "colab": {
          "base_uri": "https://localhost:8080/",
          "height": 143
        }
      },
      "cell_type": "code",
      "source": [
        "# Creating a Series by passing a list of values\n",
        "s = pd.Series([1,3,5,np.nan,6,8]) #nan : 숫자가 아닌 다른 것\n",
        "s"
      ],
      "execution_count": 0,
      "outputs": [
        {
          "output_type": "execute_result",
          "data": {
            "text/plain": [
              "0    1.0\n",
              "1    3.0\n",
              "2    5.0\n",
              "3    NaN\n",
              "4    6.0\n",
              "5    8.0\n",
              "dtype: float64"
            ]
          },
          "metadata": {
            "tags": []
          },
          "execution_count": 33
        }
      ]
    },
    {
      "metadata": {
        "id": "8vEwV-RzDvHf",
        "colab_type": "code",
        "outputId": "78530c8a-59dd-4a26-98d6-aa485664742a",
        "colab": {
          "base_uri": "https://localhost:8080/",
          "height": 71
        }
      },
      "cell_type": "code",
      "source": [
        "# Creating a DataFrame by passing a NumPy array, with a datetime index and labeled columns:\n",
        "dates = pd.date_range('20130101', periods=6)\n",
        "dates"
      ],
      "execution_count": 0,
      "outputs": [
        {
          "output_type": "execute_result",
          "data": {
            "text/plain": [
              "DatetimeIndex(['2013-01-01', '2013-01-02', '2013-01-03', '2013-01-04',\n",
              "               '2013-01-05', '2013-01-06'],\n",
              "              dtype='datetime64[ns]', freq='D')"
            ]
          },
          "metadata": {
            "tags": []
          },
          "execution_count": 34
        }
      ]
    },
    {
      "metadata": {
        "id": "Etm__I-TDvHi",
        "colab_type": "code",
        "outputId": "2bef23fc-d108-4325-99b6-c61ec96f87c5",
        "colab": {
          "base_uri": "https://localhost:8080/",
          "height": 235
        }
      },
      "cell_type": "code",
      "source": [
        "# Make dataframe using an array with random numbers\n",
        "df = pd.DataFrame(np.random.randn(6,4), index=dates, columns=list('ABCD'))\n",
        "df #행렬구조를 가진 데이터를 열의 제목을 정하고 시간을 인덱스로 하여 데이터를 한눈에 보기쉽게 하기 위해 데이터 프레임 구조\n"
      ],
      "execution_count": 0,
      "outputs": [
        {
          "output_type": "execute_result",
          "data": {
            "text/html": [
              "<div>\n",
              "<style scoped>\n",
              "    .dataframe tbody tr th:only-of-type {\n",
              "        vertical-align: middle;\n",
              "    }\n",
              "\n",
              "    .dataframe tbody tr th {\n",
              "        vertical-align: top;\n",
              "    }\n",
              "\n",
              "    .dataframe thead th {\n",
              "        text-align: right;\n",
              "    }\n",
              "</style>\n",
              "<table border=\"1\" class=\"dataframe\">\n",
              "  <thead>\n",
              "    <tr style=\"text-align: right;\">\n",
              "      <th></th>\n",
              "      <th>A</th>\n",
              "      <th>B</th>\n",
              "      <th>C</th>\n",
              "      <th>D</th>\n",
              "    </tr>\n",
              "  </thead>\n",
              "  <tbody>\n",
              "    <tr>\n",
              "      <th>2013-01-01</th>\n",
              "      <td>0.171296</td>\n",
              "      <td>-1.049228</td>\n",
              "      <td>-2.009572</td>\n",
              "      <td>-0.134765</td>\n",
              "    </tr>\n",
              "    <tr>\n",
              "      <th>2013-01-02</th>\n",
              "      <td>-0.714380</td>\n",
              "      <td>-0.664480</td>\n",
              "      <td>-1.183637</td>\n",
              "      <td>0.685385</td>\n",
              "    </tr>\n",
              "    <tr>\n",
              "      <th>2013-01-03</th>\n",
              "      <td>1.531960</td>\n",
              "      <td>1.113155</td>\n",
              "      <td>-0.312433</td>\n",
              "      <td>0.536923</td>\n",
              "    </tr>\n",
              "    <tr>\n",
              "      <th>2013-01-04</th>\n",
              "      <td>0.654503</td>\n",
              "      <td>0.449148</td>\n",
              "      <td>-0.198814</td>\n",
              "      <td>-1.495295</td>\n",
              "    </tr>\n",
              "    <tr>\n",
              "      <th>2013-01-05</th>\n",
              "      <td>-0.945426</td>\n",
              "      <td>-1.654159</td>\n",
              "      <td>0.329364</td>\n",
              "      <td>-1.151281</td>\n",
              "    </tr>\n",
              "    <tr>\n",
              "      <th>2013-01-06</th>\n",
              "      <td>-0.598861</td>\n",
              "      <td>-0.299351</td>\n",
              "      <td>-0.075675</td>\n",
              "      <td>-0.584622</td>\n",
              "    </tr>\n",
              "  </tbody>\n",
              "</table>\n",
              "</div>"
            ],
            "text/plain": [
              "                   A         B         C         D\n",
              "2013-01-01  0.171296 -1.049228 -2.009572 -0.134765\n",
              "2013-01-02 -0.714380 -0.664480 -1.183637  0.685385\n",
              "2013-01-03  1.531960  1.113155 -0.312433  0.536923\n",
              "2013-01-04  0.654503  0.449148 -0.198814 -1.495295\n",
              "2013-01-05 -0.945426 -1.654159  0.329364 -1.151281\n",
              "2013-01-06 -0.598861 -0.299351 -0.075675 -0.584622"
            ]
          },
          "metadata": {
            "tags": []
          },
          "execution_count": 35
        }
      ]
    },
    {
      "metadata": {
        "id": "qPNpY3wdDvHl",
        "colab_type": "code",
        "outputId": "4e75d924-8ab9-42b8-905a-f58cf44bbf8b",
        "colab": {
          "base_uri": "https://localhost:8080/",
          "height": 107
        }
      },
      "cell_type": "code",
      "source": [
        "# check types of df  --> same type\n",
        "df.dtypes"
      ],
      "execution_count": 0,
      "outputs": [
        {
          "output_type": "execute_result",
          "data": {
            "text/plain": [
              "A    float64\n",
              "B    float64\n",
              "C    float64\n",
              "D    float64\n",
              "dtype: object"
            ]
          },
          "metadata": {
            "tags": []
          },
          "execution_count": 36
        }
      ]
    },
    {
      "metadata": {
        "id": "4IIaDeDPDvHn",
        "colab_type": "code",
        "colab": {}
      },
      "cell_type": "code",
      "source": [
        "# Creating a DataFrame by passing a dict of objects that can be converted to series-like.\n",
        "df2 = pd.DataFrame({ 'A' : 1., \n",
        "                    'B' : pd.Timestamp('20130102'),\n",
        "                    'C' : pd.Series(1,index=list(range(4)),dtype='float32'),\n",
        "                    'D' : np.array([3] * 4,dtype='int32'),\n",
        "                    'E' : pd.Categorical([\"test\",\"train\",\"test\",\"train\"]),\n",
        "                    'F' : 'foo' })"
      ],
      "execution_count": 0,
      "outputs": []
    },
    {
      "metadata": {
        "id": "2-Nqg-CCDvHq",
        "colab_type": "code",
        "outputId": "d67b300a-a58f-44ee-b8a5-8bf71fdb6daa",
        "colab": {
          "base_uri": "https://localhost:8080/",
          "height": 173
        }
      },
      "cell_type": "code",
      "source": [
        "df2"
      ],
      "execution_count": 0,
      "outputs": [
        {
          "output_type": "execute_result",
          "data": {
            "text/html": [
              "<div>\n",
              "<style scoped>\n",
              "    .dataframe tbody tr th:only-of-type {\n",
              "        vertical-align: middle;\n",
              "    }\n",
              "\n",
              "    .dataframe tbody tr th {\n",
              "        vertical-align: top;\n",
              "    }\n",
              "\n",
              "    .dataframe thead th {\n",
              "        text-align: right;\n",
              "    }\n",
              "</style>\n",
              "<table border=\"1\" class=\"dataframe\">\n",
              "  <thead>\n",
              "    <tr style=\"text-align: right;\">\n",
              "      <th></th>\n",
              "      <th>A</th>\n",
              "      <th>B</th>\n",
              "      <th>C</th>\n",
              "      <th>D</th>\n",
              "      <th>E</th>\n",
              "      <th>F</th>\n",
              "    </tr>\n",
              "  </thead>\n",
              "  <tbody>\n",
              "    <tr>\n",
              "      <th>0</th>\n",
              "      <td>1.0</td>\n",
              "      <td>2013-01-02</td>\n",
              "      <td>1.0</td>\n",
              "      <td>3</td>\n",
              "      <td>test</td>\n",
              "      <td>foo</td>\n",
              "    </tr>\n",
              "    <tr>\n",
              "      <th>1</th>\n",
              "      <td>1.0</td>\n",
              "      <td>2013-01-02</td>\n",
              "      <td>1.0</td>\n",
              "      <td>3</td>\n",
              "      <td>train</td>\n",
              "      <td>foo</td>\n",
              "    </tr>\n",
              "    <tr>\n",
              "      <th>2</th>\n",
              "      <td>1.0</td>\n",
              "      <td>2013-01-02</td>\n",
              "      <td>1.0</td>\n",
              "      <td>3</td>\n",
              "      <td>test</td>\n",
              "      <td>foo</td>\n",
              "    </tr>\n",
              "    <tr>\n",
              "      <th>3</th>\n",
              "      <td>1.0</td>\n",
              "      <td>2013-01-02</td>\n",
              "      <td>1.0</td>\n",
              "      <td>3</td>\n",
              "      <td>train</td>\n",
              "      <td>foo</td>\n",
              "    </tr>\n",
              "  </tbody>\n",
              "</table>\n",
              "</div>"
            ],
            "text/plain": [
              "     A          B    C  D      E    F\n",
              "0  1.0 2013-01-02  1.0  3   test  foo\n",
              "1  1.0 2013-01-02  1.0  3  train  foo\n",
              "2  1.0 2013-01-02  1.0  3   test  foo\n",
              "3  1.0 2013-01-02  1.0  3  train  foo"
            ]
          },
          "metadata": {
            "tags": []
          },
          "execution_count": 38
        }
      ]
    },
    {
      "metadata": {
        "id": "mYeOpmRnDvHs",
        "colab_type": "code",
        "outputId": "ef06f795-44c0-44a9-ec90-6f7460a06013",
        "colab": {
          "base_uri": "https://localhost:8080/",
          "height": 143
        }
      },
      "cell_type": "code",
      "source": [
        "# check types of df2 --> different types\n",
        "df2.dtypes"
      ],
      "execution_count": 0,
      "outputs": [
        {
          "output_type": "execute_result",
          "data": {
            "text/plain": [
              "A           float64\n",
              "B    datetime64[ns]\n",
              "C           float32\n",
              "D             int32\n",
              "E          category\n",
              "F            object\n",
              "dtype: object"
            ]
          },
          "metadata": {
            "tags": []
          },
          "execution_count": 39
        }
      ]
    },
    {
      "metadata": {
        "id": "kunOkUyWDvHu",
        "colab_type": "text"
      },
      "cell_type": "markdown",
      "source": [
        "### [2] Handling data"
      ]
    },
    {
      "metadata": {
        "id": "MA_GhVWxDvHu",
        "colab_type": "code",
        "outputId": "bdec3e00-672d-4106-e6af-fec810d35273",
        "colab": {
          "base_uri": "https://localhost:8080/",
          "height": 204
        }
      },
      "cell_type": "code",
      "source": [
        "# head()\n",
        "df.head()"
      ],
      "execution_count": 0,
      "outputs": [
        {
          "output_type": "execute_result",
          "data": {
            "text/html": [
              "<div>\n",
              "<style scoped>\n",
              "    .dataframe tbody tr th:only-of-type {\n",
              "        vertical-align: middle;\n",
              "    }\n",
              "\n",
              "    .dataframe tbody tr th {\n",
              "        vertical-align: top;\n",
              "    }\n",
              "\n",
              "    .dataframe thead th {\n",
              "        text-align: right;\n",
              "    }\n",
              "</style>\n",
              "<table border=\"1\" class=\"dataframe\">\n",
              "  <thead>\n",
              "    <tr style=\"text-align: right;\">\n",
              "      <th></th>\n",
              "      <th>A</th>\n",
              "      <th>B</th>\n",
              "      <th>C</th>\n",
              "      <th>D</th>\n",
              "    </tr>\n",
              "  </thead>\n",
              "  <tbody>\n",
              "    <tr>\n",
              "      <th>2013-01-01</th>\n",
              "      <td>0.171296</td>\n",
              "      <td>-1.049228</td>\n",
              "      <td>-2.009572</td>\n",
              "      <td>-0.134765</td>\n",
              "    </tr>\n",
              "    <tr>\n",
              "      <th>2013-01-02</th>\n",
              "      <td>-0.714380</td>\n",
              "      <td>-0.664480</td>\n",
              "      <td>-1.183637</td>\n",
              "      <td>0.685385</td>\n",
              "    </tr>\n",
              "    <tr>\n",
              "      <th>2013-01-03</th>\n",
              "      <td>1.531960</td>\n",
              "      <td>1.113155</td>\n",
              "      <td>-0.312433</td>\n",
              "      <td>0.536923</td>\n",
              "    </tr>\n",
              "    <tr>\n",
              "      <th>2013-01-04</th>\n",
              "      <td>0.654503</td>\n",
              "      <td>0.449148</td>\n",
              "      <td>-0.198814</td>\n",
              "      <td>-1.495295</td>\n",
              "    </tr>\n",
              "    <tr>\n",
              "      <th>2013-01-05</th>\n",
              "      <td>-0.945426</td>\n",
              "      <td>-1.654159</td>\n",
              "      <td>0.329364</td>\n",
              "      <td>-1.151281</td>\n",
              "    </tr>\n",
              "  </tbody>\n",
              "</table>\n",
              "</div>"
            ],
            "text/plain": [
              "                   A         B         C         D\n",
              "2013-01-01  0.171296 -1.049228 -2.009572 -0.134765\n",
              "2013-01-02 -0.714380 -0.664480 -1.183637  0.685385\n",
              "2013-01-03  1.531960  1.113155 -0.312433  0.536923\n",
              "2013-01-04  0.654503  0.449148 -0.198814 -1.495295\n",
              "2013-01-05 -0.945426 -1.654159  0.329364 -1.151281"
            ]
          },
          "metadata": {
            "tags": []
          },
          "execution_count": 42
        }
      ]
    },
    {
      "metadata": {
        "id": "Z0M3PQ5KDvHx",
        "colab_type": "code",
        "outputId": "1067c5ea-3b98-4461-969a-9bcd789951ed",
        "colab": {
          "base_uri": "https://localhost:8080/",
          "height": 142
        }
      },
      "cell_type": "code",
      "source": [
        "df.tail(3)"
      ],
      "execution_count": 0,
      "outputs": [
        {
          "output_type": "execute_result",
          "data": {
            "text/html": [
              "<div>\n",
              "<style scoped>\n",
              "    .dataframe tbody tr th:only-of-type {\n",
              "        vertical-align: middle;\n",
              "    }\n",
              "\n",
              "    .dataframe tbody tr th {\n",
              "        vertical-align: top;\n",
              "    }\n",
              "\n",
              "    .dataframe thead th {\n",
              "        text-align: right;\n",
              "    }\n",
              "</style>\n",
              "<table border=\"1\" class=\"dataframe\">\n",
              "  <thead>\n",
              "    <tr style=\"text-align: right;\">\n",
              "      <th></th>\n",
              "      <th>A</th>\n",
              "      <th>B</th>\n",
              "      <th>C</th>\n",
              "      <th>D</th>\n",
              "    </tr>\n",
              "  </thead>\n",
              "  <tbody>\n",
              "    <tr>\n",
              "      <th>2013-01-04</th>\n",
              "      <td>0.654503</td>\n",
              "      <td>0.449148</td>\n",
              "      <td>-0.198814</td>\n",
              "      <td>-1.495295</td>\n",
              "    </tr>\n",
              "    <tr>\n",
              "      <th>2013-01-05</th>\n",
              "      <td>-0.945426</td>\n",
              "      <td>-1.654159</td>\n",
              "      <td>0.329364</td>\n",
              "      <td>-1.151281</td>\n",
              "    </tr>\n",
              "    <tr>\n",
              "      <th>2013-01-06</th>\n",
              "      <td>-0.598861</td>\n",
              "      <td>-0.299351</td>\n",
              "      <td>-0.075675</td>\n",
              "      <td>-0.584622</td>\n",
              "    </tr>\n",
              "  </tbody>\n",
              "</table>\n",
              "</div>"
            ],
            "text/plain": [
              "                   A         B         C         D\n",
              "2013-01-04  0.654503  0.449148 -0.198814 -1.495295\n",
              "2013-01-05 -0.945426 -1.654159  0.329364 -1.151281\n",
              "2013-01-06 -0.598861 -0.299351 -0.075675 -0.584622"
            ]
          },
          "metadata": {
            "tags": []
          },
          "execution_count": 41
        }
      ]
    },
    {
      "metadata": {
        "id": "klvricErDvH0",
        "colab_type": "code",
        "outputId": "f3c8f39b-a612-4aac-8a82-69dd8939647c",
        "colab": {
          "base_uri": "https://localhost:8080/",
          "height": 71
        }
      },
      "cell_type": "code",
      "source": [
        "# Display the index, columns, and the underlying NumPy data:\n",
        "df.index"
      ],
      "execution_count": 0,
      "outputs": [
        {
          "output_type": "execute_result",
          "data": {
            "text/plain": [
              "DatetimeIndex(['2013-01-01', '2013-01-02', '2013-01-03', '2013-01-04',\n",
              "               '2013-01-05', '2013-01-06'],\n",
              "              dtype='datetime64[ns]', freq='D')"
            ]
          },
          "metadata": {
            "tags": []
          },
          "execution_count": 43
        }
      ]
    },
    {
      "metadata": {
        "id": "9Dn5KwQuDvH3",
        "colab_type": "code",
        "outputId": "b3c06501-e8cd-4072-d434-675fe70732d1",
        "colab": {
          "base_uri": "https://localhost:8080/",
          "height": 35
        }
      },
      "cell_type": "code",
      "source": [
        "df.columns"
      ],
      "execution_count": 0,
      "outputs": [
        {
          "output_type": "execute_result",
          "data": {
            "text/plain": [
              "Index(['A', 'B', 'C', 'D'], dtype='object')"
            ]
          },
          "metadata": {
            "tags": []
          },
          "execution_count": 44
        }
      ]
    },
    {
      "metadata": {
        "id": "lGkzKENUDvH7",
        "colab_type": "code",
        "outputId": "b4895cb0-2644-4101-9010-38874c628789",
        "colab": {
          "base_uri": "https://localhost:8080/",
          "height": 297
        }
      },
      "cell_type": "code",
      "source": [
        "# describe() shows a quick statistic summary of your data:\n",
        "df.describe()"
      ],
      "execution_count": 0,
      "outputs": [
        {
          "output_type": "execute_result",
          "data": {
            "text/html": [
              "<div>\n",
              "<style scoped>\n",
              "    .dataframe tbody tr th:only-of-type {\n",
              "        vertical-align: middle;\n",
              "    }\n",
              "\n",
              "    .dataframe tbody tr th {\n",
              "        vertical-align: top;\n",
              "    }\n",
              "\n",
              "    .dataframe thead th {\n",
              "        text-align: right;\n",
              "    }\n",
              "</style>\n",
              "<table border=\"1\" class=\"dataframe\">\n",
              "  <thead>\n",
              "    <tr style=\"text-align: right;\">\n",
              "      <th></th>\n",
              "      <th>A</th>\n",
              "      <th>B</th>\n",
              "      <th>C</th>\n",
              "      <th>D</th>\n",
              "    </tr>\n",
              "  </thead>\n",
              "  <tbody>\n",
              "    <tr>\n",
              "      <th>count</th>\n",
              "      <td>6.000000</td>\n",
              "      <td>6.000000</td>\n",
              "      <td>6.000000</td>\n",
              "      <td>6.000000</td>\n",
              "    </tr>\n",
              "    <tr>\n",
              "      <th>mean</th>\n",
              "      <td>0.016515</td>\n",
              "      <td>-0.350819</td>\n",
              "      <td>-0.575128</td>\n",
              "      <td>-0.357276</td>\n",
              "    </tr>\n",
              "    <tr>\n",
              "      <th>std</th>\n",
              "      <td>0.955592</td>\n",
              "      <td>1.007042</td>\n",
              "      <td>0.860941</td>\n",
              "      <td>0.884699</td>\n",
              "    </tr>\n",
              "    <tr>\n",
              "      <th>min</th>\n",
              "      <td>-0.945426</td>\n",
              "      <td>-1.654159</td>\n",
              "      <td>-2.009572</td>\n",
              "      <td>-1.495295</td>\n",
              "    </tr>\n",
              "    <tr>\n",
              "      <th>25%</th>\n",
              "      <td>-0.685500</td>\n",
              "      <td>-0.953041</td>\n",
              "      <td>-0.965836</td>\n",
              "      <td>-1.009616</td>\n",
              "    </tr>\n",
              "    <tr>\n",
              "      <th>50%</th>\n",
              "      <td>-0.213782</td>\n",
              "      <td>-0.481916</td>\n",
              "      <td>-0.255623</td>\n",
              "      <td>-0.359694</td>\n",
              "    </tr>\n",
              "    <tr>\n",
              "      <th>75%</th>\n",
              "      <td>0.533701</td>\n",
              "      <td>0.262023</td>\n",
              "      <td>-0.106460</td>\n",
              "      <td>0.369001</td>\n",
              "    </tr>\n",
              "    <tr>\n",
              "      <th>max</th>\n",
              "      <td>1.531960</td>\n",
              "      <td>1.113155</td>\n",
              "      <td>0.329364</td>\n",
              "      <td>0.685385</td>\n",
              "    </tr>\n",
              "  </tbody>\n",
              "</table>\n",
              "</div>"
            ],
            "text/plain": [
              "              A         B         C         D\n",
              "count  6.000000  6.000000  6.000000  6.000000\n",
              "mean   0.016515 -0.350819 -0.575128 -0.357276\n",
              "std    0.955592  1.007042  0.860941  0.884699\n",
              "min   -0.945426 -1.654159 -2.009572 -1.495295\n",
              "25%   -0.685500 -0.953041 -0.965836 -1.009616\n",
              "50%   -0.213782 -0.481916 -0.255623 -0.359694\n",
              "75%    0.533701  0.262023 -0.106460  0.369001\n",
              "max    1.531960  1.113155  0.329364  0.685385"
            ]
          },
          "metadata": {
            "tags": []
          },
          "execution_count": 45
        }
      ]
    },
    {
      "metadata": {
        "id": "VOTqrY0YDvH-",
        "colab_type": "code",
        "outputId": "8e2fd300-3e42-4ec2-9f79-d1f5e59a547a",
        "colab": {
          "base_uri": "https://localhost:8080/",
          "height": 297
        }
      },
      "cell_type": "code",
      "source": [
        "df2.describe()"
      ],
      "execution_count": 0,
      "outputs": [
        {
          "output_type": "execute_result",
          "data": {
            "text/html": [
              "<div>\n",
              "<style scoped>\n",
              "    .dataframe tbody tr th:only-of-type {\n",
              "        vertical-align: middle;\n",
              "    }\n",
              "\n",
              "    .dataframe tbody tr th {\n",
              "        vertical-align: top;\n",
              "    }\n",
              "\n",
              "    .dataframe thead th {\n",
              "        text-align: right;\n",
              "    }\n",
              "</style>\n",
              "<table border=\"1\" class=\"dataframe\">\n",
              "  <thead>\n",
              "    <tr style=\"text-align: right;\">\n",
              "      <th></th>\n",
              "      <th>A</th>\n",
              "      <th>C</th>\n",
              "      <th>D</th>\n",
              "    </tr>\n",
              "  </thead>\n",
              "  <tbody>\n",
              "    <tr>\n",
              "      <th>count</th>\n",
              "      <td>4.0</td>\n",
              "      <td>4.0</td>\n",
              "      <td>4.0</td>\n",
              "    </tr>\n",
              "    <tr>\n",
              "      <th>mean</th>\n",
              "      <td>1.0</td>\n",
              "      <td>1.0</td>\n",
              "      <td>3.0</td>\n",
              "    </tr>\n",
              "    <tr>\n",
              "      <th>std</th>\n",
              "      <td>0.0</td>\n",
              "      <td>0.0</td>\n",
              "      <td>0.0</td>\n",
              "    </tr>\n",
              "    <tr>\n",
              "      <th>min</th>\n",
              "      <td>1.0</td>\n",
              "      <td>1.0</td>\n",
              "      <td>3.0</td>\n",
              "    </tr>\n",
              "    <tr>\n",
              "      <th>25%</th>\n",
              "      <td>1.0</td>\n",
              "      <td>1.0</td>\n",
              "      <td>3.0</td>\n",
              "    </tr>\n",
              "    <tr>\n",
              "      <th>50%</th>\n",
              "      <td>1.0</td>\n",
              "      <td>1.0</td>\n",
              "      <td>3.0</td>\n",
              "    </tr>\n",
              "    <tr>\n",
              "      <th>75%</th>\n",
              "      <td>1.0</td>\n",
              "      <td>1.0</td>\n",
              "      <td>3.0</td>\n",
              "    </tr>\n",
              "    <tr>\n",
              "      <th>max</th>\n",
              "      <td>1.0</td>\n",
              "      <td>1.0</td>\n",
              "      <td>3.0</td>\n",
              "    </tr>\n",
              "  </tbody>\n",
              "</table>\n",
              "</div>"
            ],
            "text/plain": [
              "         A    C    D\n",
              "count  4.0  4.0  4.0\n",
              "mean   1.0  1.0  3.0\n",
              "std    0.0  0.0  0.0\n",
              "min    1.0  1.0  3.0\n",
              "25%    1.0  1.0  3.0\n",
              "50%    1.0  1.0  3.0\n",
              "75%    1.0  1.0  3.0\n",
              "max    1.0  1.0  3.0"
            ]
          },
          "metadata": {
            "tags": []
          },
          "execution_count": 46
        }
      ]
    },
    {
      "metadata": {
        "id": "BWqAb167DvIB",
        "colab_type": "code",
        "outputId": "278998d1-85d4-4230-ce3b-861b9635b50f",
        "colab": {
          "base_uri": "https://localhost:8080/",
          "height": 173
        }
      },
      "cell_type": "code",
      "source": [
        "# Transposing your dataframe:\n",
        "df.T"
      ],
      "execution_count": 0,
      "outputs": [
        {
          "output_type": "execute_result",
          "data": {
            "text/html": [
              "<div>\n",
              "<style scoped>\n",
              "    .dataframe tbody tr th:only-of-type {\n",
              "        vertical-align: middle;\n",
              "    }\n",
              "\n",
              "    .dataframe tbody tr th {\n",
              "        vertical-align: top;\n",
              "    }\n",
              "\n",
              "    .dataframe thead th {\n",
              "        text-align: right;\n",
              "    }\n",
              "</style>\n",
              "<table border=\"1\" class=\"dataframe\">\n",
              "  <thead>\n",
              "    <tr style=\"text-align: right;\">\n",
              "      <th></th>\n",
              "      <th>2013-01-01 00:00:00</th>\n",
              "      <th>2013-01-02 00:00:00</th>\n",
              "      <th>2013-01-03 00:00:00</th>\n",
              "      <th>2013-01-04 00:00:00</th>\n",
              "      <th>2013-01-05 00:00:00</th>\n",
              "      <th>2013-01-06 00:00:00</th>\n",
              "    </tr>\n",
              "  </thead>\n",
              "  <tbody>\n",
              "    <tr>\n",
              "      <th>A</th>\n",
              "      <td>0.171296</td>\n",
              "      <td>-0.714380</td>\n",
              "      <td>1.531960</td>\n",
              "      <td>0.654503</td>\n",
              "      <td>-0.945426</td>\n",
              "      <td>-0.598861</td>\n",
              "    </tr>\n",
              "    <tr>\n",
              "      <th>B</th>\n",
              "      <td>-1.049228</td>\n",
              "      <td>-0.664480</td>\n",
              "      <td>1.113155</td>\n",
              "      <td>0.449148</td>\n",
              "      <td>-1.654159</td>\n",
              "      <td>-0.299351</td>\n",
              "    </tr>\n",
              "    <tr>\n",
              "      <th>C</th>\n",
              "      <td>-2.009572</td>\n",
              "      <td>-1.183637</td>\n",
              "      <td>-0.312433</td>\n",
              "      <td>-0.198814</td>\n",
              "      <td>0.329364</td>\n",
              "      <td>-0.075675</td>\n",
              "    </tr>\n",
              "    <tr>\n",
              "      <th>D</th>\n",
              "      <td>-0.134765</td>\n",
              "      <td>0.685385</td>\n",
              "      <td>0.536923</td>\n",
              "      <td>-1.495295</td>\n",
              "      <td>-1.151281</td>\n",
              "      <td>-0.584622</td>\n",
              "    </tr>\n",
              "  </tbody>\n",
              "</table>\n",
              "</div>"
            ],
            "text/plain": [
              "   2013-01-01  2013-01-02  2013-01-03  2013-01-04  2013-01-05  2013-01-06\n",
              "A    0.171296   -0.714380    1.531960    0.654503   -0.945426   -0.598861\n",
              "B   -1.049228   -0.664480    1.113155    0.449148   -1.654159   -0.299351\n",
              "C   -2.009572   -1.183637   -0.312433   -0.198814    0.329364   -0.075675\n",
              "D   -0.134765    0.685385    0.536923   -1.495295   -1.151281   -0.584622"
            ]
          },
          "metadata": {
            "tags": []
          },
          "execution_count": 47
        }
      ]
    },
    {
      "metadata": {
        "id": "cN1QNwlvDvID",
        "colab_type": "text"
      },
      "cell_type": "markdown",
      "source": [
        "#### Sorting"
      ]
    },
    {
      "metadata": {
        "id": "y34JGS-VDvIE",
        "colab_type": "code",
        "outputId": "c2e043fc-86f6-4538-f2e6-55d019959610",
        "colab": {
          "base_uri": "https://localhost:8080/",
          "height": 235
        }
      },
      "cell_type": "code",
      "source": [
        "# Sorting by an axis:\n",
        "df.sort_index(axis=0, ascending=False)"
      ],
      "execution_count": 0,
      "outputs": [
        {
          "output_type": "execute_result",
          "data": {
            "text/html": [
              "<div>\n",
              "<style scoped>\n",
              "    .dataframe tbody tr th:only-of-type {\n",
              "        vertical-align: middle;\n",
              "    }\n",
              "\n",
              "    .dataframe tbody tr th {\n",
              "        vertical-align: top;\n",
              "    }\n",
              "\n",
              "    .dataframe thead th {\n",
              "        text-align: right;\n",
              "    }\n",
              "</style>\n",
              "<table border=\"1\" class=\"dataframe\">\n",
              "  <thead>\n",
              "    <tr style=\"text-align: right;\">\n",
              "      <th></th>\n",
              "      <th>A</th>\n",
              "      <th>B</th>\n",
              "      <th>C</th>\n",
              "      <th>D</th>\n",
              "    </tr>\n",
              "  </thead>\n",
              "  <tbody>\n",
              "    <tr>\n",
              "      <th>2013-01-06</th>\n",
              "      <td>-0.598861</td>\n",
              "      <td>-0.299351</td>\n",
              "      <td>-0.075675</td>\n",
              "      <td>-0.584622</td>\n",
              "    </tr>\n",
              "    <tr>\n",
              "      <th>2013-01-05</th>\n",
              "      <td>-0.945426</td>\n",
              "      <td>-1.654159</td>\n",
              "      <td>0.329364</td>\n",
              "      <td>-1.151281</td>\n",
              "    </tr>\n",
              "    <tr>\n",
              "      <th>2013-01-04</th>\n",
              "      <td>0.654503</td>\n",
              "      <td>0.449148</td>\n",
              "      <td>-0.198814</td>\n",
              "      <td>-1.495295</td>\n",
              "    </tr>\n",
              "    <tr>\n",
              "      <th>2013-01-03</th>\n",
              "      <td>1.531960</td>\n",
              "      <td>1.113155</td>\n",
              "      <td>-0.312433</td>\n",
              "      <td>0.536923</td>\n",
              "    </tr>\n",
              "    <tr>\n",
              "      <th>2013-01-02</th>\n",
              "      <td>-0.714380</td>\n",
              "      <td>-0.664480</td>\n",
              "      <td>-1.183637</td>\n",
              "      <td>0.685385</td>\n",
              "    </tr>\n",
              "    <tr>\n",
              "      <th>2013-01-01</th>\n",
              "      <td>0.171296</td>\n",
              "      <td>-1.049228</td>\n",
              "      <td>-2.009572</td>\n",
              "      <td>-0.134765</td>\n",
              "    </tr>\n",
              "  </tbody>\n",
              "</table>\n",
              "</div>"
            ],
            "text/plain": [
              "                   A         B         C         D\n",
              "2013-01-06 -0.598861 -0.299351 -0.075675 -0.584622\n",
              "2013-01-05 -0.945426 -1.654159  0.329364 -1.151281\n",
              "2013-01-04  0.654503  0.449148 -0.198814 -1.495295\n",
              "2013-01-03  1.531960  1.113155 -0.312433  0.536923\n",
              "2013-01-02 -0.714380 -0.664480 -1.183637  0.685385\n",
              "2013-01-01  0.171296 -1.049228 -2.009572 -0.134765"
            ]
          },
          "metadata": {
            "tags": []
          },
          "execution_count": 48
        }
      ]
    },
    {
      "metadata": {
        "id": "2727fiB2DvIG",
        "colab_type": "code",
        "outputId": "7e18f642-9def-40f7-d378-cdc09ec89ba9",
        "colab": {
          "base_uri": "https://localhost:8080/",
          "height": 235
        }
      },
      "cell_type": "code",
      "source": [
        "df.sort_index(axis=1, ascending=False)"
      ],
      "execution_count": 0,
      "outputs": [
        {
          "output_type": "execute_result",
          "data": {
            "text/html": [
              "<div>\n",
              "<style scoped>\n",
              "    .dataframe tbody tr th:only-of-type {\n",
              "        vertical-align: middle;\n",
              "    }\n",
              "\n",
              "    .dataframe tbody tr th {\n",
              "        vertical-align: top;\n",
              "    }\n",
              "\n",
              "    .dataframe thead th {\n",
              "        text-align: right;\n",
              "    }\n",
              "</style>\n",
              "<table border=\"1\" class=\"dataframe\">\n",
              "  <thead>\n",
              "    <tr style=\"text-align: right;\">\n",
              "      <th></th>\n",
              "      <th>D</th>\n",
              "      <th>C</th>\n",
              "      <th>B</th>\n",
              "      <th>A</th>\n",
              "    </tr>\n",
              "  </thead>\n",
              "  <tbody>\n",
              "    <tr>\n",
              "      <th>2013-01-01</th>\n",
              "      <td>-0.134765</td>\n",
              "      <td>-2.009572</td>\n",
              "      <td>-1.049228</td>\n",
              "      <td>0.171296</td>\n",
              "    </tr>\n",
              "    <tr>\n",
              "      <th>2013-01-02</th>\n",
              "      <td>0.685385</td>\n",
              "      <td>-1.183637</td>\n",
              "      <td>-0.664480</td>\n",
              "      <td>-0.714380</td>\n",
              "    </tr>\n",
              "    <tr>\n",
              "      <th>2013-01-03</th>\n",
              "      <td>0.536923</td>\n",
              "      <td>-0.312433</td>\n",
              "      <td>1.113155</td>\n",
              "      <td>1.531960</td>\n",
              "    </tr>\n",
              "    <tr>\n",
              "      <th>2013-01-04</th>\n",
              "      <td>-1.495295</td>\n",
              "      <td>-0.198814</td>\n",
              "      <td>0.449148</td>\n",
              "      <td>0.654503</td>\n",
              "    </tr>\n",
              "    <tr>\n",
              "      <th>2013-01-05</th>\n",
              "      <td>-1.151281</td>\n",
              "      <td>0.329364</td>\n",
              "      <td>-1.654159</td>\n",
              "      <td>-0.945426</td>\n",
              "    </tr>\n",
              "    <tr>\n",
              "      <th>2013-01-06</th>\n",
              "      <td>-0.584622</td>\n",
              "      <td>-0.075675</td>\n",
              "      <td>-0.299351</td>\n",
              "      <td>-0.598861</td>\n",
              "    </tr>\n",
              "  </tbody>\n",
              "</table>\n",
              "</div>"
            ],
            "text/plain": [
              "                   D         C         B         A\n",
              "2013-01-01 -0.134765 -2.009572 -1.049228  0.171296\n",
              "2013-01-02  0.685385 -1.183637 -0.664480 -0.714380\n",
              "2013-01-03  0.536923 -0.312433  1.113155  1.531960\n",
              "2013-01-04 -1.495295 -0.198814  0.449148  0.654503\n",
              "2013-01-05 -1.151281  0.329364 -1.654159 -0.945426\n",
              "2013-01-06 -0.584622 -0.075675 -0.299351 -0.598861"
            ]
          },
          "metadata": {
            "tags": []
          },
          "execution_count": 49
        }
      ]
    },
    {
      "metadata": {
        "id": "8QgyjOkLDvIJ",
        "colab_type": "code",
        "outputId": "a37bf9e5-1d38-4986-8f0e-a18297e5674d",
        "colab": {
          "base_uri": "https://localhost:8080/",
          "height": 235
        }
      },
      "cell_type": "code",
      "source": [
        "# Sorting by values:\n",
        "df.sort_values(by='B') #, ascending=False)"
      ],
      "execution_count": 0,
      "outputs": [
        {
          "output_type": "execute_result",
          "data": {
            "text/html": [
              "<div>\n",
              "<style scoped>\n",
              "    .dataframe tbody tr th:only-of-type {\n",
              "        vertical-align: middle;\n",
              "    }\n",
              "\n",
              "    .dataframe tbody tr th {\n",
              "        vertical-align: top;\n",
              "    }\n",
              "\n",
              "    .dataframe thead th {\n",
              "        text-align: right;\n",
              "    }\n",
              "</style>\n",
              "<table border=\"1\" class=\"dataframe\">\n",
              "  <thead>\n",
              "    <tr style=\"text-align: right;\">\n",
              "      <th></th>\n",
              "      <th>A</th>\n",
              "      <th>B</th>\n",
              "      <th>C</th>\n",
              "      <th>D</th>\n",
              "    </tr>\n",
              "  </thead>\n",
              "  <tbody>\n",
              "    <tr>\n",
              "      <th>2013-01-05</th>\n",
              "      <td>-0.945426</td>\n",
              "      <td>-1.654159</td>\n",
              "      <td>0.329364</td>\n",
              "      <td>-1.151281</td>\n",
              "    </tr>\n",
              "    <tr>\n",
              "      <th>2013-01-01</th>\n",
              "      <td>0.171296</td>\n",
              "      <td>-1.049228</td>\n",
              "      <td>-2.009572</td>\n",
              "      <td>-0.134765</td>\n",
              "    </tr>\n",
              "    <tr>\n",
              "      <th>2013-01-02</th>\n",
              "      <td>-0.714380</td>\n",
              "      <td>-0.664480</td>\n",
              "      <td>-1.183637</td>\n",
              "      <td>0.685385</td>\n",
              "    </tr>\n",
              "    <tr>\n",
              "      <th>2013-01-06</th>\n",
              "      <td>-0.598861</td>\n",
              "      <td>-0.299351</td>\n",
              "      <td>-0.075675</td>\n",
              "      <td>-0.584622</td>\n",
              "    </tr>\n",
              "    <tr>\n",
              "      <th>2013-01-04</th>\n",
              "      <td>0.654503</td>\n",
              "      <td>0.449148</td>\n",
              "      <td>-0.198814</td>\n",
              "      <td>-1.495295</td>\n",
              "    </tr>\n",
              "    <tr>\n",
              "      <th>2013-01-03</th>\n",
              "      <td>1.531960</td>\n",
              "      <td>1.113155</td>\n",
              "      <td>-0.312433</td>\n",
              "      <td>0.536923</td>\n",
              "    </tr>\n",
              "  </tbody>\n",
              "</table>\n",
              "</div>"
            ],
            "text/plain": [
              "                   A         B         C         D\n",
              "2013-01-05 -0.945426 -1.654159  0.329364 -1.151281\n",
              "2013-01-01  0.171296 -1.049228 -2.009572 -0.134765\n",
              "2013-01-02 -0.714380 -0.664480 -1.183637  0.685385\n",
              "2013-01-06 -0.598861 -0.299351 -0.075675 -0.584622\n",
              "2013-01-04  0.654503  0.449148 -0.198814 -1.495295\n",
              "2013-01-03  1.531960  1.113155 -0.312433  0.536923"
            ]
          },
          "metadata": {
            "tags": []
          },
          "execution_count": 50
        }
      ]
    },
    {
      "metadata": {
        "id": "KNqDRYg6DvIL",
        "colab_type": "text"
      },
      "cell_type": "markdown",
      "source": [
        "#### Selecting data by indexing and slicing\n",
        "\n",
        "> **at, iat, loc, iloc**"
      ]
    },
    {
      "metadata": {
        "id": "g5gCm7_-DvIL",
        "colab_type": "code",
        "outputId": "54962f56-7249-4e48-e189-276581641424",
        "colab": {
          "base_uri": "https://localhost:8080/",
          "height": 143
        }
      },
      "cell_type": "code",
      "source": [
        "# Selecting a single column, which yields a Series\n",
        "df['A']"
      ],
      "execution_count": 0,
      "outputs": [
        {
          "output_type": "execute_result",
          "data": {
            "text/plain": [
              "2013-01-01    0.171296\n",
              "2013-01-02   -0.714380\n",
              "2013-01-03    1.531960\n",
              "2013-01-04    0.654503\n",
              "2013-01-05   -0.945426\n",
              "2013-01-06   -0.598861\n",
              "Freq: D, Name: A, dtype: float64"
            ]
          },
          "metadata": {
            "tags": []
          },
          "execution_count": 51
        }
      ]
    },
    {
      "metadata": {
        "id": "sYjC4jwRDvIN",
        "colab_type": "code",
        "outputId": "e755712b-816c-402d-ba72-8ae236eab100",
        "colab": {
          "base_uri": "https://localhost:8080/",
          "height": 142
        }
      },
      "cell_type": "code",
      "source": [
        "# Selecting via [], which slices the rows.\n",
        "df[0:3] #행 인덱스"
      ],
      "execution_count": 0,
      "outputs": [
        {
          "output_type": "execute_result",
          "data": {
            "text/html": [
              "<div>\n",
              "<style scoped>\n",
              "    .dataframe tbody tr th:only-of-type {\n",
              "        vertical-align: middle;\n",
              "    }\n",
              "\n",
              "    .dataframe tbody tr th {\n",
              "        vertical-align: top;\n",
              "    }\n",
              "\n",
              "    .dataframe thead th {\n",
              "        text-align: right;\n",
              "    }\n",
              "</style>\n",
              "<table border=\"1\" class=\"dataframe\">\n",
              "  <thead>\n",
              "    <tr style=\"text-align: right;\">\n",
              "      <th></th>\n",
              "      <th>A</th>\n",
              "      <th>B</th>\n",
              "      <th>C</th>\n",
              "      <th>D</th>\n",
              "    </tr>\n",
              "  </thead>\n",
              "  <tbody>\n",
              "    <tr>\n",
              "      <th>2013-01-01</th>\n",
              "      <td>0.171296</td>\n",
              "      <td>-1.049228</td>\n",
              "      <td>-2.009572</td>\n",
              "      <td>-0.134765</td>\n",
              "    </tr>\n",
              "    <tr>\n",
              "      <th>2013-01-02</th>\n",
              "      <td>-0.714380</td>\n",
              "      <td>-0.664480</td>\n",
              "      <td>-1.183637</td>\n",
              "      <td>0.685385</td>\n",
              "    </tr>\n",
              "    <tr>\n",
              "      <th>2013-01-03</th>\n",
              "      <td>1.531960</td>\n",
              "      <td>1.113155</td>\n",
              "      <td>-0.312433</td>\n",
              "      <td>0.536923</td>\n",
              "    </tr>\n",
              "  </tbody>\n",
              "</table>\n",
              "</div>"
            ],
            "text/plain": [
              "                   A         B         C         D\n",
              "2013-01-01  0.171296 -1.049228 -2.009572 -0.134765\n",
              "2013-01-02 -0.714380 -0.664480 -1.183637  0.685385\n",
              "2013-01-03  1.531960  1.113155 -0.312433  0.536923"
            ]
          },
          "metadata": {
            "tags": []
          },
          "execution_count": 52
        }
      ]
    },
    {
      "metadata": {
        "id": "_ckvpnGhDvIS",
        "colab_type": "code",
        "outputId": "6eef4d64-0821-485d-a501-64f5b3a09d62",
        "colab": {
          "base_uri": "https://localhost:8080/",
          "height": 142
        }
      },
      "cell_type": "code",
      "source": [
        "df['20130102':'20130104'] # 인덱스가 아닌 값인 경우는 지전된 범위가 다 선택된다."
      ],
      "execution_count": 0,
      "outputs": [
        {
          "output_type": "execute_result",
          "data": {
            "text/html": [
              "<div>\n",
              "<style scoped>\n",
              "    .dataframe tbody tr th:only-of-type {\n",
              "        vertical-align: middle;\n",
              "    }\n",
              "\n",
              "    .dataframe tbody tr th {\n",
              "        vertical-align: top;\n",
              "    }\n",
              "\n",
              "    .dataframe thead th {\n",
              "        text-align: right;\n",
              "    }\n",
              "</style>\n",
              "<table border=\"1\" class=\"dataframe\">\n",
              "  <thead>\n",
              "    <tr style=\"text-align: right;\">\n",
              "      <th></th>\n",
              "      <th>A</th>\n",
              "      <th>B</th>\n",
              "      <th>C</th>\n",
              "      <th>D</th>\n",
              "    </tr>\n",
              "  </thead>\n",
              "  <tbody>\n",
              "    <tr>\n",
              "      <th>2013-01-02</th>\n",
              "      <td>-0.714380</td>\n",
              "      <td>-0.664480</td>\n",
              "      <td>-1.183637</td>\n",
              "      <td>0.685385</td>\n",
              "    </tr>\n",
              "    <tr>\n",
              "      <th>2013-01-03</th>\n",
              "      <td>1.531960</td>\n",
              "      <td>1.113155</td>\n",
              "      <td>-0.312433</td>\n",
              "      <td>0.536923</td>\n",
              "    </tr>\n",
              "    <tr>\n",
              "      <th>2013-01-04</th>\n",
              "      <td>0.654503</td>\n",
              "      <td>0.449148</td>\n",
              "      <td>-0.198814</td>\n",
              "      <td>-1.495295</td>\n",
              "    </tr>\n",
              "  </tbody>\n",
              "</table>\n",
              "</div>"
            ],
            "text/plain": [
              "                   A         B         C         D\n",
              "2013-01-02 -0.714380 -0.664480 -1.183637  0.685385\n",
              "2013-01-03  1.531960  1.113155 -0.312433  0.536923\n",
              "2013-01-04  0.654503  0.449148 -0.198814 -1.495295"
            ]
          },
          "metadata": {
            "tags": []
          },
          "execution_count": 53
        }
      ]
    },
    {
      "metadata": {
        "id": "G5fdostkDvIV",
        "colab_type": "text"
      },
      "cell_type": "markdown",
      "source": [
        "#### Selecting data by label"
      ]
    },
    {
      "metadata": {
        "id": "231k9Y5YDvIV",
        "colab_type": "code",
        "outputId": "ee61b848-6b35-44ac-c5ae-a238491fdc99",
        "colab": {
          "base_uri": "https://localhost:8080/",
          "height": 235
        }
      },
      "cell_type": "code",
      "source": [
        "df"
      ],
      "execution_count": 0,
      "outputs": [
        {
          "output_type": "execute_result",
          "data": {
            "text/html": [
              "<div>\n",
              "<style scoped>\n",
              "    .dataframe tbody tr th:only-of-type {\n",
              "        vertical-align: middle;\n",
              "    }\n",
              "\n",
              "    .dataframe tbody tr th {\n",
              "        vertical-align: top;\n",
              "    }\n",
              "\n",
              "    .dataframe thead th {\n",
              "        text-align: right;\n",
              "    }\n",
              "</style>\n",
              "<table border=\"1\" class=\"dataframe\">\n",
              "  <thead>\n",
              "    <tr style=\"text-align: right;\">\n",
              "      <th></th>\n",
              "      <th>A</th>\n",
              "      <th>B</th>\n",
              "      <th>C</th>\n",
              "      <th>D</th>\n",
              "    </tr>\n",
              "  </thead>\n",
              "  <tbody>\n",
              "    <tr>\n",
              "      <th>2013-01-01</th>\n",
              "      <td>0.171296</td>\n",
              "      <td>-1.049228</td>\n",
              "      <td>-2.009572</td>\n",
              "      <td>-0.134765</td>\n",
              "    </tr>\n",
              "    <tr>\n",
              "      <th>2013-01-02</th>\n",
              "      <td>-0.714380</td>\n",
              "      <td>-0.664480</td>\n",
              "      <td>-1.183637</td>\n",
              "      <td>0.685385</td>\n",
              "    </tr>\n",
              "    <tr>\n",
              "      <th>2013-01-03</th>\n",
              "      <td>1.531960</td>\n",
              "      <td>1.113155</td>\n",
              "      <td>-0.312433</td>\n",
              "      <td>0.536923</td>\n",
              "    </tr>\n",
              "    <tr>\n",
              "      <th>2013-01-04</th>\n",
              "      <td>0.654503</td>\n",
              "      <td>0.449148</td>\n",
              "      <td>-0.198814</td>\n",
              "      <td>-1.495295</td>\n",
              "    </tr>\n",
              "    <tr>\n",
              "      <th>2013-01-05</th>\n",
              "      <td>-0.945426</td>\n",
              "      <td>-1.654159</td>\n",
              "      <td>0.329364</td>\n",
              "      <td>-1.151281</td>\n",
              "    </tr>\n",
              "    <tr>\n",
              "      <th>2013-01-06</th>\n",
              "      <td>-0.598861</td>\n",
              "      <td>-0.299351</td>\n",
              "      <td>-0.075675</td>\n",
              "      <td>-0.584622</td>\n",
              "    </tr>\n",
              "  </tbody>\n",
              "</table>\n",
              "</div>"
            ],
            "text/plain": [
              "                   A         B         C         D\n",
              "2013-01-01  0.171296 -1.049228 -2.009572 -0.134765\n",
              "2013-01-02 -0.714380 -0.664480 -1.183637  0.685385\n",
              "2013-01-03  1.531960  1.113155 -0.312433  0.536923\n",
              "2013-01-04  0.654503  0.449148 -0.198814 -1.495295\n",
              "2013-01-05 -0.945426 -1.654159  0.329364 -1.151281\n",
              "2013-01-06 -0.598861 -0.299351 -0.075675 -0.584622"
            ]
          },
          "metadata": {
            "tags": []
          },
          "execution_count": 54
        }
      ]
    },
    {
      "metadata": {
        "id": "5Jt3YPD1DvIZ",
        "colab_type": "code",
        "outputId": "1cde90ee-cd47-471b-e88b-26d909beb20a",
        "colab": {
          "base_uri": "https://localhost:8080/",
          "height": 107
        }
      },
      "cell_type": "code",
      "source": [
        "df.loc[dates[0]]   # loc()"
      ],
      "execution_count": 0,
      "outputs": [
        {
          "output_type": "execute_result",
          "data": {
            "text/plain": [
              "A    0.171296\n",
              "B   -1.049228\n",
              "C   -2.009572\n",
              "D   -0.134765\n",
              "Name: 2013-01-01 00:00:00, dtype: float64"
            ]
          },
          "metadata": {
            "tags": []
          },
          "execution_count": 55
        }
      ]
    },
    {
      "metadata": {
        "id": "dqOhcz4qDvIb",
        "colab_type": "code",
        "outputId": "19b95358-f119-4c27-93b9-9f6debcbe5bf",
        "colab": {
          "base_uri": "https://localhost:8080/",
          "height": 235
        }
      },
      "cell_type": "code",
      "source": [
        "# Selecting on a multi-axis by label:\n",
        "df.loc[:,['A','B']]"
      ],
      "execution_count": 0,
      "outputs": [
        {
          "output_type": "execute_result",
          "data": {
            "text/html": [
              "<div>\n",
              "<style scoped>\n",
              "    .dataframe tbody tr th:only-of-type {\n",
              "        vertical-align: middle;\n",
              "    }\n",
              "\n",
              "    .dataframe tbody tr th {\n",
              "        vertical-align: top;\n",
              "    }\n",
              "\n",
              "    .dataframe thead th {\n",
              "        text-align: right;\n",
              "    }\n",
              "</style>\n",
              "<table border=\"1\" class=\"dataframe\">\n",
              "  <thead>\n",
              "    <tr style=\"text-align: right;\">\n",
              "      <th></th>\n",
              "      <th>A</th>\n",
              "      <th>B</th>\n",
              "    </tr>\n",
              "  </thead>\n",
              "  <tbody>\n",
              "    <tr>\n",
              "      <th>2013-01-01</th>\n",
              "      <td>0.171296</td>\n",
              "      <td>-1.049228</td>\n",
              "    </tr>\n",
              "    <tr>\n",
              "      <th>2013-01-02</th>\n",
              "      <td>-0.714380</td>\n",
              "      <td>-0.664480</td>\n",
              "    </tr>\n",
              "    <tr>\n",
              "      <th>2013-01-03</th>\n",
              "      <td>1.531960</td>\n",
              "      <td>1.113155</td>\n",
              "    </tr>\n",
              "    <tr>\n",
              "      <th>2013-01-04</th>\n",
              "      <td>0.654503</td>\n",
              "      <td>0.449148</td>\n",
              "    </tr>\n",
              "    <tr>\n",
              "      <th>2013-01-05</th>\n",
              "      <td>-0.945426</td>\n",
              "      <td>-1.654159</td>\n",
              "    </tr>\n",
              "    <tr>\n",
              "      <th>2013-01-06</th>\n",
              "      <td>-0.598861</td>\n",
              "      <td>-0.299351</td>\n",
              "    </tr>\n",
              "  </tbody>\n",
              "</table>\n",
              "</div>"
            ],
            "text/plain": [
              "                   A         B\n",
              "2013-01-01  0.171296 -1.049228\n",
              "2013-01-02 -0.714380 -0.664480\n",
              "2013-01-03  1.531960  1.113155\n",
              "2013-01-04  0.654503  0.449148\n",
              "2013-01-05 -0.945426 -1.654159\n",
              "2013-01-06 -0.598861 -0.299351"
            ]
          },
          "metadata": {
            "tags": []
          },
          "execution_count": 56
        }
      ]
    },
    {
      "metadata": {
        "id": "pfQRvwC_DvIe",
        "colab_type": "text"
      },
      "cell_type": "markdown",
      "source": [
        "#### [도전코딩]\n",
        "\n",
        "> Select data for first two days AND comumn 3,4 from df."
      ]
    },
    {
      "metadata": {
        "id": "bwWrv6fWDvIf",
        "colab_type": "code",
        "outputId": "78ca4f90-cd5e-44e1-cc0c-fcc8b6e4257e",
        "colab": {
          "base_uri": "https://localhost:8080/",
          "height": 111
        }
      },
      "cell_type": "code",
      "source": [
        "#4지선다형으로 하나 틀린거 \n",
        "# df.loc[1:3,['C','D']]\n",
        "#df.loc['20130101':'20130102',['C','D']]\n",
        " df.loc[dates[:2],['C','D']]"
      ],
      "execution_count": 0,
      "outputs": [
        {
          "output_type": "execute_result",
          "data": {
            "text/html": [
              "<div>\n",
              "<style scoped>\n",
              "    .dataframe tbody tr th:only-of-type {\n",
              "        vertical-align: middle;\n",
              "    }\n",
              "\n",
              "    .dataframe tbody tr th {\n",
              "        vertical-align: top;\n",
              "    }\n",
              "\n",
              "    .dataframe thead th {\n",
              "        text-align: right;\n",
              "    }\n",
              "</style>\n",
              "<table border=\"1\" class=\"dataframe\">\n",
              "  <thead>\n",
              "    <tr style=\"text-align: right;\">\n",
              "      <th></th>\n",
              "      <th>C</th>\n",
              "      <th>D</th>\n",
              "    </tr>\n",
              "  </thead>\n",
              "  <tbody>\n",
              "    <tr>\n",
              "      <th>2013-01-01</th>\n",
              "      <td>-2.009572</td>\n",
              "      <td>-0.134765</td>\n",
              "    </tr>\n",
              "    <tr>\n",
              "      <th>2013-01-02</th>\n",
              "      <td>-1.183637</td>\n",
              "      <td>0.685385</td>\n",
              "    </tr>\n",
              "  </tbody>\n",
              "</table>\n",
              "</div>"
            ],
            "text/plain": [
              "                   C         D\n",
              "2013-01-01 -2.009572 -0.134765\n",
              "2013-01-02 -1.183637  0.685385"
            ]
          },
          "metadata": {
            "tags": []
          },
          "execution_count": 57
        }
      ]
    },
    {
      "metadata": {
        "id": "VGpe5KMlDvIh",
        "colab_type": "text"
      },
      "cell_type": "markdown",
      "source": [
        "#### Selecting data by position  (iloc())"
      ]
    },
    {
      "metadata": {
        "id": "leZw20OmDvIi",
        "colab_type": "code",
        "outputId": "e5772d4a-ec17-46fc-eea5-089e9f3d0b30",
        "colab": {
          "base_uri": "https://localhost:8080/",
          "height": 235
        }
      },
      "cell_type": "code",
      "source": [
        "df"
      ],
      "execution_count": 0,
      "outputs": [
        {
          "output_type": "execute_result",
          "data": {
            "text/html": [
              "<div>\n",
              "<style scoped>\n",
              "    .dataframe tbody tr th:only-of-type {\n",
              "        vertical-align: middle;\n",
              "    }\n",
              "\n",
              "    .dataframe tbody tr th {\n",
              "        vertical-align: top;\n",
              "    }\n",
              "\n",
              "    .dataframe thead th {\n",
              "        text-align: right;\n",
              "    }\n",
              "</style>\n",
              "<table border=\"1\" class=\"dataframe\">\n",
              "  <thead>\n",
              "    <tr style=\"text-align: right;\">\n",
              "      <th></th>\n",
              "      <th>A</th>\n",
              "      <th>B</th>\n",
              "      <th>C</th>\n",
              "      <th>D</th>\n",
              "    </tr>\n",
              "  </thead>\n",
              "  <tbody>\n",
              "    <tr>\n",
              "      <th>2013-01-01</th>\n",
              "      <td>0.171296</td>\n",
              "      <td>-1.049228</td>\n",
              "      <td>-2.009572</td>\n",
              "      <td>-0.134765</td>\n",
              "    </tr>\n",
              "    <tr>\n",
              "      <th>2013-01-02</th>\n",
              "      <td>-0.714380</td>\n",
              "      <td>-0.664480</td>\n",
              "      <td>-1.183637</td>\n",
              "      <td>0.685385</td>\n",
              "    </tr>\n",
              "    <tr>\n",
              "      <th>2013-01-03</th>\n",
              "      <td>1.531960</td>\n",
              "      <td>1.113155</td>\n",
              "      <td>-0.312433</td>\n",
              "      <td>0.536923</td>\n",
              "    </tr>\n",
              "    <tr>\n",
              "      <th>2013-01-04</th>\n",
              "      <td>0.654503</td>\n",
              "      <td>0.449148</td>\n",
              "      <td>-0.198814</td>\n",
              "      <td>-1.495295</td>\n",
              "    </tr>\n",
              "    <tr>\n",
              "      <th>2013-01-05</th>\n",
              "      <td>-0.945426</td>\n",
              "      <td>-1.654159</td>\n",
              "      <td>0.329364</td>\n",
              "      <td>-1.151281</td>\n",
              "    </tr>\n",
              "    <tr>\n",
              "      <th>2013-01-06</th>\n",
              "      <td>-0.598861</td>\n",
              "      <td>-0.299351</td>\n",
              "      <td>-0.075675</td>\n",
              "      <td>-0.584622</td>\n",
              "    </tr>\n",
              "  </tbody>\n",
              "</table>\n",
              "</div>"
            ],
            "text/plain": [
              "                   A         B         C         D\n",
              "2013-01-01  0.171296 -1.049228 -2.009572 -0.134765\n",
              "2013-01-02 -0.714380 -0.664480 -1.183637  0.685385\n",
              "2013-01-03  1.531960  1.113155 -0.312433  0.536923\n",
              "2013-01-04  0.654503  0.449148 -0.198814 -1.495295\n",
              "2013-01-05 -0.945426 -1.654159  0.329364 -1.151281\n",
              "2013-01-06 -0.598861 -0.299351 -0.075675 -0.584622"
            ]
          },
          "metadata": {
            "tags": []
          },
          "execution_count": 58
        }
      ]
    },
    {
      "metadata": {
        "id": "iDABBz4yDvIk",
        "colab_type": "code",
        "outputId": "e96a9cb6-4b30-44cc-9b44-231c425fd324",
        "colab": {
          "base_uri": "https://localhost:8080/",
          "height": 107
        }
      },
      "cell_type": "code",
      "source": [
        "df.iloc[3]  # 결과는 차원축소형으로 표현됨."
      ],
      "execution_count": 0,
      "outputs": [
        {
          "output_type": "execute_result",
          "data": {
            "text/plain": [
              "A    0.654503\n",
              "B    0.449148\n",
              "C   -0.198814\n",
              "D   -1.495295\n",
              "Name: 2013-01-04 00:00:00, dtype: float64"
            ]
          },
          "metadata": {
            "tags": []
          },
          "execution_count": 59
        }
      ]
    },
    {
      "metadata": {
        "id": "omTsW-y-DvIm",
        "colab_type": "code",
        "outputId": "6df301f0-6249-49df-8512-e5a43e334905",
        "colab": {
          "base_uri": "https://localhost:8080/",
          "height": 111
        }
      },
      "cell_type": "code",
      "source": [
        "# [다시 도전]\n",
        "# Select data for first two days AND comumn 3,4 from df.\n",
        "df.iloc[:2,2:4]"
      ],
      "execution_count": 0,
      "outputs": [
        {
          "output_type": "execute_result",
          "data": {
            "text/html": [
              "<div>\n",
              "<style scoped>\n",
              "    .dataframe tbody tr th:only-of-type {\n",
              "        vertical-align: middle;\n",
              "    }\n",
              "\n",
              "    .dataframe tbody tr th {\n",
              "        vertical-align: top;\n",
              "    }\n",
              "\n",
              "    .dataframe thead th {\n",
              "        text-align: right;\n",
              "    }\n",
              "</style>\n",
              "<table border=\"1\" class=\"dataframe\">\n",
              "  <thead>\n",
              "    <tr style=\"text-align: right;\">\n",
              "      <th></th>\n",
              "      <th>C</th>\n",
              "      <th>D</th>\n",
              "    </tr>\n",
              "  </thead>\n",
              "  <tbody>\n",
              "    <tr>\n",
              "      <th>2013-01-01</th>\n",
              "      <td>-2.009572</td>\n",
              "      <td>-0.134765</td>\n",
              "    </tr>\n",
              "    <tr>\n",
              "      <th>2013-01-02</th>\n",
              "      <td>-1.183637</td>\n",
              "      <td>0.685385</td>\n",
              "    </tr>\n",
              "  </tbody>\n",
              "</table>\n",
              "</div>"
            ],
            "text/plain": [
              "                   C         D\n",
              "2013-01-01 -2.009572 -0.134765\n",
              "2013-01-02 -1.183637  0.685385"
            ]
          },
          "metadata": {
            "tags": []
          },
          "execution_count": 60
        }
      ]
    },
    {
      "metadata": {
        "id": "T1t5y9lVDvIo",
        "colab_type": "code",
        "outputId": "02114f10-4d96-4ce2-b2ae-8555c125e771",
        "colab": {
          "base_uri": "https://localhost:8080/",
          "height": 35
        }
      },
      "cell_type": "code",
      "source": [
        "# Select one item\n",
        "df.iloc[1,1]"
      ],
      "execution_count": 0,
      "outputs": [
        {
          "output_type": "execute_result",
          "data": {
            "text/plain": [
              "-0.6644802780116527"
            ]
          },
          "metadata": {
            "tags": []
          },
          "execution_count": 61
        }
      ]
    },
    {
      "metadata": {
        "id": "8MVhzJC2DvIq",
        "colab_type": "text"
      },
      "cell_type": "markdown",
      "source": [
        "#### Selecting data by Boolean indexing"
      ]
    },
    {
      "metadata": {
        "id": "6z3guxM1DvIr",
        "colab_type": "code",
        "outputId": "aa98718a-9433-48e3-e2db-7ecab6d6586d",
        "colab": {
          "base_uri": "https://localhost:8080/",
          "height": 235
        }
      },
      "cell_type": "code",
      "source": [
        "df"
      ],
      "execution_count": 0,
      "outputs": [
        {
          "output_type": "execute_result",
          "data": {
            "text/html": [
              "<div>\n",
              "<style scoped>\n",
              "    .dataframe tbody tr th:only-of-type {\n",
              "        vertical-align: middle;\n",
              "    }\n",
              "\n",
              "    .dataframe tbody tr th {\n",
              "        vertical-align: top;\n",
              "    }\n",
              "\n",
              "    .dataframe thead th {\n",
              "        text-align: right;\n",
              "    }\n",
              "</style>\n",
              "<table border=\"1\" class=\"dataframe\">\n",
              "  <thead>\n",
              "    <tr style=\"text-align: right;\">\n",
              "      <th></th>\n",
              "      <th>A</th>\n",
              "      <th>B</th>\n",
              "      <th>C</th>\n",
              "      <th>D</th>\n",
              "    </tr>\n",
              "  </thead>\n",
              "  <tbody>\n",
              "    <tr>\n",
              "      <th>2013-01-01</th>\n",
              "      <td>0.171296</td>\n",
              "      <td>-1.049228</td>\n",
              "      <td>-2.009572</td>\n",
              "      <td>-0.134765</td>\n",
              "    </tr>\n",
              "    <tr>\n",
              "      <th>2013-01-02</th>\n",
              "      <td>-0.714380</td>\n",
              "      <td>-0.664480</td>\n",
              "      <td>-1.183637</td>\n",
              "      <td>0.685385</td>\n",
              "    </tr>\n",
              "    <tr>\n",
              "      <th>2013-01-03</th>\n",
              "      <td>1.531960</td>\n",
              "      <td>1.113155</td>\n",
              "      <td>-0.312433</td>\n",
              "      <td>0.536923</td>\n",
              "    </tr>\n",
              "    <tr>\n",
              "      <th>2013-01-04</th>\n",
              "      <td>0.654503</td>\n",
              "      <td>0.449148</td>\n",
              "      <td>-0.198814</td>\n",
              "      <td>-1.495295</td>\n",
              "    </tr>\n",
              "    <tr>\n",
              "      <th>2013-01-05</th>\n",
              "      <td>-0.945426</td>\n",
              "      <td>-1.654159</td>\n",
              "      <td>0.329364</td>\n",
              "      <td>-1.151281</td>\n",
              "    </tr>\n",
              "    <tr>\n",
              "      <th>2013-01-06</th>\n",
              "      <td>-0.598861</td>\n",
              "      <td>-0.299351</td>\n",
              "      <td>-0.075675</td>\n",
              "      <td>-0.584622</td>\n",
              "    </tr>\n",
              "  </tbody>\n",
              "</table>\n",
              "</div>"
            ],
            "text/plain": [
              "                   A         B         C         D\n",
              "2013-01-01  0.171296 -1.049228 -2.009572 -0.134765\n",
              "2013-01-02 -0.714380 -0.664480 -1.183637  0.685385\n",
              "2013-01-03  1.531960  1.113155 -0.312433  0.536923\n",
              "2013-01-04  0.654503  0.449148 -0.198814 -1.495295\n",
              "2013-01-05 -0.945426 -1.654159  0.329364 -1.151281\n",
              "2013-01-06 -0.598861 -0.299351 -0.075675 -0.584622"
            ]
          },
          "metadata": {
            "tags": []
          },
          "execution_count": 62
        }
      ]
    },
    {
      "metadata": {
        "id": "QKtkTlZbDvIs",
        "colab_type": "code",
        "outputId": "bf63c1a6-2def-4335-c502-72144b01c366",
        "colab": {
          "base_uri": "https://localhost:8080/",
          "height": 142
        }
      },
      "cell_type": "code",
      "source": [
        "df[df.A > 0]"
      ],
      "execution_count": 0,
      "outputs": [
        {
          "output_type": "execute_result",
          "data": {
            "text/html": [
              "<div>\n",
              "<style scoped>\n",
              "    .dataframe tbody tr th:only-of-type {\n",
              "        vertical-align: middle;\n",
              "    }\n",
              "\n",
              "    .dataframe tbody tr th {\n",
              "        vertical-align: top;\n",
              "    }\n",
              "\n",
              "    .dataframe thead th {\n",
              "        text-align: right;\n",
              "    }\n",
              "</style>\n",
              "<table border=\"1\" class=\"dataframe\">\n",
              "  <thead>\n",
              "    <tr style=\"text-align: right;\">\n",
              "      <th></th>\n",
              "      <th>A</th>\n",
              "      <th>B</th>\n",
              "      <th>C</th>\n",
              "      <th>D</th>\n",
              "    </tr>\n",
              "  </thead>\n",
              "  <tbody>\n",
              "    <tr>\n",
              "      <th>2013-01-01</th>\n",
              "      <td>0.171296</td>\n",
              "      <td>-1.049228</td>\n",
              "      <td>-2.009572</td>\n",
              "      <td>-0.134765</td>\n",
              "    </tr>\n",
              "    <tr>\n",
              "      <th>2013-01-03</th>\n",
              "      <td>1.531960</td>\n",
              "      <td>1.113155</td>\n",
              "      <td>-0.312433</td>\n",
              "      <td>0.536923</td>\n",
              "    </tr>\n",
              "    <tr>\n",
              "      <th>2013-01-04</th>\n",
              "      <td>0.654503</td>\n",
              "      <td>0.449148</td>\n",
              "      <td>-0.198814</td>\n",
              "      <td>-1.495295</td>\n",
              "    </tr>\n",
              "  </tbody>\n",
              "</table>\n",
              "</div>"
            ],
            "text/plain": [
              "                   A         B         C         D\n",
              "2013-01-01  0.171296 -1.049228 -2.009572 -0.134765\n",
              "2013-01-03  1.531960  1.113155 -0.312433  0.536923\n",
              "2013-01-04  0.654503  0.449148 -0.198814 -1.495295"
            ]
          },
          "metadata": {
            "tags": []
          },
          "execution_count": 63
        }
      ]
    },
    {
      "metadata": {
        "id": "fWVQH0JeDvIu",
        "colab_type": "code",
        "outputId": "6e727e48-b034-4da3-f959-0b59fd5e5a83",
        "colab": {
          "base_uri": "https://localhost:8080/",
          "height": 235
        }
      },
      "cell_type": "code",
      "source": [
        "df[df > 0]"
      ],
      "execution_count": 0,
      "outputs": [
        {
          "output_type": "execute_result",
          "data": {
            "text/html": [
              "<div>\n",
              "<style scoped>\n",
              "    .dataframe tbody tr th:only-of-type {\n",
              "        vertical-align: middle;\n",
              "    }\n",
              "\n",
              "    .dataframe tbody tr th {\n",
              "        vertical-align: top;\n",
              "    }\n",
              "\n",
              "    .dataframe thead th {\n",
              "        text-align: right;\n",
              "    }\n",
              "</style>\n",
              "<table border=\"1\" class=\"dataframe\">\n",
              "  <thead>\n",
              "    <tr style=\"text-align: right;\">\n",
              "      <th></th>\n",
              "      <th>A</th>\n",
              "      <th>B</th>\n",
              "      <th>C</th>\n",
              "      <th>D</th>\n",
              "    </tr>\n",
              "  </thead>\n",
              "  <tbody>\n",
              "    <tr>\n",
              "      <th>2013-01-01</th>\n",
              "      <td>0.171296</td>\n",
              "      <td>NaN</td>\n",
              "      <td>NaN</td>\n",
              "      <td>NaN</td>\n",
              "    </tr>\n",
              "    <tr>\n",
              "      <th>2013-01-02</th>\n",
              "      <td>NaN</td>\n",
              "      <td>NaN</td>\n",
              "      <td>NaN</td>\n",
              "      <td>0.685385</td>\n",
              "    </tr>\n",
              "    <tr>\n",
              "      <th>2013-01-03</th>\n",
              "      <td>1.531960</td>\n",
              "      <td>1.113155</td>\n",
              "      <td>NaN</td>\n",
              "      <td>0.536923</td>\n",
              "    </tr>\n",
              "    <tr>\n",
              "      <th>2013-01-04</th>\n",
              "      <td>0.654503</td>\n",
              "      <td>0.449148</td>\n",
              "      <td>NaN</td>\n",
              "      <td>NaN</td>\n",
              "    </tr>\n",
              "    <tr>\n",
              "      <th>2013-01-05</th>\n",
              "      <td>NaN</td>\n",
              "      <td>NaN</td>\n",
              "      <td>0.329364</td>\n",
              "      <td>NaN</td>\n",
              "    </tr>\n",
              "    <tr>\n",
              "      <th>2013-01-06</th>\n",
              "      <td>NaN</td>\n",
              "      <td>NaN</td>\n",
              "      <td>NaN</td>\n",
              "      <td>NaN</td>\n",
              "    </tr>\n",
              "  </tbody>\n",
              "</table>\n",
              "</div>"
            ],
            "text/plain": [
              "                   A         B         C         D\n",
              "2013-01-01  0.171296       NaN       NaN       NaN\n",
              "2013-01-02       NaN       NaN       NaN  0.685385\n",
              "2013-01-03  1.531960  1.113155       NaN  0.536923\n",
              "2013-01-04  0.654503  0.449148       NaN       NaN\n",
              "2013-01-05       NaN       NaN  0.329364       NaN\n",
              "2013-01-06       NaN       NaN       NaN       NaN"
            ]
          },
          "metadata": {
            "tags": []
          },
          "execution_count": 64
        }
      ]
    },
    {
      "metadata": {
        "id": "66TtnlT4DvIy",
        "colab_type": "text"
      },
      "cell_type": "markdown",
      "source": [
        "### Setting (데이터 재구성 또는 확장)"
      ]
    },
    {
      "metadata": {
        "id": "idOEr2CYDvIz",
        "colab_type": "code",
        "outputId": "782c01eb-f71d-4d11-f6da-bb0eb80f515e",
        "colab": {
          "base_uri": "https://localhost:8080/",
          "height": 143
        }
      },
      "cell_type": "code",
      "source": [
        "# Setting a new column automatically aligns the data by the indexes.\n",
        "s1 = pd.Series([1,2,3,4,5,6], index=pd.date_range('20130102', periods=6))\n",
        "s1"
      ],
      "execution_count": 0,
      "outputs": [
        {
          "output_type": "execute_result",
          "data": {
            "text/plain": [
              "2013-01-02    1\n",
              "2013-01-03    2\n",
              "2013-01-04    3\n",
              "2013-01-05    4\n",
              "2013-01-06    5\n",
              "2013-01-07    6\n",
              "Freq: D, dtype: int64"
            ]
          },
          "metadata": {
            "tags": []
          },
          "execution_count": 65
        }
      ]
    },
    {
      "metadata": {
        "id": "wXG9M_VGDvI1",
        "colab_type": "code",
        "colab": {}
      },
      "cell_type": "code",
      "source": [
        "df['F'] = s1"
      ],
      "execution_count": 0,
      "outputs": []
    },
    {
      "metadata": {
        "id": "5dwFVqsXDvI3",
        "colab_type": "code",
        "outputId": "5ec56ee4-026e-4f01-e42f-03b017df9bec",
        "colab": {
          "base_uri": "https://localhost:8080/",
          "height": 235
        }
      },
      "cell_type": "code",
      "source": [
        "df  # 기존 df의 구조에 맞춰서 재구성됨."
      ],
      "execution_count": 0,
      "outputs": [
        {
          "output_type": "execute_result",
          "data": {
            "text/html": [
              "<div>\n",
              "<style scoped>\n",
              "    .dataframe tbody tr th:only-of-type {\n",
              "        vertical-align: middle;\n",
              "    }\n",
              "\n",
              "    .dataframe tbody tr th {\n",
              "        vertical-align: top;\n",
              "    }\n",
              "\n",
              "    .dataframe thead th {\n",
              "        text-align: right;\n",
              "    }\n",
              "</style>\n",
              "<table border=\"1\" class=\"dataframe\">\n",
              "  <thead>\n",
              "    <tr style=\"text-align: right;\">\n",
              "      <th></th>\n",
              "      <th>A</th>\n",
              "      <th>B</th>\n",
              "      <th>C</th>\n",
              "      <th>D</th>\n",
              "      <th>F</th>\n",
              "    </tr>\n",
              "  </thead>\n",
              "  <tbody>\n",
              "    <tr>\n",
              "      <th>2013-01-01</th>\n",
              "      <td>0.171296</td>\n",
              "      <td>-1.049228</td>\n",
              "      <td>-2.009572</td>\n",
              "      <td>-0.134765</td>\n",
              "      <td>NaN</td>\n",
              "    </tr>\n",
              "    <tr>\n",
              "      <th>2013-01-02</th>\n",
              "      <td>-0.714380</td>\n",
              "      <td>-0.664480</td>\n",
              "      <td>-1.183637</td>\n",
              "      <td>0.685385</td>\n",
              "      <td>1.0</td>\n",
              "    </tr>\n",
              "    <tr>\n",
              "      <th>2013-01-03</th>\n",
              "      <td>1.531960</td>\n",
              "      <td>1.113155</td>\n",
              "      <td>-0.312433</td>\n",
              "      <td>0.536923</td>\n",
              "      <td>2.0</td>\n",
              "    </tr>\n",
              "    <tr>\n",
              "      <th>2013-01-04</th>\n",
              "      <td>0.654503</td>\n",
              "      <td>0.449148</td>\n",
              "      <td>-0.198814</td>\n",
              "      <td>-1.495295</td>\n",
              "      <td>3.0</td>\n",
              "    </tr>\n",
              "    <tr>\n",
              "      <th>2013-01-05</th>\n",
              "      <td>-0.945426</td>\n",
              "      <td>-1.654159</td>\n",
              "      <td>0.329364</td>\n",
              "      <td>-1.151281</td>\n",
              "      <td>4.0</td>\n",
              "    </tr>\n",
              "    <tr>\n",
              "      <th>2013-01-06</th>\n",
              "      <td>-0.598861</td>\n",
              "      <td>-0.299351</td>\n",
              "      <td>-0.075675</td>\n",
              "      <td>-0.584622</td>\n",
              "      <td>5.0</td>\n",
              "    </tr>\n",
              "  </tbody>\n",
              "</table>\n",
              "</div>"
            ],
            "text/plain": [
              "                   A         B         C         D    F\n",
              "2013-01-01  0.171296 -1.049228 -2.009572 -0.134765  NaN\n",
              "2013-01-02 -0.714380 -0.664480 -1.183637  0.685385  1.0\n",
              "2013-01-03  1.531960  1.113155 -0.312433  0.536923  2.0\n",
              "2013-01-04  0.654503  0.449148 -0.198814 -1.495295  3.0\n",
              "2013-01-05 -0.945426 -1.654159  0.329364 -1.151281  4.0\n",
              "2013-01-06 -0.598861 -0.299351 -0.075675 -0.584622  5.0"
            ]
          },
          "metadata": {
            "tags": []
          },
          "execution_count": 67
        }
      ]
    },
    {
      "metadata": {
        "id": "RDwvt3b5DvI5",
        "colab_type": "code",
        "outputId": "e51762ff-c2f1-4533-f76e-dccee04080f3",
        "colab": {
          "base_uri": "https://localhost:8080/",
          "height": 235
        }
      },
      "cell_type": "code",
      "source": [
        "# Setting values by label:\n",
        "df.at[dates[0],'A'] = 0\n",
        "df"
      ],
      "execution_count": 0,
      "outputs": [
        {
          "output_type": "execute_result",
          "data": {
            "text/html": [
              "<div>\n",
              "<style scoped>\n",
              "    .dataframe tbody tr th:only-of-type {\n",
              "        vertical-align: middle;\n",
              "    }\n",
              "\n",
              "    .dataframe tbody tr th {\n",
              "        vertical-align: top;\n",
              "    }\n",
              "\n",
              "    .dataframe thead th {\n",
              "        text-align: right;\n",
              "    }\n",
              "</style>\n",
              "<table border=\"1\" class=\"dataframe\">\n",
              "  <thead>\n",
              "    <tr style=\"text-align: right;\">\n",
              "      <th></th>\n",
              "      <th>A</th>\n",
              "      <th>B</th>\n",
              "      <th>C</th>\n",
              "      <th>D</th>\n",
              "      <th>F</th>\n",
              "    </tr>\n",
              "  </thead>\n",
              "  <tbody>\n",
              "    <tr>\n",
              "      <th>2013-01-01</th>\n",
              "      <td>0.000000</td>\n",
              "      <td>-1.049228</td>\n",
              "      <td>-2.009572</td>\n",
              "      <td>-0.134765</td>\n",
              "      <td>NaN</td>\n",
              "    </tr>\n",
              "    <tr>\n",
              "      <th>2013-01-02</th>\n",
              "      <td>-0.714380</td>\n",
              "      <td>-0.664480</td>\n",
              "      <td>-1.183637</td>\n",
              "      <td>0.685385</td>\n",
              "      <td>1.0</td>\n",
              "    </tr>\n",
              "    <tr>\n",
              "      <th>2013-01-03</th>\n",
              "      <td>1.531960</td>\n",
              "      <td>1.113155</td>\n",
              "      <td>-0.312433</td>\n",
              "      <td>0.536923</td>\n",
              "      <td>2.0</td>\n",
              "    </tr>\n",
              "    <tr>\n",
              "      <th>2013-01-04</th>\n",
              "      <td>0.654503</td>\n",
              "      <td>0.449148</td>\n",
              "      <td>-0.198814</td>\n",
              "      <td>-1.495295</td>\n",
              "      <td>3.0</td>\n",
              "    </tr>\n",
              "    <tr>\n",
              "      <th>2013-01-05</th>\n",
              "      <td>-0.945426</td>\n",
              "      <td>-1.654159</td>\n",
              "      <td>0.329364</td>\n",
              "      <td>-1.151281</td>\n",
              "      <td>4.0</td>\n",
              "    </tr>\n",
              "    <tr>\n",
              "      <th>2013-01-06</th>\n",
              "      <td>-0.598861</td>\n",
              "      <td>-0.299351</td>\n",
              "      <td>-0.075675</td>\n",
              "      <td>-0.584622</td>\n",
              "      <td>5.0</td>\n",
              "    </tr>\n",
              "  </tbody>\n",
              "</table>\n",
              "</div>"
            ],
            "text/plain": [
              "                   A         B         C         D    F\n",
              "2013-01-01  0.000000 -1.049228 -2.009572 -0.134765  NaN\n",
              "2013-01-02 -0.714380 -0.664480 -1.183637  0.685385  1.0\n",
              "2013-01-03  1.531960  1.113155 -0.312433  0.536923  2.0\n",
              "2013-01-04  0.654503  0.449148 -0.198814 -1.495295  3.0\n",
              "2013-01-05 -0.945426 -1.654159  0.329364 -1.151281  4.0\n",
              "2013-01-06 -0.598861 -0.299351 -0.075675 -0.584622  5.0"
            ]
          },
          "metadata": {
            "tags": []
          },
          "execution_count": 68
        }
      ]
    },
    {
      "metadata": {
        "id": "u4a7eWd_DvI7",
        "colab_type": "code",
        "outputId": "fba49563-0606-4015-dd04-9d91387e9a4a",
        "colab": {
          "base_uri": "https://localhost:8080/",
          "height": 235
        }
      },
      "cell_type": "code",
      "source": [
        "# Setting values by position (index):\n",
        "df.iat[0,1] = 0\n",
        "df"
      ],
      "execution_count": 0,
      "outputs": [
        {
          "output_type": "execute_result",
          "data": {
            "text/html": [
              "<div>\n",
              "<style scoped>\n",
              "    .dataframe tbody tr th:only-of-type {\n",
              "        vertical-align: middle;\n",
              "    }\n",
              "\n",
              "    .dataframe tbody tr th {\n",
              "        vertical-align: top;\n",
              "    }\n",
              "\n",
              "    .dataframe thead th {\n",
              "        text-align: right;\n",
              "    }\n",
              "</style>\n",
              "<table border=\"1\" class=\"dataframe\">\n",
              "  <thead>\n",
              "    <tr style=\"text-align: right;\">\n",
              "      <th></th>\n",
              "      <th>A</th>\n",
              "      <th>B</th>\n",
              "      <th>C</th>\n",
              "      <th>D</th>\n",
              "      <th>F</th>\n",
              "    </tr>\n",
              "  </thead>\n",
              "  <tbody>\n",
              "    <tr>\n",
              "      <th>2013-01-01</th>\n",
              "      <td>0.000000</td>\n",
              "      <td>0.000000</td>\n",
              "      <td>-2.009572</td>\n",
              "      <td>-0.134765</td>\n",
              "      <td>NaN</td>\n",
              "    </tr>\n",
              "    <tr>\n",
              "      <th>2013-01-02</th>\n",
              "      <td>-0.714380</td>\n",
              "      <td>-0.664480</td>\n",
              "      <td>-1.183637</td>\n",
              "      <td>0.685385</td>\n",
              "      <td>1.0</td>\n",
              "    </tr>\n",
              "    <tr>\n",
              "      <th>2013-01-03</th>\n",
              "      <td>1.531960</td>\n",
              "      <td>1.113155</td>\n",
              "      <td>-0.312433</td>\n",
              "      <td>0.536923</td>\n",
              "      <td>2.0</td>\n",
              "    </tr>\n",
              "    <tr>\n",
              "      <th>2013-01-04</th>\n",
              "      <td>0.654503</td>\n",
              "      <td>0.449148</td>\n",
              "      <td>-0.198814</td>\n",
              "      <td>-1.495295</td>\n",
              "      <td>3.0</td>\n",
              "    </tr>\n",
              "    <tr>\n",
              "      <th>2013-01-05</th>\n",
              "      <td>-0.945426</td>\n",
              "      <td>-1.654159</td>\n",
              "      <td>0.329364</td>\n",
              "      <td>-1.151281</td>\n",
              "      <td>4.0</td>\n",
              "    </tr>\n",
              "    <tr>\n",
              "      <th>2013-01-06</th>\n",
              "      <td>-0.598861</td>\n",
              "      <td>-0.299351</td>\n",
              "      <td>-0.075675</td>\n",
              "      <td>-0.584622</td>\n",
              "      <td>5.0</td>\n",
              "    </tr>\n",
              "  </tbody>\n",
              "</table>\n",
              "</div>"
            ],
            "text/plain": [
              "                   A         B         C         D    F\n",
              "2013-01-01  0.000000  0.000000 -2.009572 -0.134765  NaN\n",
              "2013-01-02 -0.714380 -0.664480 -1.183637  0.685385  1.0\n",
              "2013-01-03  1.531960  1.113155 -0.312433  0.536923  2.0\n",
              "2013-01-04  0.654503  0.449148 -0.198814 -1.495295  3.0\n",
              "2013-01-05 -0.945426 -1.654159  0.329364 -1.151281  4.0\n",
              "2013-01-06 -0.598861 -0.299351 -0.075675 -0.584622  5.0"
            ]
          },
          "metadata": {
            "tags": []
          },
          "execution_count": 69
        }
      ]
    },
    {
      "metadata": {
        "id": "Q9c1UaaSDvI9",
        "colab_type": "code",
        "outputId": "1813bb43-1057-4936-bc15-79fee71bf56a",
        "colab": {
          "base_uri": "https://localhost:8080/",
          "height": 235
        }
      },
      "cell_type": "code",
      "source": [
        "# Setting by assigning with a NumPy array:\n",
        "df.loc[:,'D'] = np.array([5] * len(df))\n",
        "df"
      ],
      "execution_count": 0,
      "outputs": [
        {
          "output_type": "execute_result",
          "data": {
            "text/html": [
              "<div>\n",
              "<style scoped>\n",
              "    .dataframe tbody tr th:only-of-type {\n",
              "        vertical-align: middle;\n",
              "    }\n",
              "\n",
              "    .dataframe tbody tr th {\n",
              "        vertical-align: top;\n",
              "    }\n",
              "\n",
              "    .dataframe thead th {\n",
              "        text-align: right;\n",
              "    }\n",
              "</style>\n",
              "<table border=\"1\" class=\"dataframe\">\n",
              "  <thead>\n",
              "    <tr style=\"text-align: right;\">\n",
              "      <th></th>\n",
              "      <th>A</th>\n",
              "      <th>B</th>\n",
              "      <th>C</th>\n",
              "      <th>D</th>\n",
              "      <th>F</th>\n",
              "    </tr>\n",
              "  </thead>\n",
              "  <tbody>\n",
              "    <tr>\n",
              "      <th>2013-01-01</th>\n",
              "      <td>0.000000</td>\n",
              "      <td>0.000000</td>\n",
              "      <td>-2.009572</td>\n",
              "      <td>5</td>\n",
              "      <td>NaN</td>\n",
              "    </tr>\n",
              "    <tr>\n",
              "      <th>2013-01-02</th>\n",
              "      <td>-0.714380</td>\n",
              "      <td>-0.664480</td>\n",
              "      <td>-1.183637</td>\n",
              "      <td>5</td>\n",
              "      <td>1.0</td>\n",
              "    </tr>\n",
              "    <tr>\n",
              "      <th>2013-01-03</th>\n",
              "      <td>1.531960</td>\n",
              "      <td>1.113155</td>\n",
              "      <td>-0.312433</td>\n",
              "      <td>5</td>\n",
              "      <td>2.0</td>\n",
              "    </tr>\n",
              "    <tr>\n",
              "      <th>2013-01-04</th>\n",
              "      <td>0.654503</td>\n",
              "      <td>0.449148</td>\n",
              "      <td>-0.198814</td>\n",
              "      <td>5</td>\n",
              "      <td>3.0</td>\n",
              "    </tr>\n",
              "    <tr>\n",
              "      <th>2013-01-05</th>\n",
              "      <td>-0.945426</td>\n",
              "      <td>-1.654159</td>\n",
              "      <td>0.329364</td>\n",
              "      <td>5</td>\n",
              "      <td>4.0</td>\n",
              "    </tr>\n",
              "    <tr>\n",
              "      <th>2013-01-06</th>\n",
              "      <td>-0.598861</td>\n",
              "      <td>-0.299351</td>\n",
              "      <td>-0.075675</td>\n",
              "      <td>5</td>\n",
              "      <td>5.0</td>\n",
              "    </tr>\n",
              "  </tbody>\n",
              "</table>\n",
              "</div>"
            ],
            "text/plain": [
              "                   A         B         C  D    F\n",
              "2013-01-01  0.000000  0.000000 -2.009572  5  NaN\n",
              "2013-01-02 -0.714380 -0.664480 -1.183637  5  1.0\n",
              "2013-01-03  1.531960  1.113155 -0.312433  5  2.0\n",
              "2013-01-04  0.654503  0.449148 -0.198814  5  3.0\n",
              "2013-01-05 -0.945426 -1.654159  0.329364  5  4.0\n",
              "2013-01-06 -0.598861 -0.299351 -0.075675  5  5.0"
            ]
          },
          "metadata": {
            "tags": []
          },
          "execution_count": 70
        }
      ]
    },
    {
      "metadata": {
        "id": "xfCKHW-xQcuf",
        "colab_type": "code",
        "colab": {}
      },
      "cell_type": "code",
      "source": [
        ""
      ],
      "execution_count": 0,
      "outputs": []
    },
    {
      "metadata": {
        "id": "ncFaKwsVDvI-",
        "colab_type": "text"
      },
      "cell_type": "markdown",
      "source": [
        "### Missing data\n",
        "\n",
        "- pandas primarily uses the value np.nan to represent missing data. "
      ]
    },
    {
      "metadata": {
        "id": "df1Ljwd9DvI_",
        "colab_type": "code",
        "outputId": "eb66c8bb-1ae1-4d2e-fd55-a4a6348adbb4",
        "colab": {
          "base_uri": "https://localhost:8080/",
          "height": 173
        }
      },
      "cell_type": "code",
      "source": [
        "# Reindexing allows you to change/add/delete the index on a specified axis.\n",
        "df1 = df.reindex(index=dates[0:4], columns=list(df.columns) + ['E'])\n",
        "df1"
      ],
      "execution_count": 0,
      "outputs": [
        {
          "output_type": "execute_result",
          "data": {
            "text/html": [
              "<div>\n",
              "<style scoped>\n",
              "    .dataframe tbody tr th:only-of-type {\n",
              "        vertical-align: middle;\n",
              "    }\n",
              "\n",
              "    .dataframe tbody tr th {\n",
              "        vertical-align: top;\n",
              "    }\n",
              "\n",
              "    .dataframe thead th {\n",
              "        text-align: right;\n",
              "    }\n",
              "</style>\n",
              "<table border=\"1\" class=\"dataframe\">\n",
              "  <thead>\n",
              "    <tr style=\"text-align: right;\">\n",
              "      <th></th>\n",
              "      <th>A</th>\n",
              "      <th>B</th>\n",
              "      <th>C</th>\n",
              "      <th>D</th>\n",
              "      <th>F</th>\n",
              "      <th>E</th>\n",
              "    </tr>\n",
              "  </thead>\n",
              "  <tbody>\n",
              "    <tr>\n",
              "      <th>2013-01-01</th>\n",
              "      <td>0.000000</td>\n",
              "      <td>0.000000</td>\n",
              "      <td>-2.009572</td>\n",
              "      <td>5</td>\n",
              "      <td>NaN</td>\n",
              "      <td>NaN</td>\n",
              "    </tr>\n",
              "    <tr>\n",
              "      <th>2013-01-02</th>\n",
              "      <td>-0.714380</td>\n",
              "      <td>-0.664480</td>\n",
              "      <td>-1.183637</td>\n",
              "      <td>5</td>\n",
              "      <td>1.0</td>\n",
              "      <td>NaN</td>\n",
              "    </tr>\n",
              "    <tr>\n",
              "      <th>2013-01-03</th>\n",
              "      <td>1.531960</td>\n",
              "      <td>1.113155</td>\n",
              "      <td>-0.312433</td>\n",
              "      <td>5</td>\n",
              "      <td>2.0</td>\n",
              "      <td>NaN</td>\n",
              "    </tr>\n",
              "    <tr>\n",
              "      <th>2013-01-04</th>\n",
              "      <td>0.654503</td>\n",
              "      <td>0.449148</td>\n",
              "      <td>-0.198814</td>\n",
              "      <td>5</td>\n",
              "      <td>3.0</td>\n",
              "      <td>NaN</td>\n",
              "    </tr>\n",
              "  </tbody>\n",
              "</table>\n",
              "</div>"
            ],
            "text/plain": [
              "                   A         B         C  D    F   E\n",
              "2013-01-01  0.000000  0.000000 -2.009572  5  NaN NaN\n",
              "2013-01-02 -0.714380 -0.664480 -1.183637  5  1.0 NaN\n",
              "2013-01-03  1.531960  1.113155 -0.312433  5  2.0 NaN\n",
              "2013-01-04  0.654503  0.449148 -0.198814  5  3.0 NaN"
            ]
          },
          "metadata": {
            "tags": []
          },
          "execution_count": 71
        }
      ]
    },
    {
      "metadata": {
        "id": "xOgDkVonDvJA",
        "colab_type": "code",
        "outputId": "96a4bba5-6809-4401-bf53-ba80f535e177",
        "colab": {
          "base_uri": "https://localhost:8080/",
          "height": 173
        }
      },
      "cell_type": "code",
      "source": [
        "df1.loc[dates[0]:dates[1],'E'] = 1\n",
        "df1"
      ],
      "execution_count": 0,
      "outputs": [
        {
          "output_type": "execute_result",
          "data": {
            "text/html": [
              "<div>\n",
              "<style scoped>\n",
              "    .dataframe tbody tr th:only-of-type {\n",
              "        vertical-align: middle;\n",
              "    }\n",
              "\n",
              "    .dataframe tbody tr th {\n",
              "        vertical-align: top;\n",
              "    }\n",
              "\n",
              "    .dataframe thead th {\n",
              "        text-align: right;\n",
              "    }\n",
              "</style>\n",
              "<table border=\"1\" class=\"dataframe\">\n",
              "  <thead>\n",
              "    <tr style=\"text-align: right;\">\n",
              "      <th></th>\n",
              "      <th>A</th>\n",
              "      <th>B</th>\n",
              "      <th>C</th>\n",
              "      <th>D</th>\n",
              "      <th>F</th>\n",
              "      <th>E</th>\n",
              "    </tr>\n",
              "  </thead>\n",
              "  <tbody>\n",
              "    <tr>\n",
              "      <th>2013-01-01</th>\n",
              "      <td>0.000000</td>\n",
              "      <td>0.000000</td>\n",
              "      <td>-2.009572</td>\n",
              "      <td>5</td>\n",
              "      <td>NaN</td>\n",
              "      <td>1.0</td>\n",
              "    </tr>\n",
              "    <tr>\n",
              "      <th>2013-01-02</th>\n",
              "      <td>-0.714380</td>\n",
              "      <td>-0.664480</td>\n",
              "      <td>-1.183637</td>\n",
              "      <td>5</td>\n",
              "      <td>1.0</td>\n",
              "      <td>1.0</td>\n",
              "    </tr>\n",
              "    <tr>\n",
              "      <th>2013-01-03</th>\n",
              "      <td>1.531960</td>\n",
              "      <td>1.113155</td>\n",
              "      <td>-0.312433</td>\n",
              "      <td>5</td>\n",
              "      <td>2.0</td>\n",
              "      <td>NaN</td>\n",
              "    </tr>\n",
              "    <tr>\n",
              "      <th>2013-01-04</th>\n",
              "      <td>0.654503</td>\n",
              "      <td>0.449148</td>\n",
              "      <td>-0.198814</td>\n",
              "      <td>5</td>\n",
              "      <td>3.0</td>\n",
              "      <td>NaN</td>\n",
              "    </tr>\n",
              "  </tbody>\n",
              "</table>\n",
              "</div>"
            ],
            "text/plain": [
              "                   A         B         C  D    F    E\n",
              "2013-01-01  0.000000  0.000000 -2.009572  5  NaN  1.0\n",
              "2013-01-02 -0.714380 -0.664480 -1.183637  5  1.0  1.0\n",
              "2013-01-03  1.531960  1.113155 -0.312433  5  2.0  NaN\n",
              "2013-01-04  0.654503  0.449148 -0.198814  5  3.0  NaN"
            ]
          },
          "metadata": {
            "tags": []
          },
          "execution_count": 72
        }
      ]
    },
    {
      "metadata": {
        "id": "CDa3rno8DvJC",
        "colab_type": "code",
        "outputId": "dc337f1e-649e-476e-f647-3b5c7a7770d6",
        "colab": {
          "base_uri": "https://localhost:8080/",
          "height": 80
        }
      },
      "cell_type": "code",
      "source": [
        "# To drop any rows that have missing data.\n",
        "df1.dropna(how='any')"
      ],
      "execution_count": 0,
      "outputs": [
        {
          "output_type": "execute_result",
          "data": {
            "text/html": [
              "<div>\n",
              "<style scoped>\n",
              "    .dataframe tbody tr th:only-of-type {\n",
              "        vertical-align: middle;\n",
              "    }\n",
              "\n",
              "    .dataframe tbody tr th {\n",
              "        vertical-align: top;\n",
              "    }\n",
              "\n",
              "    .dataframe thead th {\n",
              "        text-align: right;\n",
              "    }\n",
              "</style>\n",
              "<table border=\"1\" class=\"dataframe\">\n",
              "  <thead>\n",
              "    <tr style=\"text-align: right;\">\n",
              "      <th></th>\n",
              "      <th>A</th>\n",
              "      <th>B</th>\n",
              "      <th>C</th>\n",
              "      <th>D</th>\n",
              "      <th>F</th>\n",
              "      <th>E</th>\n",
              "    </tr>\n",
              "  </thead>\n",
              "  <tbody>\n",
              "    <tr>\n",
              "      <th>2013-01-02</th>\n",
              "      <td>-0.71438</td>\n",
              "      <td>-0.66448</td>\n",
              "      <td>-1.183637</td>\n",
              "      <td>5</td>\n",
              "      <td>1.0</td>\n",
              "      <td>1.0</td>\n",
              "    </tr>\n",
              "  </tbody>\n",
              "</table>\n",
              "</div>"
            ],
            "text/plain": [
              "                  A        B         C  D    F    E\n",
              "2013-01-02 -0.71438 -0.66448 -1.183637  5  1.0  1.0"
            ]
          },
          "metadata": {
            "tags": []
          },
          "execution_count": 73
        }
      ]
    },
    {
      "metadata": {
        "id": "Edd0oPIrDvJD",
        "colab_type": "code",
        "outputId": "b1857cef-e048-4a2a-e91e-c2eb13d8eff8",
        "colab": {
          "base_uri": "https://localhost:8080/",
          "height": 173
        }
      },
      "cell_type": "code",
      "source": [
        "# Filling missing data.\n",
        "df1.fillna(value=5)"
      ],
      "execution_count": 0,
      "outputs": [
        {
          "output_type": "execute_result",
          "data": {
            "text/html": [
              "<div>\n",
              "<style scoped>\n",
              "    .dataframe tbody tr th:only-of-type {\n",
              "        vertical-align: middle;\n",
              "    }\n",
              "\n",
              "    .dataframe tbody tr th {\n",
              "        vertical-align: top;\n",
              "    }\n",
              "\n",
              "    .dataframe thead th {\n",
              "        text-align: right;\n",
              "    }\n",
              "</style>\n",
              "<table border=\"1\" class=\"dataframe\">\n",
              "  <thead>\n",
              "    <tr style=\"text-align: right;\">\n",
              "      <th></th>\n",
              "      <th>A</th>\n",
              "      <th>B</th>\n",
              "      <th>C</th>\n",
              "      <th>D</th>\n",
              "      <th>F</th>\n",
              "      <th>E</th>\n",
              "    </tr>\n",
              "  </thead>\n",
              "  <tbody>\n",
              "    <tr>\n",
              "      <th>2013-01-01</th>\n",
              "      <td>0.000000</td>\n",
              "      <td>0.000000</td>\n",
              "      <td>-2.009572</td>\n",
              "      <td>5</td>\n",
              "      <td>5.0</td>\n",
              "      <td>1.0</td>\n",
              "    </tr>\n",
              "    <tr>\n",
              "      <th>2013-01-02</th>\n",
              "      <td>-0.714380</td>\n",
              "      <td>-0.664480</td>\n",
              "      <td>-1.183637</td>\n",
              "      <td>5</td>\n",
              "      <td>1.0</td>\n",
              "      <td>1.0</td>\n",
              "    </tr>\n",
              "    <tr>\n",
              "      <th>2013-01-03</th>\n",
              "      <td>1.531960</td>\n",
              "      <td>1.113155</td>\n",
              "      <td>-0.312433</td>\n",
              "      <td>5</td>\n",
              "      <td>2.0</td>\n",
              "      <td>5.0</td>\n",
              "    </tr>\n",
              "    <tr>\n",
              "      <th>2013-01-04</th>\n",
              "      <td>0.654503</td>\n",
              "      <td>0.449148</td>\n",
              "      <td>-0.198814</td>\n",
              "      <td>5</td>\n",
              "      <td>3.0</td>\n",
              "      <td>5.0</td>\n",
              "    </tr>\n",
              "  </tbody>\n",
              "</table>\n",
              "</div>"
            ],
            "text/plain": [
              "                   A         B         C  D    F    E\n",
              "2013-01-01  0.000000  0.000000 -2.009572  5  5.0  1.0\n",
              "2013-01-02 -0.714380 -0.664480 -1.183637  5  1.0  1.0\n",
              "2013-01-03  1.531960  1.113155 -0.312433  5  2.0  5.0\n",
              "2013-01-04  0.654503  0.449148 -0.198814  5  3.0  5.0"
            ]
          },
          "metadata": {
            "tags": []
          },
          "execution_count": 74
        }
      ]
    },
    {
      "metadata": {
        "id": "DNWYc9RADvJG",
        "colab_type": "code",
        "outputId": "da50aab1-1e29-4e7f-c759-049c981df01d",
        "colab": {
          "base_uri": "https://localhost:8080/",
          "height": 173
        }
      },
      "cell_type": "code",
      "source": [
        "# Get the boolean mask where values are nan.\n",
        "pd.isna(df1)"
      ],
      "execution_count": 0,
      "outputs": [
        {
          "output_type": "execute_result",
          "data": {
            "text/html": [
              "<div>\n",
              "<style scoped>\n",
              "    .dataframe tbody tr th:only-of-type {\n",
              "        vertical-align: middle;\n",
              "    }\n",
              "\n",
              "    .dataframe tbody tr th {\n",
              "        vertical-align: top;\n",
              "    }\n",
              "\n",
              "    .dataframe thead th {\n",
              "        text-align: right;\n",
              "    }\n",
              "</style>\n",
              "<table border=\"1\" class=\"dataframe\">\n",
              "  <thead>\n",
              "    <tr style=\"text-align: right;\">\n",
              "      <th></th>\n",
              "      <th>A</th>\n",
              "      <th>B</th>\n",
              "      <th>C</th>\n",
              "      <th>D</th>\n",
              "      <th>F</th>\n",
              "      <th>E</th>\n",
              "    </tr>\n",
              "  </thead>\n",
              "  <tbody>\n",
              "    <tr>\n",
              "      <th>2013-01-01</th>\n",
              "      <td>False</td>\n",
              "      <td>False</td>\n",
              "      <td>False</td>\n",
              "      <td>False</td>\n",
              "      <td>True</td>\n",
              "      <td>False</td>\n",
              "    </tr>\n",
              "    <tr>\n",
              "      <th>2013-01-02</th>\n",
              "      <td>False</td>\n",
              "      <td>False</td>\n",
              "      <td>False</td>\n",
              "      <td>False</td>\n",
              "      <td>False</td>\n",
              "      <td>False</td>\n",
              "    </tr>\n",
              "    <tr>\n",
              "      <th>2013-01-03</th>\n",
              "      <td>False</td>\n",
              "      <td>False</td>\n",
              "      <td>False</td>\n",
              "      <td>False</td>\n",
              "      <td>False</td>\n",
              "      <td>True</td>\n",
              "    </tr>\n",
              "    <tr>\n",
              "      <th>2013-01-04</th>\n",
              "      <td>False</td>\n",
              "      <td>False</td>\n",
              "      <td>False</td>\n",
              "      <td>False</td>\n",
              "      <td>False</td>\n",
              "      <td>True</td>\n",
              "    </tr>\n",
              "  </tbody>\n",
              "</table>\n",
              "</div>"
            ],
            "text/plain": [
              "                A      B      C      D      F      E\n",
              "2013-01-01  False  False  False  False   True  False\n",
              "2013-01-02  False  False  False  False  False  False\n",
              "2013-01-03  False  False  False  False  False   True\n",
              "2013-01-04  False  False  False  False  False   True"
            ]
          },
          "metadata": {
            "tags": []
          },
          "execution_count": 75
        }
      ]
    },
    {
      "metadata": {
        "id": "PcifYKjfDvJH",
        "colab_type": "text"
      },
      "cell_type": "markdown",
      "source": [
        "### Stats"
      ]
    },
    {
      "metadata": {
        "id": "BXH_zjv5DvJH",
        "colab_type": "code",
        "outputId": "fd3c2622-92c6-47f3-d41a-e885b705af02",
        "colab": {
          "base_uri": "https://localhost:8080/",
          "height": 235
        }
      },
      "cell_type": "code",
      "source": [
        "df"
      ],
      "execution_count": 0,
      "outputs": [
        {
          "output_type": "execute_result",
          "data": {
            "text/html": [
              "<div>\n",
              "<style scoped>\n",
              "    .dataframe tbody tr th:only-of-type {\n",
              "        vertical-align: middle;\n",
              "    }\n",
              "\n",
              "    .dataframe tbody tr th {\n",
              "        vertical-align: top;\n",
              "    }\n",
              "\n",
              "    .dataframe thead th {\n",
              "        text-align: right;\n",
              "    }\n",
              "</style>\n",
              "<table border=\"1\" class=\"dataframe\">\n",
              "  <thead>\n",
              "    <tr style=\"text-align: right;\">\n",
              "      <th></th>\n",
              "      <th>A</th>\n",
              "      <th>B</th>\n",
              "      <th>C</th>\n",
              "      <th>D</th>\n",
              "      <th>F</th>\n",
              "    </tr>\n",
              "  </thead>\n",
              "  <tbody>\n",
              "    <tr>\n",
              "      <th>2013-01-01</th>\n",
              "      <td>0.000000</td>\n",
              "      <td>0.000000</td>\n",
              "      <td>-2.009572</td>\n",
              "      <td>5</td>\n",
              "      <td>NaN</td>\n",
              "    </tr>\n",
              "    <tr>\n",
              "      <th>2013-01-02</th>\n",
              "      <td>-0.714380</td>\n",
              "      <td>-0.664480</td>\n",
              "      <td>-1.183637</td>\n",
              "      <td>5</td>\n",
              "      <td>1.0</td>\n",
              "    </tr>\n",
              "    <tr>\n",
              "      <th>2013-01-03</th>\n",
              "      <td>1.531960</td>\n",
              "      <td>1.113155</td>\n",
              "      <td>-0.312433</td>\n",
              "      <td>5</td>\n",
              "      <td>2.0</td>\n",
              "    </tr>\n",
              "    <tr>\n",
              "      <th>2013-01-04</th>\n",
              "      <td>0.654503</td>\n",
              "      <td>0.449148</td>\n",
              "      <td>-0.198814</td>\n",
              "      <td>5</td>\n",
              "      <td>3.0</td>\n",
              "    </tr>\n",
              "    <tr>\n",
              "      <th>2013-01-05</th>\n",
              "      <td>-0.945426</td>\n",
              "      <td>-1.654159</td>\n",
              "      <td>0.329364</td>\n",
              "      <td>5</td>\n",
              "      <td>4.0</td>\n",
              "    </tr>\n",
              "    <tr>\n",
              "      <th>2013-01-06</th>\n",
              "      <td>-0.598861</td>\n",
              "      <td>-0.299351</td>\n",
              "      <td>-0.075675</td>\n",
              "      <td>5</td>\n",
              "      <td>5.0</td>\n",
              "    </tr>\n",
              "  </tbody>\n",
              "</table>\n",
              "</div>"
            ],
            "text/plain": [
              "                   A         B         C  D    F\n",
              "2013-01-01  0.000000  0.000000 -2.009572  5  NaN\n",
              "2013-01-02 -0.714380 -0.664480 -1.183637  5  1.0\n",
              "2013-01-03  1.531960  1.113155 -0.312433  5  2.0\n",
              "2013-01-04  0.654503  0.449148 -0.198814  5  3.0\n",
              "2013-01-05 -0.945426 -1.654159  0.329364  5  4.0\n",
              "2013-01-06 -0.598861 -0.299351 -0.075675  5  5.0"
            ]
          },
          "metadata": {
            "tags": []
          },
          "execution_count": 76
        }
      ]
    },
    {
      "metadata": {
        "id": "SZKJCJLdDvJL",
        "colab_type": "code",
        "outputId": "8bbeb5c1-8776-4c9e-8f19-42d85a3d8252",
        "colab": {
          "base_uri": "https://localhost:8080/",
          "height": 125
        }
      },
      "cell_type": "code",
      "source": [
        "df.mean() "
      ],
      "execution_count": 0,
      "outputs": [
        {
          "output_type": "execute_result",
          "data": {
            "text/plain": [
              "A   -0.012034\n",
              "B   -0.175948\n",
              "C   -0.575128\n",
              "D    5.000000\n",
              "F    3.000000\n",
              "dtype: float64"
            ]
          },
          "metadata": {
            "tags": []
          },
          "execution_count": 77
        }
      ]
    },
    {
      "metadata": {
        "id": "1ppisiTnDvJM",
        "colab_type": "code",
        "outputId": "f66c2dfe-10d6-448d-90ab-6ec6df0f63b1",
        "colab": {
          "base_uri": "https://localhost:8080/",
          "height": 125
        }
      },
      "cell_type": "code",
      "source": [
        "df.mean(0)"
      ],
      "execution_count": 0,
      "outputs": [
        {
          "output_type": "execute_result",
          "data": {
            "text/plain": [
              "A   -0.012034\n",
              "B   -0.175948\n",
              "C   -0.575128\n",
              "D    5.000000\n",
              "F    3.000000\n",
              "dtype: float64"
            ]
          },
          "metadata": {
            "tags": []
          },
          "execution_count": 78
        }
      ]
    },
    {
      "metadata": {
        "id": "WGKIlzJXDvJN",
        "colab_type": "code",
        "outputId": "a5b41d8c-957b-43ef-b794-e21a95fafed7",
        "colab": {
          "base_uri": "https://localhost:8080/",
          "height": 143
        }
      },
      "cell_type": "code",
      "source": [
        "df.mean(1) #가로로 평균"
      ],
      "execution_count": 0,
      "outputs": [
        {
          "output_type": "execute_result",
          "data": {
            "text/plain": [
              "2013-01-01    0.747607\n",
              "2013-01-02    0.687500\n",
              "2013-01-03    1.866536\n",
              "2013-01-04    1.780967\n",
              "2013-01-05    1.345956\n",
              "2013-01-06    1.805223\n",
              "Freq: D, dtype: float64"
            ]
          },
          "metadata": {
            "tags": []
          },
          "execution_count": 79
        }
      ]
    },
    {
      "metadata": {
        "id": "yMRoXpeiDvJQ",
        "colab_type": "text"
      },
      "cell_type": "markdown",
      "source": [
        "# Chapter 12-03\n",
        "## matplotlib을 사용한다"
      ]
    },
    {
      "metadata": {
        "id": "V_qAs6uZDvJQ",
        "colab_type": "text"
      },
      "cell_type": "markdown",
      "source": [
        "### plot( )로 그래프를 그린다"
      ]
    },
    {
      "metadata": {
        "id": "xFlF1Mx2DvJQ",
        "colab_type": "code",
        "outputId": "4b08c60f-f6c1-4119-b2b6-1a6897c7b4a9",
        "colab": {
          "base_uri": "https://localhost:8080/",
          "height": 265
        }
      },
      "cell_type": "code",
      "source": [
        "# sin그래프를 그린다\n",
        "%matplotlib inline\n",
        "import numpy as np\n",
        "import matplotlib.pyplot as plt\n",
        "\n",
        "s = np.sin(np.pi*np.arange(0.0, 2.0, 0.01)) # pi = 3.14\n",
        "t = plt.plot(s)    # sin의 그래프를 그림 , X축 : 데이터 인덱스"
      ],
      "execution_count": 0,
      "outputs": [
        {
          "output_type": "display_data",
          "data": {
            "image/png": "[encoded data removed]",
            "text/plain": [
              "<matplotlib.figure.Figure at 0x7f043efbbd68>"
            ]
          },
          "metadata": {
            "tags": []
          }
        }
      ]
    },
    {
      "metadata": {
        "id": "MtwAk61qDvJS",
        "colab_type": "code",
        "outputId": "21f1c525-7fb5-4a3e-d5ff-0ca4f46626a6",
        "colab": {
          "base_uri": "https://localhost:8080/",
          "height": 283
        }
      },
      "cell_type": "code",
      "source": [
        "plt.plot(np.arange(0.0, 2.0, 0.01),s)"
      ],
      "execution_count": 0,
      "outputs": [
        {
          "output_type": "execute_result",
          "data": {
            "text/plain": [
              "[<matplotlib.lines.Line2D at 0x7f043ae66630>]"
            ]
          },
          "metadata": {
            "tags": []
          },
          "execution_count": 94
        },
        {
          "output_type": "display_data",
          "data": {
            "image/png": "[encoded data removed]",
            "text/plain": [
              "<matplotlib.figure.Figure at 0x7f043a5c0d68>"
            ]
          },
          "metadata": {
            "tags": []
          }
        }
      ]
    },
    {
      "metadata": {
        "id": "nu_CnMciDvJU",
        "colab_type": "code",
        "outputId": "32abac0a-e583-4f4c-f5f1-40a8347875bb",
        "colab": {
          "base_uri": "https://localhost:8080/",
          "height": 265
        }
      },
      "cell_type": "code",
      "source": [
        "# 산포도(scatter plot)를 그린다\n",
        "# 인수 마커를 사용하여 산포도를 작성\n",
        "x = np.random.randn(5000)    # 표준 정규 분포에 따라 난수 생성\n",
        "y = np.random.randn(5000)\n",
        "t = plt.plot(x, y, 'o', alpha=0.1)"
      ],
      "execution_count": 0,
      "outputs": [
        {
          "output_type": "display_data",
          "data": {
            "image/png": "[encoded data removed]",
            "text/plain": [
              "<matplotlib.figure.Figure at 0x7f043ae92278>"
            ]
          },
          "metadata": {
            "tags": []
          }
        }
      ]
    },
    {
      "metadata": {
        "id": "KMRIoYx_DvJV",
        "colab_type": "code",
        "outputId": "dd876027-c4fb-445d-d982-774bc7edef1e",
        "colab": {
          "base_uri": "https://localhost:8080/",
          "height": 339
        }
      },
      "cell_type": "code",
      "source": [
        "# 그래프를 중복해 그림\n",
        "x = np.array([1.628, 3.363, 5.145, 7.683, 9.855])\n",
        "y = np.array([1.257, 3.672, 5.841, 7.951, 9.775])\n",
        "# 최소 자승법(least square method)으로 데이터를 근사하는 직선을 구함\n",
        "a = np.array([x, np.ones(x.size)])\n",
        "a = a.T\n",
        "m, c = np.linalg.lstsq(a, y)[0]\n",
        "t = plt.plot(x, y, 'o', ms=12)   # 데이터를 그림\n",
        "t = plt.plot(x, (m*x+c))  # 근사직선을 그림, m:기울기,c:bias(절편)"
      ],
      "execution_count": 0,
      "outputs": [
        {
          "output_type": "stream",
          "text": [
            "/usr/local/lib/python3.6/dist-packages/ipykernel_launcher.py:6: FutureWarning: `rcond` parameter will change to the default of machine precision times ``max(M, N)`` where M and N are the input matrix dimensions.\n",
            "To use the future default and silence this warning we advise to pass `rcond=None`, to keep using the old, explicitly pass `rcond=-1`.\n",
            "  \n"
          ],
          "name": "stderr"
        },
        {
          "output_type": "display_data",
          "data": {
            "image/png": "[encoded data removed]",
            "text/plain": [
              "<matplotlib.figure.Figure at 0x7f043ef8fb38>"
            ]
          },
          "metadata": {
            "tags": []
          }
        }
      ]
    },
    {
      "metadata": {
        "id": "EliCFVNpDvJX",
        "colab_type": "text"
      },
      "cell_type": "markdown",
      "source": [
        "### plot( )로 그림을 제어"
      ]
    },
    {
      "metadata": {
        "id": "99J9QWJEDvJX",
        "colab_type": "code",
        "outputId": "858ad0c7-a618-4155-c866-3450ac423a85",
        "colab": {
          "base_uri": "https://localhost:8080/",
          "height": 265
        }
      },
      "cell_type": "code",
      "source": [
        "# 선 스타일 변경\n",
        "s = np.sin(np.pi*np.arange(0.0, 2.0, 0.01))\n",
        "t = plt.plot(s, linestyle='--', linewidth=8) # linewidth : 숫자 커질수록 선의 굵기가 굵어진다."
      ],
      "execution_count": 0,
      "outputs": [
        {
          "output_type": "display_data",
          "data": {
            "image/png": "[encoded data removed]",
            "text/plain": [
              "<matplotlib.figure.Figure at 0x7f043ae99dd8>"
            ]
          },
          "metadata": {
            "tags": []
          }
        }
      ]
    },
    {
      "metadata": {
        "id": "19G5CLRrDvJa",
        "colab_type": "text"
      },
      "cell_type": "markdown",
      "source": [
        "### 문자를 삽입한다"
      ]
    },
    {
      "metadata": {
        "id": "tR0TGq48DvJa",
        "colab_type": "code",
        "colab": {}
      },
      "cell_type": "code",
      "source": [
        "# 표시용 폰트 지정\n",
        "import matplotlib.pyplot as plt\n",
        "# plt.rcParams['font.family'] = 'AppleGothic'"
      ],
      "execution_count": 0,
      "outputs": []
    },
    {
      "metadata": {
        "id": "3GMZS9NTDvJc",
        "colab_type": "code",
        "colab": {}
      },
      "cell_type": "code",
      "source": [
        "# 시스템에서 사용 가능한 글꼴 목록을 표시\n",
        "import matplotlib.font_manager as fm\n",
        "fontsfamily = fm.findSystemFonts()"
      ],
      "execution_count": 0,
      "outputs": []
    },
    {
      "metadata": {
        "id": "I8Asx1veDvJe",
        "colab_type": "code",
        "outputId": "e743093a-e049-4b69-cda7-59d9f02892fa",
        "colab": {
          "base_uri": "https://localhost:8080/",
          "height": 107
        }
      },
      "cell_type": "code",
      "source": [
        "fontsfamily[:5]"
      ],
      "execution_count": 0,
      "outputs": [
        {
          "output_type": "execute_result",
          "data": {
            "text/plain": [
              "['/usr/share/fonts/truetype/liberation/LiberationSansNarrow-BoldItalic.ttf',\n",
              " '/usr/share/fonts/truetype/liberation/LiberationMono-Italic.ttf',\n",
              " '/usr/share/fonts/truetype/liberation/LiberationSans-Regular.ttf',\n",
              " '/usr/share/fonts/truetype/liberation/LiberationSansNarrow-Bold.ttf',\n",
              " '/usr/share/fonts/truetype/liberation/LiberationSansNarrow-Italic.ttf']"
            ]
          },
          "metadata": {
            "tags": []
          },
          "execution_count": 87
        }
      ]
    },
    {
      "metadata": {
        "id": "MOwVCJ9bDvJi",
        "colab_type": "text"
      },
      "cell_type": "markdown",
      "source": [
        "***"
      ]
    },
    {
      "metadata": {
        "id": "S85zuZTDDvJi",
        "colab_type": "text"
      },
      "cell_type": "markdown",
      "source": [
        "# Chapter 12-04\n",
        "## 일본 인구를 시각화한다"
      ]
    },
    {
      "metadata": {
        "id": "vF32nbqwDvJj",
        "colab_type": "text"
      },
      "cell_type": "markdown",
      "source": [
        "### 인구 데이터를 읽어 들임"
      ]
    },
    {
      "metadata": {
        "id": "p9Jb8EEEWQB3",
        "colab_type": "code",
        "outputId": "7f326fec-d4bf-47c5-97f2-6d5e20d5b70b",
        "colab": {
          "resources": {
            "http://localhost:8080/nbextensions/google.colab/files.js": {
              "data": "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",
              "ok": true,
              "headers": [
                [
                  "content-type",
                  "application/javascript"
                ]
              ],
              "status": 200,
              "status_text": ""
            }
          },
          "base_uri": "https://localhost:8080/",
          "height": 200
        }
      },
      "cell_type": "code",
      "source": [
        "from google.colab import files\n",
        "\n",
        "uploaded = files.upload()\n",
        "\n",
        "for fn in uploaded.keys():\n",
        "  print('User uploaded file \"{name}\" with length {length} bytes'.format(\n",
        "      name=fn, length=len(uploaded[fn])))"
      ],
      "execution_count": 0,
      "outputs": [
        {
          "output_type": "display_data",
          "data": {
            "text/html": [
              "\n",
              "     <input type=\"file\" id=\"files-6bc42fa5-14b9-4d4d-98e7-2e5b0ad50876\" name=\"files[]\" multiple disabled />\n",
              "     <output id=\"result-6bc42fa5-14b9-4d4d-98e7-2e5b0ad50876\">\n",
              "      Upload widget is only available when the cell has been executed in the\n",
              "      current browser session. Please rerun this cell to enable.\n",
              "      </output>\n",
              "      <script src=\"/nbextensions/google.colab/files.js\"></script> "
            ],
            "text/plain": [
              "<IPython.core.display.HTML object>"
            ]
          },
          "metadata": {
            "tags": []
          }
        },
        {
          "output_type": "stream",
          "text": [
            "Saving female_1944_2014.csv to female_1944_2014.csv\n",
            "Saving male_1944_2014.csv to male_1944_2014.csv\n",
            "Saving total_fertility_rate.csv to total_fertility_rate.csv\n",
            "User uploaded file \"female_1944_2014.csv\" with length 7323 bytes\n",
            "User uploaded file \"male_1944_2014.csv\" with length 7218 bytes\n",
            "User uploaded file \"total_fertility_rate.csv\" with length 550 bytes\n"
          ],
          "name": "stdout"
        }
      ]
    },
    {
      "metadata": {
        "id": "O7AerQc6DvJj",
        "colab_type": "code",
        "colab": {}
      },
      "cell_type": "code",
      "source": [
        "# 1944년부터 2014년까지의 5계층 단계별로 인구를 남녀별로 읽어 들임\n",
        "import numpy as np\n",
        "\n",
        "p_male = np.loadtxt('male_1944_2014.csv', delimiter=\",\",\n",
        "                      skiprows=1, usecols=range(1, 22))\n",
        "p_female = np.loadtxt('female_1944_2014.csv', delimiter=\",\",\n",
        "                      skiprows=1, usecols=range(1, 22)) "
      ],
      "execution_count": 0,
      "outputs": []
    },
    {
      "metadata": {
        "id": "bmplabhbDvJk",
        "colab_type": "code",
        "outputId": "b2ecb785-c700-4a53-f47f-9e04a98a1360",
        "colab": {
          "base_uri": "https://localhost:8080/",
          "height": 341
        }
      },
      "cell_type": "code",
      "source": [
        "# 계급별과 연도별로 인구를 계산한다.\n",
        "# 남녀 5세씩의 단계별로 인구를 합계\n",
        "p_total = p_male+p_female\n",
        "print(p_total)\n",
        "# 연도별 인구로 수정\n",
        "p_yearly = p_total.sum(axis=1)\n",
        "p_yearly"
      ],
      "execution_count": 0,
      "outputs": [
        {
          "output_type": "stream",
          "text": [
            "[[8712. 8803. 8684. ...    0.    0.    0.]\n",
            " [9251. 8581. 8645. ...    0.    0.    0.]\n",
            " [7858. 8734. 8692. ...    0.    0.    0.]\n",
            " ...\n",
            " [5272. 5407. 5868. ... 1146.  331.   51.]\n",
            " [5239. 5361. 5790. ... 1215.  343.   55.]\n",
            " [5213. 5307. 5713. ... 1305.  352.   60.]]\n"
          ],
          "name": "stdout"
        },
        {
          "output_type": "execute_result",
          "data": {
            "text/plain": [
              "array([ 73063.,  71999.,  73115.,  78101.,  80003.,  81771.,  83199.,\n",
              "        84571.,  85854.,  87034.,  88294.,  89277.,  90258.,  91086.,\n",
              "        92010.,  92971.,  93420.,  94285.,  95179.,  96157.,  97187.,\n",
              "        98275.,  99054., 100244., 101410., 102649., 103719., 105013.,\n",
              "       107334., 108709., 110050., 111940., 113086., 114153., 115174.,\n",
              "       116131., 117061., 117879., 118693., 119485., 120237., 121046.,\n",
              "       121672., 122264., 122784., 123254., 123611., 124044., 124452.,\n",
              "       124765., 125033., 125568., 125865., 126169., 126485., 126685.,\n",
              "       126923., 127289., 127433., 127618., 127687., 127766., 127769.,\n",
              "       127767., 127690., 127509., 128057., 127799., 127513., 127295.,\n",
              "       127082.])"
            ]
          },
          "metadata": {
            "tags": []
          },
          "execution_count": 101
        }
      ]
    },
    {
      "metadata": {
        "id": "ZKlEhgCCDvJm",
        "colab_type": "code",
        "colab": {}
      },
      "cell_type": "code",
      "source": [
        "# 연도별 인구를 그래프화 한다\n",
        "%matplotlib inline\n",
        "import matplotlib.pyplot as plt\n",
        "\n",
        "t = plt.plot(range(1944, 2015), p_yearly, '^')\n",
        "plt.ylim((0, 130000))\n",
        "plt.grid(True)"
      ],
      "execution_count": 0,
      "outputs": []
    },
    {
      "metadata": {
        "id": "H9QDOZ0eDvJn",
        "colab_type": "code",
        "colab": {}
      },
      "cell_type": "code",
      "source": [
        "# 출생률(합계 특수 출생률) 그래프를 그린다\n",
        "# 1960년에서 2014년을 읽어 들임\n",
        "tfr = np.loadtxt('total_fertility_rate.csv', delimiter=\",\", skiprows=1)\n",
        "# 출산율 그래프를 그린다\n",
        "t = plt.plot(range(1960, 2015), tfr, ls=\":\")\n",
        "# 인구 치환 경계선을 2.07로 하여 선을 그림\n",
        "t = plt.plot([1960, 2015], [2.07, 2.07]) # 출생률이 이 선보다 낮으면 인구수가 낮다는 것을 알려줌"
      ],
      "execution_count": 0,
      "outputs": []
    },
    {
      "metadata": {
        "id": "UzBxlCklDvJq",
        "colab_type": "text"
      },
      "cell_type": "markdown",
      "source": [
        "### 인구 피라미드를 그린다"
      ]
    },
    {
      "metadata": {
        "id": "GC_FTjxaDvJq",
        "colab_type": "code",
        "colab": {}
      },
      "cell_type": "code",
      "source": [
        "# show_pgraph( ) 함수의 정의\n",
        "from matplotlib import gridspec\n",
        "\n",
        "def show_pgraph(year, arr1, arr2, arr3,\n",
        "                ymin, ymax, ydim=1):\n",
        "#     fig = plt.figure(figsize=(10,9))\n",
        "    # 인구 피라미드를 표시\n",
        "    # 표시하는 인구의 인덱스를 가져옴 (1년 간격)\n",
        "    idx = int((year-ymin)/ydim)\n",
        "    # 인구 피라미드와 인구 그래프의 그리드를 생성\n",
        "    gs = gridspec.GridSpec(2, 2, height_ratios=(3, 2))\n",
        "    # 그래프의 배치를 결정\n",
        "    ax = [plt.subplot(gs[0, 0]),plt.subplot(gs[0, 1]),\n",
        "          plt.subplot(gs[1, :])]\n",
        "    # 남성 인구 피라미드를 그림\n",
        "    ax[0].barh(range(0, 101, 5), arr1[idx], height=3) #0부터 100세까지 5살 단위로\n",
        "    ax[0].set(ylim=(0, 100), xlim=(0, 6000))\n",
        "    ax[0].invert_xaxis() \n",
        "    ax[0].yaxis.tick_right()\n",
        "    # 여성 인구 피라미드를 그림\n",
        "    ax[1].barh(range(0, 101, 5), arr2[idx], height=4) \n",
        "    ax[1].tick_params(labelleft='off') \n",
        "    ax[1].set(ylim=(0, 100), xlim=(0, 6000))\n",
        "    # 인구 그래프를 그림\n",
        "    ax[2].plot(range(ymin, ymax+1, ydim), arr3, ls=\":\")\n",
        "    ax[2].plot([year, year], [0, 140000])"
      ],
      "execution_count": 0,
      "outputs": []
    },
    {
      "metadata": {
        "id": "3RS4MagGDvJu",
        "colab_type": "code",
        "outputId": "9f8595c4-a6ba-48ab-c347-891457926a33",
        "colab": {
          "base_uri": "https://localhost:8080/",
          "height": 269
        }
      },
      "cell_type": "code",
      "source": [
        "# 인구 피라미드의 그래프를 그린다\n",
        "show_pgraph(1950, p_male, p_female, p_yearly,\n",
        "            1944, 2014)"
      ],
      "execution_count": 0,
      "outputs": [
        {
          "output_type": "display_data",
          "data": {
            "image/png": "[encoded data removed]",
            "text/plain": [
              "<matplotlib.figure.Figure at 0x7f043a4d3400>"
            ]
          },
          "metadata": {
            "tags": []
          }
        }
      ]
    },
    {
      "metadata": {
        "id": "ppyxa4SgDvJx",
        "colab_type": "text"
      },
      "cell_type": "markdown",
      "source": [
        "> year를 변경해서 그래프를 그려보시오."
      ]
    },
    {
      "metadata": {
        "id": "uYcg8U_tDvJx",
        "colab_type": "text"
      },
      "cell_type": "markdown",
      "source": [
        "***"
      ]
    },
    {
      "metadata": {
        "id": "EC3uNTpuDvJx",
        "colab_type": "text"
      },
      "cell_type": "markdown",
      "source": [
        "## 특강안내\n",
        "\n",
        "### VR 응용과 전망 (HC 관련 내용 포함)\n",
        "\n",
        "### 11월8일(목) 4시~6시, 신어관 101호 강당"
      ]
    },
    {
      "metadata": {
        "id": "myJte2PODvJy",
        "colab_type": "text"
      },
      "cell_type": "markdown",
      "source": [
        "***"
      ]
    },
    {
      "metadata": {
        "id": "LHQCrMnzDvJy",
        "colab_type": "text"
      },
      "cell_type": "markdown",
      "source": [
        "### [wk10] homework\n",
        "\n",
        "#### 다음 파이썬 노트북 [tips_reshape](https://github.com/Redwoods/Py/blob/master/py-basic/tips/Tips_py_reshape.ipynb) 을 colab에서 실행하고 설명을 추가해서 github에 올리시오.(마감: 2018.11.11(일). 24:00)\n",
        "\n",
        "> 제출 파일명: Summary_reshape.ipynb"
      ]
    },
    {
      "metadata": {
        "id": "OS5WBj8eDvJy",
        "colab_type": "text"
      },
      "cell_type": "markdown",
      "source": [
        "***"
      ]
    },
    {
      "metadata": {
        "id": "10X8UJljDvJz",
        "colab_type": "code",
        "colab": {}
      },
      "cell_type": "code",
      "source": [
        ""
      ],
      "execution_count": 0,
      "outputs": []
    }
  ]
}